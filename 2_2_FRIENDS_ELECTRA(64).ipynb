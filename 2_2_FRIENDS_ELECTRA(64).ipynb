{
  "nbformat": 4,
  "nbformat_minor": 0,
  "metadata": {
    "colab": {
      "name": "2-2. FRIENDS_ELECTRA(64).ipynb",
      "provenance": [],
      "collapsed_sections": [],
      "mount_file_id": "1UhC_svCNScndorgU2jl1jtVlfpFVcm3B",
      "authorship_tag": "ABX9TyPtenzeML836hp/pF3K4yGm",
      "include_colab_link": true
    },
    "kernelspec": {
      "name": "python3",
      "display_name": "Python 3"
    },
    "accelerator": "GPU",
    "widgets": {
      "application/vnd.jupyter.widget-state+json": {
        "9a42a070818146aba1134e39e6b239d1": {
          "model_module": "@jupyter-widgets/controls",
          "model_name": "HBoxModel",
          "state": {
            "_view_name": "HBoxView",
            "_dom_classes": [],
            "_model_name": "HBoxModel",
            "_view_module": "@jupyter-widgets/controls",
            "_model_module_version": "1.5.0",
            "_view_count": null,
            "_view_module_version": "1.5.0",
            "box_style": "",
            "layout": "IPY_MODEL_cad55e652be349ee992b8544e0ec7587",
            "_model_module": "@jupyter-widgets/controls",
            "children": [
              "IPY_MODEL_bd601803c81045c486845de25189ed0f",
              "IPY_MODEL_a51745e71fdf40a1a3370c56208a6c26"
            ]
          }
        },
        "cad55e652be349ee992b8544e0ec7587": {
          "model_module": "@jupyter-widgets/base",
          "model_name": "LayoutModel",
          "state": {
            "_view_name": "LayoutView",
            "grid_template_rows": null,
            "right": null,
            "justify_content": null,
            "_view_module": "@jupyter-widgets/base",
            "overflow": null,
            "_model_module_version": "1.2.0",
            "_view_count": null,
            "flex_flow": null,
            "width": null,
            "min_width": null,
            "border": null,
            "align_items": null,
            "bottom": null,
            "_model_module": "@jupyter-widgets/base",
            "top": null,
            "grid_column": null,
            "overflow_y": null,
            "overflow_x": null,
            "grid_auto_flow": null,
            "grid_area": null,
            "grid_template_columns": null,
            "flex": null,
            "_model_name": "LayoutModel",
            "justify_items": null,
            "grid_row": null,
            "max_height": null,
            "align_content": null,
            "visibility": null,
            "align_self": null,
            "height": null,
            "min_height": null,
            "padding": null,
            "grid_auto_rows": null,
            "grid_gap": null,
            "max_width": null,
            "order": null,
            "_view_module_version": "1.2.0",
            "grid_template_areas": null,
            "object_position": null,
            "object_fit": null,
            "grid_auto_columns": null,
            "margin": null,
            "display": null,
            "left": null
          }
        },
        "bd601803c81045c486845de25189ed0f": {
          "model_module": "@jupyter-widgets/controls",
          "model_name": "FloatProgressModel",
          "state": {
            "_view_name": "ProgressView",
            "style": "IPY_MODEL_2ae89473effc464b917834e166dd1116",
            "_dom_classes": [],
            "description": "Downloading: 100%",
            "_model_name": "FloatProgressModel",
            "bar_style": "success",
            "max": 231508,
            "_view_module": "@jupyter-widgets/controls",
            "_model_module_version": "1.5.0",
            "value": 231508,
            "_view_count": null,
            "_view_module_version": "1.5.0",
            "orientation": "horizontal",
            "min": 0,
            "description_tooltip": null,
            "_model_module": "@jupyter-widgets/controls",
            "layout": "IPY_MODEL_8c3daeb4650f4d52bda52a9b9b485876"
          }
        },
        "a51745e71fdf40a1a3370c56208a6c26": {
          "model_module": "@jupyter-widgets/controls",
          "model_name": "HTMLModel",
          "state": {
            "_view_name": "HTMLView",
            "style": "IPY_MODEL_a685dd26e6c84fffa900e4cd6c9e8cf2",
            "_dom_classes": [],
            "description": "",
            "_model_name": "HTMLModel",
            "placeholder": "​",
            "_view_module": "@jupyter-widgets/controls",
            "_model_module_version": "1.5.0",
            "value": " 232k/232k [00:03&lt;00:00, 74.0kB/s]",
            "_view_count": null,
            "_view_module_version": "1.5.0",
            "description_tooltip": null,
            "_model_module": "@jupyter-widgets/controls",
            "layout": "IPY_MODEL_5d8c9ea6f5f34b7d9c7bc1422ea87990"
          }
        },
        "2ae89473effc464b917834e166dd1116": {
          "model_module": "@jupyter-widgets/controls",
          "model_name": "ProgressStyleModel",
          "state": {
            "_view_name": "StyleView",
            "_model_name": "ProgressStyleModel",
            "description_width": "initial",
            "_view_module": "@jupyter-widgets/base",
            "_model_module_version": "1.5.0",
            "_view_count": null,
            "_view_module_version": "1.2.0",
            "bar_color": null,
            "_model_module": "@jupyter-widgets/controls"
          }
        },
        "8c3daeb4650f4d52bda52a9b9b485876": {
          "model_module": "@jupyter-widgets/base",
          "model_name": "LayoutModel",
          "state": {
            "_view_name": "LayoutView",
            "grid_template_rows": null,
            "right": null,
            "justify_content": null,
            "_view_module": "@jupyter-widgets/base",
            "overflow": null,
            "_model_module_version": "1.2.0",
            "_view_count": null,
            "flex_flow": null,
            "width": null,
            "min_width": null,
            "border": null,
            "align_items": null,
            "bottom": null,
            "_model_module": "@jupyter-widgets/base",
            "top": null,
            "grid_column": null,
            "overflow_y": null,
            "overflow_x": null,
            "grid_auto_flow": null,
            "grid_area": null,
            "grid_template_columns": null,
            "flex": null,
            "_model_name": "LayoutModel",
            "justify_items": null,
            "grid_row": null,
            "max_height": null,
            "align_content": null,
            "visibility": null,
            "align_self": null,
            "height": null,
            "min_height": null,
            "padding": null,
            "grid_auto_rows": null,
            "grid_gap": null,
            "max_width": null,
            "order": null,
            "_view_module_version": "1.2.0",
            "grid_template_areas": null,
            "object_position": null,
            "object_fit": null,
            "grid_auto_columns": null,
            "margin": null,
            "display": null,
            "left": null
          }
        },
        "a685dd26e6c84fffa900e4cd6c9e8cf2": {
          "model_module": "@jupyter-widgets/controls",
          "model_name": "DescriptionStyleModel",
          "state": {
            "_view_name": "StyleView",
            "_model_name": "DescriptionStyleModel",
            "description_width": "",
            "_view_module": "@jupyter-widgets/base",
            "_model_module_version": "1.5.0",
            "_view_count": null,
            "_view_module_version": "1.2.0",
            "_model_module": "@jupyter-widgets/controls"
          }
        },
        "5d8c9ea6f5f34b7d9c7bc1422ea87990": {
          "model_module": "@jupyter-widgets/base",
          "model_name": "LayoutModel",
          "state": {
            "_view_name": "LayoutView",
            "grid_template_rows": null,
            "right": null,
            "justify_content": null,
            "_view_module": "@jupyter-widgets/base",
            "overflow": null,
            "_model_module_version": "1.2.0",
            "_view_count": null,
            "flex_flow": null,
            "width": null,
            "min_width": null,
            "border": null,
            "align_items": null,
            "bottom": null,
            "_model_module": "@jupyter-widgets/base",
            "top": null,
            "grid_column": null,
            "overflow_y": null,
            "overflow_x": null,
            "grid_auto_flow": null,
            "grid_area": null,
            "grid_template_columns": null,
            "flex": null,
            "_model_name": "LayoutModel",
            "justify_items": null,
            "grid_row": null,
            "max_height": null,
            "align_content": null,
            "visibility": null,
            "align_self": null,
            "height": null,
            "min_height": null,
            "padding": null,
            "grid_auto_rows": null,
            "grid_gap": null,
            "max_width": null,
            "order": null,
            "_view_module_version": "1.2.0",
            "grid_template_areas": null,
            "object_position": null,
            "object_fit": null,
            "grid_auto_columns": null,
            "margin": null,
            "display": null,
            "left": null
          }
        }
      }
    }
  },
  "cells": [
    {
      "cell_type": "markdown",
      "metadata": {
        "id": "view-in-github",
        "colab_type": "text"
      },
      "source": [
        "<a href=\"https://colab.research.google.com/github/sweetbaer03/EN_Sentiment-Analysis/blob/main/2_2_FRIENDS_ELECTRA(64).ipynb\" target=\"_parent\"><img src=\"https://colab.research.google.com/assets/colab-badge.svg\" alt=\"Open In Colab\"/></a>"
      ]
    },
    {
      "cell_type": "markdown",
      "metadata": {
        "id": "Tb0PNX9aZi0p"
      },
      "source": [
        "**FRIENDS Sentiment Analysis**\r\n",
        "\r\n",
        "\r\n",
        "ELECTRA 모델 사용 "
      ]
    },
    {
      "cell_type": "code",
      "metadata": {
        "colab": {
          "base_uri": "https://localhost:8080/"
        },
        "id": "PKkEByjh5y_h",
        "outputId": "f26b740b-ad92-4de6-bb08-1d4eae53c8b9"
      },
      "source": [
        "#transformers 설치(colab 사용시)\r\n",
        "!pip install transformers"
      ],
      "execution_count": 1,
      "outputs": [
        {
          "output_type": "stream",
          "text": [
            "Collecting transformers\n",
            "\u001b[?25l  Downloading https://files.pythonhosted.org/packages/50/0c/7d5950fcd80b029be0a8891727ba21e0cd27692c407c51261c3c921f6da3/transformers-4.1.1-py3-none-any.whl (1.5MB)\n",
            "\r\u001b[K     |▏                               | 10kB 19.7MB/s eta 0:00:01\r\u001b[K     |▍                               | 20kB 23.3MB/s eta 0:00:01\r\u001b[K     |▋                               | 30kB 25.6MB/s eta 0:00:01\r\u001b[K     |▉                               | 40kB 20.4MB/s eta 0:00:01\r\u001b[K     |█                               | 51kB 16.7MB/s eta 0:00:01\r\u001b[K     |█▎                              | 61kB 18.3MB/s eta 0:00:01\r\u001b[K     |█▌                              | 71kB 12.7MB/s eta 0:00:01\r\u001b[K     |█▊                              | 81kB 13.7MB/s eta 0:00:01\r\u001b[K     |██                              | 92kB 13.8MB/s eta 0:00:01\r\u001b[K     |██▏                             | 102kB 13.0MB/s eta 0:00:01\r\u001b[K     |██▍                             | 112kB 13.0MB/s eta 0:00:01\r\u001b[K     |██▋                             | 122kB 13.0MB/s eta 0:00:01\r\u001b[K     |██▉                             | 133kB 13.0MB/s eta 0:00:01\r\u001b[K     |███                             | 143kB 13.0MB/s eta 0:00:01\r\u001b[K     |███▎                            | 153kB 13.0MB/s eta 0:00:01\r\u001b[K     |███▌                            | 163kB 13.0MB/s eta 0:00:01\r\u001b[K     |███▊                            | 174kB 13.0MB/s eta 0:00:01\r\u001b[K     |████                            | 184kB 13.0MB/s eta 0:00:01\r\u001b[K     |████▏                           | 194kB 13.0MB/s eta 0:00:01\r\u001b[K     |████▎                           | 204kB 13.0MB/s eta 0:00:01\r\u001b[K     |████▌                           | 215kB 13.0MB/s eta 0:00:01\r\u001b[K     |████▊                           | 225kB 13.0MB/s eta 0:00:01\r\u001b[K     |█████                           | 235kB 13.0MB/s eta 0:00:01\r\u001b[K     |█████▏                          | 245kB 13.0MB/s eta 0:00:01\r\u001b[K     |█████▍                          | 256kB 13.0MB/s eta 0:00:01\r\u001b[K     |█████▋                          | 266kB 13.0MB/s eta 0:00:01\r\u001b[K     |█████▉                          | 276kB 13.0MB/s eta 0:00:01\r\u001b[K     |██████                          | 286kB 13.0MB/s eta 0:00:01\r\u001b[K     |██████▎                         | 296kB 13.0MB/s eta 0:00:01\r\u001b[K     |██████▌                         | 307kB 13.0MB/s eta 0:00:01\r\u001b[K     |██████▊                         | 317kB 13.0MB/s eta 0:00:01\r\u001b[K     |███████                         | 327kB 13.0MB/s eta 0:00:01\r\u001b[K     |███████▏                        | 337kB 13.0MB/s eta 0:00:01\r\u001b[K     |███████▍                        | 348kB 13.0MB/s eta 0:00:01\r\u001b[K     |███████▋                        | 358kB 13.0MB/s eta 0:00:01\r\u001b[K     |███████▉                        | 368kB 13.0MB/s eta 0:00:01\r\u001b[K     |████████                        | 378kB 13.0MB/s eta 0:00:01\r\u001b[K     |████████▎                       | 389kB 13.0MB/s eta 0:00:01\r\u001b[K     |████████▌                       | 399kB 13.0MB/s eta 0:00:01\r\u001b[K     |████████▋                       | 409kB 13.0MB/s eta 0:00:01\r\u001b[K     |████████▉                       | 419kB 13.0MB/s eta 0:00:01\r\u001b[K     |█████████                       | 430kB 13.0MB/s eta 0:00:01\r\u001b[K     |█████████▎                      | 440kB 13.0MB/s eta 0:00:01\r\u001b[K     |█████████▌                      | 450kB 13.0MB/s eta 0:00:01\r\u001b[K     |█████████▊                      | 460kB 13.0MB/s eta 0:00:01\r\u001b[K     |██████████                      | 471kB 13.0MB/s eta 0:00:01\r\u001b[K     |██████████▏                     | 481kB 13.0MB/s eta 0:00:01\r\u001b[K     |██████████▍                     | 491kB 13.0MB/s eta 0:00:01\r\u001b[K     |██████████▋                     | 501kB 13.0MB/s eta 0:00:01\r\u001b[K     |██████████▉                     | 512kB 13.0MB/s eta 0:00:01\r\u001b[K     |███████████                     | 522kB 13.0MB/s eta 0:00:01\r\u001b[K     |███████████▎                    | 532kB 13.0MB/s eta 0:00:01\r\u001b[K     |███████████▌                    | 542kB 13.0MB/s eta 0:00:01\r\u001b[K     |███████████▊                    | 552kB 13.0MB/s eta 0:00:01\r\u001b[K     |████████████                    | 563kB 13.0MB/s eta 0:00:01\r\u001b[K     |████████████▏                   | 573kB 13.0MB/s eta 0:00:01\r\u001b[K     |████████████▍                   | 583kB 13.0MB/s eta 0:00:01\r\u001b[K     |████████████▋                   | 593kB 13.0MB/s eta 0:00:01\r\u001b[K     |████████████▉                   | 604kB 13.0MB/s eta 0:00:01\r\u001b[K     |█████████████                   | 614kB 13.0MB/s eta 0:00:01\r\u001b[K     |█████████████▏                  | 624kB 13.0MB/s eta 0:00:01\r\u001b[K     |█████████████▍                  | 634kB 13.0MB/s eta 0:00:01\r\u001b[K     |█████████████▋                  | 645kB 13.0MB/s eta 0:00:01\r\u001b[K     |█████████████▉                  | 655kB 13.0MB/s eta 0:00:01\r\u001b[K     |██████████████                  | 665kB 13.0MB/s eta 0:00:01\r\u001b[K     |██████████████▎                 | 675kB 13.0MB/s eta 0:00:01\r\u001b[K     |██████████████▌                 | 686kB 13.0MB/s eta 0:00:01\r\u001b[K     |██████████████▊                 | 696kB 13.0MB/s eta 0:00:01\r\u001b[K     |███████████████                 | 706kB 13.0MB/s eta 0:00:01\r\u001b[K     |███████████████▏                | 716kB 13.0MB/s eta 0:00:01\r\u001b[K     |███████████████▍                | 727kB 13.0MB/s eta 0:00:01\r\u001b[K     |███████████████▋                | 737kB 13.0MB/s eta 0:00:01\r\u001b[K     |███████████████▉                | 747kB 13.0MB/s eta 0:00:01\r\u001b[K     |████████████████                | 757kB 13.0MB/s eta 0:00:01\r\u001b[K     |████████████████▎               | 768kB 13.0MB/s eta 0:00:01\r\u001b[K     |████████████████▌               | 778kB 13.0MB/s eta 0:00:01\r\u001b[K     |████████████████▊               | 788kB 13.0MB/s eta 0:00:01\r\u001b[K     |█████████████████               | 798kB 13.0MB/s eta 0:00:01\r\u001b[K     |█████████████████               | 808kB 13.0MB/s eta 0:00:01\r\u001b[K     |█████████████████▎              | 819kB 13.0MB/s eta 0:00:01\r\u001b[K     |█████████████████▌              | 829kB 13.0MB/s eta 0:00:01\r\u001b[K     |█████████████████▊              | 839kB 13.0MB/s eta 0:00:01\r\u001b[K     |██████████████████              | 849kB 13.0MB/s eta 0:00:01\r\u001b[K     |██████████████████▏             | 860kB 13.0MB/s eta 0:00:01\r\u001b[K     |██████████████████▍             | 870kB 13.0MB/s eta 0:00:01\r\u001b[K     |██████████████████▋             | 880kB 13.0MB/s eta 0:00:01\r\u001b[K     |██████████████████▉             | 890kB 13.0MB/s eta 0:00:01\r\u001b[K     |███████████████████             | 901kB 13.0MB/s eta 0:00:01\r\u001b[K     |███████████████████▎            | 911kB 13.0MB/s eta 0:00:01\r\u001b[K     |███████████████████▌            | 921kB 13.0MB/s eta 0:00:01\r\u001b[K     |███████████████████▊            | 931kB 13.0MB/s eta 0:00:01\r\u001b[K     |████████████████████            | 942kB 13.0MB/s eta 0:00:01\r\u001b[K     |████████████████████▏           | 952kB 13.0MB/s eta 0:00:01\r\u001b[K     |████████████████████▍           | 962kB 13.0MB/s eta 0:00:01\r\u001b[K     |████████████████████▋           | 972kB 13.0MB/s eta 0:00:01\r\u001b[K     |████████████████████▉           | 983kB 13.0MB/s eta 0:00:01\r\u001b[K     |█████████████████████           | 993kB 13.0MB/s eta 0:00:01\r\u001b[K     |█████████████████████▎          | 1.0MB 13.0MB/s eta 0:00:01\r\u001b[K     |█████████████████████▍          | 1.0MB 13.0MB/s eta 0:00:01\r\u001b[K     |█████████████████████▋          | 1.0MB 13.0MB/s eta 0:00:01\r\u001b[K     |█████████████████████▉          | 1.0MB 13.0MB/s eta 0:00:01\r\u001b[K     |██████████████████████          | 1.0MB 13.0MB/s eta 0:00:01\r\u001b[K     |██████████████████████▎         | 1.1MB 13.0MB/s eta 0:00:01\r\u001b[K     |██████████████████████▌         | 1.1MB 13.0MB/s eta 0:00:01\r\u001b[K     |██████████████████████▊         | 1.1MB 13.0MB/s eta 0:00:01\r\u001b[K     |███████████████████████         | 1.1MB 13.0MB/s eta 0:00:01\r\u001b[K     |███████████████████████▏        | 1.1MB 13.0MB/s eta 0:00:01\r\u001b[K     |███████████████████████▍        | 1.1MB 13.0MB/s eta 0:00:01\r\u001b[K     |███████████████████████▋        | 1.1MB 13.0MB/s eta 0:00:01\r\u001b[K     |███████████████████████▉        | 1.1MB 13.0MB/s eta 0:00:01\r\u001b[K     |████████████████████████        | 1.1MB 13.0MB/s eta 0:00:01\r\u001b[K     |████████████████████████▎       | 1.1MB 13.0MB/s eta 0:00:01\r\u001b[K     |████████████████████████▌       | 1.2MB 13.0MB/s eta 0:00:01\r\u001b[K     |████████████████████████▊       | 1.2MB 13.0MB/s eta 0:00:01\r\u001b[K     |█████████████████████████       | 1.2MB 13.0MB/s eta 0:00:01\r\u001b[K     |█████████████████████████▏      | 1.2MB 13.0MB/s eta 0:00:01\r\u001b[K     |█████████████████████████▍      | 1.2MB 13.0MB/s eta 0:00:01\r\u001b[K     |█████████████████████████▋      | 1.2MB 13.0MB/s eta 0:00:01\r\u001b[K     |█████████████████████████▊      | 1.2MB 13.0MB/s eta 0:00:01\r\u001b[K     |██████████████████████████      | 1.2MB 13.0MB/s eta 0:00:01\r\u001b[K     |██████████████████████████▏     | 1.2MB 13.0MB/s eta 0:00:01\r\u001b[K     |██████████████████████████▍     | 1.2MB 13.0MB/s eta 0:00:01\r\u001b[K     |██████████████████████████▋     | 1.3MB 13.0MB/s eta 0:00:01\r\u001b[K     |██████████████████████████▉     | 1.3MB 13.0MB/s eta 0:00:01\r\u001b[K     |███████████████████████████     | 1.3MB 13.0MB/s eta 0:00:01\r\u001b[K     |███████████████████████████▎    | 1.3MB 13.0MB/s eta 0:00:01\r\u001b[K     |███████████████████████████▌    | 1.3MB 13.0MB/s eta 0:00:01\r\u001b[K     |███████████████████████████▊    | 1.3MB 13.0MB/s eta 0:00:01\r\u001b[K     |████████████████████████████    | 1.3MB 13.0MB/s eta 0:00:01\r\u001b[K     |████████████████████████████▏   | 1.3MB 13.0MB/s eta 0:00:01\r\u001b[K     |████████████████████████████▍   | 1.3MB 13.0MB/s eta 0:00:01\r\u001b[K     |████████████████████████████▋   | 1.4MB 13.0MB/s eta 0:00:01\r\u001b[K     |████████████████████████████▉   | 1.4MB 13.0MB/s eta 0:00:01\r\u001b[K     |█████████████████████████████   | 1.4MB 13.0MB/s eta 0:00:01\r\u001b[K     |█████████████████████████████▎  | 1.4MB 13.0MB/s eta 0:00:01\r\u001b[K     |█████████████████████████████▌  | 1.4MB 13.0MB/s eta 0:00:01\r\u001b[K     |█████████████████████████████▊  | 1.4MB 13.0MB/s eta 0:00:01\r\u001b[K     |█████████████████████████████▉  | 1.4MB 13.0MB/s eta 0:00:01\r\u001b[K     |██████████████████████████████  | 1.4MB 13.0MB/s eta 0:00:01\r\u001b[K     |██████████████████████████████▎ | 1.4MB 13.0MB/s eta 0:00:01\r\u001b[K     |██████████████████████████████▌ | 1.4MB 13.0MB/s eta 0:00:01\r\u001b[K     |██████████████████████████████▊ | 1.5MB 13.0MB/s eta 0:00:01\r\u001b[K     |███████████████████████████████ | 1.5MB 13.0MB/s eta 0:00:01\r\u001b[K     |███████████████████████████████▏| 1.5MB 13.0MB/s eta 0:00:01\r\u001b[K     |███████████████████████████████▍| 1.5MB 13.0MB/s eta 0:00:01\r\u001b[K     |███████████████████████████████▋| 1.5MB 13.0MB/s eta 0:00:01\r\u001b[K     |███████████████████████████████▉| 1.5MB 13.0MB/s eta 0:00:01\r\u001b[K     |████████████████████████████████| 1.5MB 13.0MB/s \n",
            "\u001b[?25hRequirement already satisfied: filelock in /usr/local/lib/python3.6/dist-packages (from transformers) (3.0.12)\n",
            "Requirement already satisfied: packaging in /usr/local/lib/python3.6/dist-packages (from transformers) (20.8)\n",
            "Requirement already satisfied: dataclasses; python_version < \"3.7\" in /usr/local/lib/python3.6/dist-packages (from transformers) (0.8)\n",
            "Requirement already satisfied: tqdm>=4.27 in /usr/local/lib/python3.6/dist-packages (from transformers) (4.41.1)\n",
            "Requirement already satisfied: requests in /usr/local/lib/python3.6/dist-packages (from transformers) (2.23.0)\n",
            "Requirement already satisfied: regex!=2019.12.17 in /usr/local/lib/python3.6/dist-packages (from transformers) (2019.12.20)\n",
            "Collecting tokenizers==0.9.4\n",
            "\u001b[?25l  Downloading https://files.pythonhosted.org/packages/0f/1c/e789a8b12e28be5bc1ce2156cf87cb522b379be9cadc7ad8091a4cc107c4/tokenizers-0.9.4-cp36-cp36m-manylinux2010_x86_64.whl (2.9MB)\n",
            "\u001b[K     |████████████████████████████████| 2.9MB 38.6MB/s \n",
            "\u001b[?25hCollecting sacremoses\n",
            "\u001b[?25l  Downloading https://files.pythonhosted.org/packages/7d/34/09d19aff26edcc8eb2a01bed8e98f13a1537005d31e95233fd48216eed10/sacremoses-0.0.43.tar.gz (883kB)\n",
            "\u001b[K     |████████████████████████████████| 890kB 44.0MB/s \n",
            "\u001b[?25hRequirement already satisfied: numpy in /usr/local/lib/python3.6/dist-packages (from transformers) (1.19.4)\n",
            "Requirement already satisfied: pyparsing>=2.0.2 in /usr/local/lib/python3.6/dist-packages (from packaging->transformers) (2.4.7)\n",
            "Requirement already satisfied: certifi>=2017.4.17 in /usr/local/lib/python3.6/dist-packages (from requests->transformers) (2020.12.5)\n",
            "Requirement already satisfied: chardet<4,>=3.0.2 in /usr/local/lib/python3.6/dist-packages (from requests->transformers) (3.0.4)\n",
            "Requirement already satisfied: idna<3,>=2.5 in /usr/local/lib/python3.6/dist-packages (from requests->transformers) (2.10)\n",
            "Requirement already satisfied: urllib3!=1.25.0,!=1.25.1,<1.26,>=1.21.1 in /usr/local/lib/python3.6/dist-packages (from requests->transformers) (1.24.3)\n",
            "Requirement already satisfied: six in /usr/local/lib/python3.6/dist-packages (from sacremoses->transformers) (1.15.0)\n",
            "Requirement already satisfied: click in /usr/local/lib/python3.6/dist-packages (from sacremoses->transformers) (7.1.2)\n",
            "Requirement already satisfied: joblib in /usr/local/lib/python3.6/dist-packages (from sacremoses->transformers) (1.0.0)\n",
            "Building wheels for collected packages: sacremoses\n",
            "  Building wheel for sacremoses (setup.py) ... \u001b[?25l\u001b[?25hdone\n",
            "  Created wheel for sacremoses: filename=sacremoses-0.0.43-cp36-none-any.whl size=893261 sha256=9b5243157fdf60c9fffc7cf3eb7f3d103e403b704774874a2600e2e7a4edd6c5\n",
            "  Stored in directory: /root/.cache/pip/wheels/29/3c/fd/7ce5c3f0666dab31a50123635e6fb5e19ceb42ce38d4e58f45\n",
            "Successfully built sacremoses\n",
            "Installing collected packages: tokenizers, sacremoses, transformers\n",
            "Successfully installed sacremoses-0.0.43 tokenizers-0.9.4 transformers-4.1.1\n"
          ],
          "name": "stdout"
        }
      ]
    },
    {
      "cell_type": "code",
      "metadata": {
        "id": "D4L8v9ECIs-k"
      },
      "source": [
        "import tensorflow as tf\n",
        "import torch\n",
        "import pandas as pd\n",
        "import numpy as np\n",
        "import random\n",
        "import time\n",
        "import datetime\n",
        "import json\n",
        "import re\n",
        "import nltk\n",
        "import matplotlib.pyplot as plt\n",
        "\n",
        "from transformers import ElectraTokenizer, ElectraForSequenceClassification\n",
        "from transformers import BertTokenizer\n",
        "from transformers import BertForSequenceClassification, AdamW, BertConfig\n",
        "from transformers import get_linear_schedule_with_warmup\n",
        "from torch.utils.data import TensorDataset, DataLoader, RandomSampler, SequentialSampler\n",
        "from keras.preprocessing.sequence import pad_sequences\n",
        "from sklearn.model_selection import train_test_split\n",
        "from sklearn.preprocessing import LabelEncoder\n"
      ],
      "execution_count": 2,
      "outputs": []
    },
    {
      "cell_type": "markdown",
      "metadata": {
        "id": "GIZWo5sLZptB"
      },
      "source": [
        "# 데이터처리"
      ]
    },
    {
      "cell_type": "code",
      "metadata": {
        "colab": {
          "base_uri": "https://localhost:8080/"
        },
        "id": "7b2jnOOJeaSe",
        "outputId": "656092fd-1d46-4a1a-a7d6-5d9de7ac7224"
      },
      "source": [
        "!git clone https://github.com/sweetbaer03/EN_Sentiment-Analysis.git"
      ],
      "execution_count": 3,
      "outputs": [
        {
          "output_type": "stream",
          "text": [
            "Cloning into 'EN_Sentiment-Analysis'...\n",
            "remote: Enumerating objects: 44, done.\u001b[K\n",
            "remote: Counting objects: 100% (44/44), done.\u001b[K\n",
            "remote: Compressing objects: 100% (41/41), done.\u001b[K\n",
            "remote: Total 44 (delta 18), reused 6 (delta 1), pack-reused 0\u001b[K\n",
            "Unpacking objects: 100% (44/44), done.\n"
          ],
          "name": "stdout"
        }
      ]
    },
    {
      "cell_type": "code",
      "metadata": {
        "id": "RLlzf3XhZsG3"
      },
      "source": [
        "#파라미터 수정\r\n",
        "MAX_LEN = 85\r\n",
        "batch_size = 64\r\n",
        "epochs = 20\r\n",
        "\r\n",
        "TOKEN_MODEL = 'google/electra-small-discriminator'\r\n",
        "TRAIN_MODEL = 'google/electra-small-generator'\r\n"
      ],
      "execution_count": 4,
      "outputs": []
    },
    {
      "cell_type": "markdown",
      "metadata": {
        "id": "_jxeGmpdZviu"
      },
      "source": [
        "## 1.1 프렌즈 / 캐글 테스트 데이터"
      ]
    },
    {
      "cell_type": "code",
      "metadata": {
        "id": "Dve0WGvuKyaZ"
      },
      "source": [
        "def jsonToDf(file_name):\n",
        "  with open(file_name, encoding = 'utf-8', mode = 'r') as file:\n",
        "    json_array = json.load(file)\n",
        "  \n",
        "  result = pd.DataFrame.from_dict(json_array[0])\n",
        "\n",
        "  is_first = True\n",
        "  for array in json_array:\n",
        "    if is_first:\n",
        "      is_first = False\n",
        "      continue\n",
        "    \n",
        "    temp_df = pd.DataFrame.from_dict(array)\n",
        "    result = result.append(temp_df, ignore_index = True)\n",
        "\n",
        "  return result"
      ],
      "execution_count": 5,
      "outputs": []
    },
    {
      "cell_type": "code",
      "metadata": {
        "id": "PBb5PrmqesC-"
      },
      "source": [
        "train_data = jsonToDf('EN_Sentiment-Analysis/data_in/friends_train.json')\r\n",
        "dev_data   = jsonToDf('EN_Sentiment-Analysis/data_in/friends_dev.json')\r\n",
        "test_data  = jsonToDf('EN_Sentiment-Analysis/data_in/friends_test.json')"
      ],
      "execution_count": 6,
      "outputs": []
    },
    {
      "cell_type": "code",
      "metadata": {
        "id": "HGBQ3XLFUMXI"
      },
      "source": [
        "#합치기 위해 포멧 통일\r\n",
        "train_data.drop(labels=['speaker','annotation'], axis=\"columns\", inplace=True)\r\n",
        "dev_data.drop(labels=['speaker','annotation'], axis=\"columns\", inplace=True)\r\n",
        "test_data.drop(labels=['speaker','annotation'], axis=\"columns\", inplace=True)"
      ],
      "execution_count": 7,
      "outputs": []
    },
    {
      "cell_type": "code",
      "metadata": {
        "id": "GtQIjp9yesD7"
      },
      "source": [
        "emotions = train_data['emotion'].values"
      ],
      "execution_count": 8,
      "outputs": []
    },
    {
      "cell_type": "markdown",
      "metadata": {
        "id": "n4L8yxjEZ6TN"
      },
      "source": [
        "**캐글** 테스트 데이터"
      ]
    },
    {
      "cell_type": "code",
      "metadata": {
        "id": "KdnQa_w-Z-Ep"
      },
      "source": [
        "test_df = pd.read_csv('EN_Sentiment-Analysis/data_in/en_data.csv')#, encoding = 'unicode_escape')"
      ],
      "execution_count": 9,
      "outputs": []
    },
    {
      "cell_type": "code",
      "metadata": {
        "colab": {
          "base_uri": "https://localhost:8080/",
          "height": 419
        },
        "id": "YFJzryJVZ-HR",
        "outputId": "b4b22a12-ff54-44bb-cb0d-3c9e24ccde84"
      },
      "source": [
        "test_df"
      ],
      "execution_count": 10,
      "outputs": [
        {
          "output_type": "execute_result",
          "data": {
            "text/html": [
              "<div>\n",
              "<style scoped>\n",
              "    .dataframe tbody tr th:only-of-type {\n",
              "        vertical-align: middle;\n",
              "    }\n",
              "\n",
              "    .dataframe tbody tr th {\n",
              "        vertical-align: top;\n",
              "    }\n",
              "\n",
              "    .dataframe thead th {\n",
              "        text-align: right;\n",
              "    }\n",
              "</style>\n",
              "<table border=\"1\" class=\"dataframe\">\n",
              "  <thead>\n",
              "    <tr style=\"text-align: right;\">\n",
              "      <th></th>\n",
              "      <th>id</th>\n",
              "      <th>i_dialog</th>\n",
              "      <th>i_utterance</th>\n",
              "      <th>speaker</th>\n",
              "      <th>utterance</th>\n",
              "    </tr>\n",
              "  </thead>\n",
              "  <tbody>\n",
              "    <tr>\n",
              "      <th>0</th>\n",
              "      <td>0</td>\n",
              "      <td>0</td>\n",
              "      <td>0</td>\n",
              "      <td>Phoebe</td>\n",
              "      <td>Alright, whadyou do with him?</td>\n",
              "    </tr>\n",
              "    <tr>\n",
              "      <th>1</th>\n",
              "      <td>1</td>\n",
              "      <td>0</td>\n",
              "      <td>1</td>\n",
              "      <td>Monica</td>\n",
              "      <td>Oh! You're awake!</td>\n",
              "    </tr>\n",
              "    <tr>\n",
              "      <th>2</th>\n",
              "      <td>2</td>\n",
              "      <td>0</td>\n",
              "      <td>2</td>\n",
              "      <td>Joey</td>\n",
              "      <td>Then you gotta come clean with Ma! This is not...</td>\n",
              "    </tr>\n",
              "    <tr>\n",
              "      <th>3</th>\n",
              "      <td>3</td>\n",
              "      <td>0</td>\n",
              "      <td>3</td>\n",
              "      <td>Mr. Tribbiani</td>\n",
              "      <td>Yeah, but this is</td>\n",
              "    </tr>\n",
              "    <tr>\n",
              "      <th>4</th>\n",
              "      <td>4</td>\n",
              "      <td>0</td>\n",
              "      <td>4</td>\n",
              "      <td>Joey</td>\n",
              "      <td>I don't wanna hear it! Now go to my room!</td>\n",
              "    </tr>\n",
              "    <tr>\n",
              "      <th>...</th>\n",
              "      <td>...</td>\n",
              "      <td>...</td>\n",
              "      <td>...</td>\n",
              "      <td>...</td>\n",
              "      <td>...</td>\n",
              "    </tr>\n",
              "    <tr>\n",
              "      <th>1618</th>\n",
              "      <td>1618</td>\n",
              "      <td>150</td>\n",
              "      <td>14</td>\n",
              "      <td>Joey</td>\n",
              "      <td>Nooo.</td>\n",
              "    </tr>\n",
              "    <tr>\n",
              "      <th>1619</th>\n",
              "      <td>1619</td>\n",
              "      <td>150</td>\n",
              "      <td>15</td>\n",
              "      <td>Lauren</td>\n",
              "      <td>Hi, Kate!</td>\n",
              "    </tr>\n",
              "    <tr>\n",
              "      <th>1620</th>\n",
              "      <td>1620</td>\n",
              "      <td>150</td>\n",
              "      <td>16</td>\n",
              "      <td>Kate</td>\n",
              "      <td>Hi, Lauren.</td>\n",
              "    </tr>\n",
              "    <tr>\n",
              "      <th>1621</th>\n",
              "      <td>1621</td>\n",
              "      <td>150</td>\n",
              "      <td>17</td>\n",
              "      <td>Joey</td>\n",
              "      <td>Hi, Lauren.</td>\n",
              "    </tr>\n",
              "    <tr>\n",
              "      <th>1622</th>\n",
              "      <td>1622</td>\n",
              "      <td>150</td>\n",
              "      <td>18</td>\n",
              "      <td>Lauren</td>\n",
              "      <td>Hi, pig!</td>\n",
              "    </tr>\n",
              "  </tbody>\n",
              "</table>\n",
              "<p>1623 rows × 5 columns</p>\n",
              "</div>"
            ],
            "text/plain": [
              "        id  ...                                          utterance\n",
              "0        0  ...                      Alright, whadyou do with him?\n",
              "1        1  ...                                  Oh! You're awake!\n",
              "2        2  ...  Then you gotta come clean with Ma! This is not...\n",
              "3        3  ...                                  Yeah, but this is\n",
              "4        4  ...          I don't wanna hear it! Now go to my room!\n",
              "...    ...  ...                                                ...\n",
              "1618  1618  ...                                              Nooo.\n",
              "1619  1619  ...                                          Hi, Kate!\n",
              "1620  1620  ...                                        Hi, Lauren.\n",
              "1621  1621  ...                                        Hi, Lauren.\n",
              "1622  1622  ...                                           Hi, pig!\n",
              "\n",
              "[1623 rows x 5 columns]"
            ]
          },
          "metadata": {
            "tags": []
          },
          "execution_count": 10
        }
      ]
    },
    {
      "cell_type": "markdown",
      "metadata": {
        "id": "X3_Pd54TaBP5"
      },
      "source": [
        "### 프랜즈 및 캐글테스트 마스크 처리"
      ]
    },
    {
      "cell_type": "markdown",
      "metadata": {
        "id": "LYWmejP_aDaj"
      },
      "source": [
        "프랜즈 데이터 마스크"
      ]
    },
    {
      "cell_type": "code",
      "metadata": {
        "colab": {
          "base_uri": "https://localhost:8080/"
        },
        "id": "ZM1ZPu__Z-Je",
        "outputId": "a5792d4a-91e3-4f2d-e76f-7344a7d873f8"
      },
      "source": [
        "print(train_data.shape)\r\n",
        "print(dev_data.shape)\r\n",
        "print(test_data.shape)\r\n",
        "print(test_df.shape)"
      ],
      "execution_count": null,
      "outputs": [
        {
          "output_type": "stream",
          "text": [
            "(10561, 2)\n",
            "(1178, 2)\n",
            "(2764, 2)\n",
            "(1623, 5)\n"
          ],
          "name": "stdout"
        }
      ]
    },
    {
      "cell_type": "code",
      "metadata": {
        "id": "lYefryyFaFsl"
      },
      "source": [
        "def cleaning1(str):\r\n",
        "    replaceAll= str\r\n",
        "    only_english = re.sub('\\x92', '\\'', replaceAll)\r\n",
        "    return only_english\r\n",
        "\r\n",
        "\r\n",
        "def getInputsAndLabels(dataset):\r\n",
        "  data = dataset.copy(deep=True)\r\n",
        "\r\n",
        "  utterances = data['utterance']\r\n",
        "  utterances = [\"[CLS] \" + str(cleaning1(utterance)) + \" [SEP]\" for utterance in utterances]#이거다!\r\n",
        "  \r\n",
        "  encoder = LabelEncoder()\r\n",
        "  labels = data['emotion'].values\r\n",
        "  encoder.fit(labels)\r\n",
        "  labels = encoder.transform(labels)\r\n",
        "\r\n",
        "  tokenizer = ElectraTokenizer.from_pretrained(TOKEN_MODEL, do_lower_case=False)\r\n",
        "  tokenized_texts = [tokenizer.tokenize(utterance) for utterance in utterances]\r\n",
        "\r\n",
        "  input_ids = [tokenizer.convert_tokens_to_ids(x) for x in tokenized_texts]\r\n",
        "  input_ids = pad_sequences(input_ids, maxlen=MAX_LEN, dtype=\"long\", truncating=\"post\", padding=\"post\")\r\n",
        "\r\n",
        "  attention_masks = []\r\n",
        "  for seq in input_ids:\r\n",
        "      seq_mask = [float(i>0) for i in seq]\r\n",
        "      attention_masks.append(seq_mask)\r\n",
        "\r\n",
        "  return input_ids, labels, attention_masks\r\n",
        "\r\n",
        "\r\n",
        "def getInputsFromTest(dataset):\r\n",
        "  data = dataset.copy(deep=True)\r\n",
        "\r\n",
        "  utterances = data['utterance']\r\n",
        "  utterances = [\"[CLS] \" + str(cleaning1(utterance)) + \" [SEP]\" for utterance in utterances]#이거다!\r\n",
        "  \r\n",
        "  tokenizer = ElectraTokenizer.from_pretrained(TOKEN_MODEL, do_lower_case=False)\r\n",
        "  tokenized_texts = [tokenizer.tokenize(utterance) for utterance in utterances]\r\n",
        "\r\n",
        "  input_ids = [tokenizer.convert_tokens_to_ids(x) for x in tokenized_texts]\r\n",
        "  input_ids = pad_sequences(input_ids, maxlen=MAX_LEN, dtype=\"long\", truncating=\"post\", padding=\"post\")\r\n",
        "\r\n",
        "  attention_masks = []\r\n",
        "  for seq in input_ids:\r\n",
        "      seq_mask = [float(i>0) for i in seq]\r\n",
        "      attention_masks.append(seq_mask)\r\n",
        "\r\n",
        "  return input_ids, attention_masks\r\n",
        "\r\n",
        "\r\n",
        "def getIndex(dataset):\r\n",
        "  data = dataset.copy(deep = True)\r\n",
        "  input_index = data.id.tolist()\r\n",
        "  return torch.tensor(input_index)"
      ],
      "execution_count": 11,
      "outputs": []
    },
    {
      "cell_type": "code",
      "metadata": {
        "colab": {
          "base_uri": "https://localhost:8080/",
          "height": 67,
          "referenced_widgets": [
            "9a42a070818146aba1134e39e6b239d1",
            "cad55e652be349ee992b8544e0ec7587",
            "bd601803c81045c486845de25189ed0f",
            "a51745e71fdf40a1a3370c56208a6c26",
            "2ae89473effc464b917834e166dd1116",
            "8c3daeb4650f4d52bda52a9b9b485876",
            "a685dd26e6c84fffa900e4cd6c9e8cf2",
            "5d8c9ea6f5f34b7d9c7bc1422ea87990"
          ]
        },
        "id": "FnYXHQddaFKq",
        "outputId": "0cf1fee7-fe39-4207-89fd-5f75e8eaa9ce"
      },
      "source": [
        "train_inputs1, train_labels1, train_masks1 = getInputsAndLabels(train_data)\r\n",
        "dev_inputs, dev_labels, dev_masks = getInputsAndLabels(dev_data)\r\n",
        "test_inputs, test_labels, test_masks = getInputsAndLabels(test_data)\r\n",
        "test_df_inputs, test_df_masks = getInputsFromTest(test_df)"
      ],
      "execution_count": 12,
      "outputs": [
        {
          "output_type": "display_data",
          "data": {
            "application/vnd.jupyter.widget-view+json": {
              "model_id": "9a42a070818146aba1134e39e6b239d1",
              "version_minor": 0,
              "version_major": 2
            },
            "text/plain": [
              "HBox(children=(FloatProgress(value=0.0, description='Downloading', max=231508.0, style=ProgressStyle(descripti…"
            ]
          },
          "metadata": {
            "tags": []
          }
        },
        {
          "output_type": "stream",
          "text": [
            "\n"
          ],
          "name": "stdout"
        }
      ]
    },
    {
      "cell_type": "code",
      "metadata": {
        "id": "bccL-4SyaYPk",
        "colab": {
          "base_uri": "https://localhost:8080/"
        },
        "outputId": "09823f37-a2c5-4d9d-bc1d-036de068e039"
      },
      "source": [
        "print('전체 프랜즈 학  습 데이터의 개수: {}'.format(len(train_inputs1)))\r\n",
        "print('전체 프랜즈 라  벨 데이터의 개수: {}'.format(len(train_labels1)))\r\n",
        "print('전체 프랜즈 마스크 데이터의 개수: {}'.format(len(train_masks1)))"
      ],
      "execution_count": 13,
      "outputs": [
        {
          "output_type": "stream",
          "text": [
            "전체 프랜즈 학  습 데이터의 개수: 10561\n",
            "전체 프랜즈 라  벨 데이터의 개수: 10561\n",
            "전체 프랜즈 마스크 데이터의 개수: 10561\n"
          ],
          "name": "stdout"
        }
      ]
    },
    {
      "cell_type": "code",
      "metadata": {
        "id": "wKJmHndEaYSM",
        "colab": {
          "base_uri": "https://localhost:8080/"
        },
        "outputId": "1d45aaba-f990-43ac-c7a5-0c26535980b6"
      },
      "source": [
        "print('전체 프랜즈 dev학  습 데이터의 개수: {}'.format(len(dev_inputs)))\r\n",
        "print('전체 프랜즈 dev라  벨 데이터의 개수: {}'.format(len(dev_labels)))\r\n",
        "print('전체 프랜즈 dev마스크 데이터의 개수: {}'.format(len(dev_masks)))"
      ],
      "execution_count": 14,
      "outputs": [
        {
          "output_type": "stream",
          "text": [
            "전체 프랜즈 dev학  습 데이터의 개수: 1178\n",
            "전체 프랜즈 dev라  벨 데이터의 개수: 1178\n",
            "전체 프랜즈 dev마스크 데이터의 개수: 1178\n"
          ],
          "name": "stdout"
        }
      ]
    },
    {
      "cell_type": "code",
      "metadata": {
        "id": "QCA3Y21JaYVG",
        "colab": {
          "base_uri": "https://localhost:8080/"
        },
        "outputId": "9aadf3ff-2c78-4f12-bd3a-c46fd44e2fe3"
      },
      "source": [
        "print('전체 프랜즈 test학  습 데이터의 개수: {}'.format(len(test_inputs)))\r\n",
        "print('전체 프랜즈 test라  벨 데이터의 개수: {}'.format(len(test_labels)))\r\n",
        "print('전체 프랜즈 test마스크 데이터의 개수: {}'.format(len(test_masks)))"
      ],
      "execution_count": 15,
      "outputs": [
        {
          "output_type": "stream",
          "text": [
            "전체 프랜즈 test학  습 데이터의 개수: 2764\n",
            "전체 프랜즈 test라  벨 데이터의 개수: 2764\n",
            "전체 프랜즈 test마스크 데이터의 개수: 2764\n"
          ],
          "name": "stdout"
        }
      ]
    },
    {
      "cell_type": "code",
      "metadata": {
        "id": "aHvhA-fDaYXf",
        "colab": {
          "base_uri": "https://localhost:8080/"
        },
        "outputId": "db719db0-06bc-4bb1-e42a-2faa1c78f54b"
      },
      "source": [
        "print('전체 프랜즈 test1 학  습 데이터의 개수: {}'.format(len(test_df_inputs)))\r\n",
        "print('전체 프랜즈 test1 마스크 데이터의 개수: {}'.format(len(test_df_masks)))"
      ],
      "execution_count": 16,
      "outputs": [
        {
          "output_type": "stream",
          "text": [
            "전체 프랜즈 test1 학  습 데이터의 개수: 1623\n",
            "전체 프랜즈 test1 마스크 데이터의 개수: 1623\n"
          ],
          "name": "stdout"
        }
      ]
    },
    {
      "cell_type": "code",
      "metadata": {
        "id": "4Ybz5PtDcW8P"
      },
      "source": [
        "train_masks0 = []\r\n",
        "train_masks0.extend(train_masks1)\r\n",
        "#train_masks0.extend(train_masks2)\r\n",
        "#train_masks0.extend(train_masks3)"
      ],
      "execution_count": 17,
      "outputs": []
    },
    {
      "cell_type": "code",
      "metadata": {
        "id": "IiRnsncnU6HV"
      },
      "source": [
        "train_labels0 = []\r\n",
        "train_labels0.extend(train_labels1)\r\n",
        "#train_labels0.extend(train_labels2)\r\n",
        "#train_labels0.extend(train_labels3)"
      ],
      "execution_count": 18,
      "outputs": []
    },
    {
      "cell_type": "code",
      "metadata": {
        "id": "Xb7JaB6bU6Kz"
      },
      "source": [
        "train_inputs0 = []\r\n",
        "train_inputs0.extend(train_inputs1)\r\n",
        "#train_inputs0.extend(train_inputs2)\r\n",
        "#train_inputs0.extend(train_inputs3)"
      ],
      "execution_count": 19,
      "outputs": []
    },
    {
      "cell_type": "code",
      "metadata": {
        "id": "3m15u04rcW6A",
        "colab": {
          "base_uri": "https://localhost:8080/"
        },
        "outputId": "e158632c-8513-4081-c8c4-481c1a053573"
      },
      "source": [
        "print('전체 학  습 데이터의 개수: {}'.format(len(train_inputs0)))\r\n",
        "print('전체 라  벨 데이터의 개수: {}'.format(len(train_labels0)))\r\n",
        "print('전체 마스크 데이터의 개수: {}'.format(len(train_masks0)))"
      ],
      "execution_count": 20,
      "outputs": [
        {
          "output_type": "stream",
          "text": [
            "전체 학  습 데이터의 개수: 10561\n",
            "전체 라  벨 데이터의 개수: 10561\n",
            "전체 마스크 데이터의 개수: 10561\n"
          ],
          "name": "stdout"
        }
      ]
    },
    {
      "cell_type": "code",
      "metadata": {
        "id": "p_xnZrX_cW1s"
      },
      "source": [
        "train_inputs = torch.tensor(train_inputs0)\r\n",
        "train_labels = torch.tensor(train_labels0)\r\n",
        "train_masks = torch.tensor(train_masks0)\r\n",
        "\r\n",
        "dev_inputs = torch.tensor(dev_inputs)\r\n",
        "dev_labels = torch.tensor(dev_labels)\r\n",
        "dev_masks = torch.tensor(dev_masks)\r\n",
        "\r\n",
        "test_inputs = torch.tensor(test_inputs)\r\n",
        "test_labels = torch.tensor(test_labels)\r\n",
        "test_masks = torch.tensor(test_masks)\r\n",
        "\r\n",
        "test_df_index = getIndex(test_df)\r\n",
        "test_df_inputs = torch.tensor(test_df_inputs)\r\n",
        "test_df_masks = torch.tensor(test_df_masks)"
      ],
      "execution_count": 21,
      "outputs": []
    },
    {
      "cell_type": "code",
      "metadata": {
        "id": "hZOboXJmcWza"
      },
      "source": [
        "train_data = TensorDataset(train_inputs, train_masks, train_labels)\r\n",
        "train_sampler = RandomSampler(train_data)\r\n",
        "train_dataloader = DataLoader(train_data, sampler=train_sampler, batch_size=batch_size)\r\n",
        "\r\n",
        "dev_data = TensorDataset(dev_inputs, dev_masks, dev_labels)\r\n",
        "dev_sampler = SequentialSampler(dev_data)\r\n",
        "dev_dataloader = DataLoader(dev_data, sampler=dev_sampler, batch_size=batch_size)\r\n",
        "\r\n",
        "test_data = TensorDataset(test_inputs, test_masks, test_labels)\r\n",
        "test_sampler = RandomSampler(test_data)\r\n",
        "test_dataloader = DataLoader(test_data, sampler=test_sampler, batch_size=batch_size)\r\n",
        "\r\n",
        "test_df_data = TensorDataset(test_df_index, test_df_inputs, test_df_masks)\r\n",
        "test_df_sampler = RandomSampler(test_df_data)\r\n",
        "test_df_dataloader = DataLoader(test_df_data, sampler=test_df_sampler, batch_size=batch_size)"
      ],
      "execution_count": 22,
      "outputs": []
    },
    {
      "cell_type": "markdown",
      "metadata": {
        "id": "afbtrT3hg6sr"
      },
      "source": [
        "# 2. 모델 구현"
      ]
    },
    {
      "cell_type": "code",
      "metadata": {
        "id": "Rm8tkXDEg0h9",
        "colab": {
          "base_uri": "https://localhost:8080/"
        },
        "outputId": "a1cad7c4-822b-41c7-fb73-a8f7891b3645"
      },
      "source": [
        "# 디바이스 설정\r\n",
        "if torch.cuda.is_available():    \r\n",
        "    device = torch.device(\"cuda\")\r\n",
        "    print('There are %d GPU(s) available.' % torch.cuda.device_count())\r\n",
        "    print('We will use the GPU:', torch.cuda.get_device_name(0))\r\n",
        "else:\r\n",
        "    device = torch.device(\"cpu\")\r\n",
        "    print('No GPU available, using the CPU instead.')"
      ],
      "execution_count": 24,
      "outputs": [
        {
          "output_type": "stream",
          "text": [
            "There are 1 GPU(s) available.\n",
            "We will use the GPU: Tesla V100-SXM2-16GB\n"
          ],
          "name": "stdout"
        }
      ]
    },
    {
      "cell_type": "code",
      "metadata": {
        "id": "s40-YjZPKyft",
        "colab": {
          "base_uri": "https://localhost:8080/"
        },
        "outputId": "d07f87bb-36ea-4c01-9a60-d7c1c620d86e"
      },
      "source": [
        "model = ElectraForSequenceClassification.from_pretrained(TRAIN_MODEL, num_labels=8)\n",
        "model.cuda()"
      ],
      "execution_count": 25,
      "outputs": [
        {
          "output_type": "stream",
          "text": [
            "Some weights of the model checkpoint at google/electra-small-generator were not used when initializing ElectraForSequenceClassification: ['generator_predictions.LayerNorm.weight', 'generator_predictions.LayerNorm.bias', 'generator_predictions.dense.weight', 'generator_predictions.dense.bias', 'generator_lm_head.weight', 'generator_lm_head.bias']\n",
            "- This IS expected if you are initializing ElectraForSequenceClassification from the checkpoint of a model trained on another task or with another architecture (e.g. initializing a BertForSequenceClassification model from a BertForPreTraining model).\n",
            "- This IS NOT expected if you are initializing ElectraForSequenceClassification from the checkpoint of a model that you expect to be exactly identical (initializing a BertForSequenceClassification model from a BertForSequenceClassification model).\n",
            "Some weights of ElectraForSequenceClassification were not initialized from the model checkpoint at google/electra-small-generator and are newly initialized: ['classifier.dense.weight', 'classifier.dense.bias', 'classifier.out_proj.weight', 'classifier.out_proj.bias']\n",
            "You should probably TRAIN this model on a down-stream task to be able to use it for predictions and inference.\n"
          ],
          "name": "stderr"
        },
        {
          "output_type": "execute_result",
          "data": {
            "text/plain": [
              "ElectraForSequenceClassification(\n",
              "  (electra): ElectraModel(\n",
              "    (embeddings): ElectraEmbeddings(\n",
              "      (word_embeddings): Embedding(30522, 128, padding_idx=0)\n",
              "      (position_embeddings): Embedding(512, 128)\n",
              "      (token_type_embeddings): Embedding(2, 128)\n",
              "      (LayerNorm): LayerNorm((128,), eps=1e-12, elementwise_affine=True)\n",
              "      (dropout): Dropout(p=0.1, inplace=False)\n",
              "    )\n",
              "    (embeddings_project): Linear(in_features=128, out_features=256, bias=True)\n",
              "    (encoder): ElectraEncoder(\n",
              "      (layer): ModuleList(\n",
              "        (0): ElectraLayer(\n",
              "          (attention): ElectraAttention(\n",
              "            (self): ElectraSelfAttention(\n",
              "              (query): Linear(in_features=256, out_features=256, bias=True)\n",
              "              (key): Linear(in_features=256, out_features=256, bias=True)\n",
              "              (value): Linear(in_features=256, out_features=256, bias=True)\n",
              "              (dropout): Dropout(p=0.1, inplace=False)\n",
              "            )\n",
              "            (output): ElectraSelfOutput(\n",
              "              (dense): Linear(in_features=256, out_features=256, bias=True)\n",
              "              (LayerNorm): LayerNorm((256,), eps=1e-12, elementwise_affine=True)\n",
              "              (dropout): Dropout(p=0.1, inplace=False)\n",
              "            )\n",
              "          )\n",
              "          (intermediate): ElectraIntermediate(\n",
              "            (dense): Linear(in_features=256, out_features=1024, bias=True)\n",
              "          )\n",
              "          (output): ElectraOutput(\n",
              "            (dense): Linear(in_features=1024, out_features=256, bias=True)\n",
              "            (LayerNorm): LayerNorm((256,), eps=1e-12, elementwise_affine=True)\n",
              "            (dropout): Dropout(p=0.1, inplace=False)\n",
              "          )\n",
              "        )\n",
              "        (1): ElectraLayer(\n",
              "          (attention): ElectraAttention(\n",
              "            (self): ElectraSelfAttention(\n",
              "              (query): Linear(in_features=256, out_features=256, bias=True)\n",
              "              (key): Linear(in_features=256, out_features=256, bias=True)\n",
              "              (value): Linear(in_features=256, out_features=256, bias=True)\n",
              "              (dropout): Dropout(p=0.1, inplace=False)\n",
              "            )\n",
              "            (output): ElectraSelfOutput(\n",
              "              (dense): Linear(in_features=256, out_features=256, bias=True)\n",
              "              (LayerNorm): LayerNorm((256,), eps=1e-12, elementwise_affine=True)\n",
              "              (dropout): Dropout(p=0.1, inplace=False)\n",
              "            )\n",
              "          )\n",
              "          (intermediate): ElectraIntermediate(\n",
              "            (dense): Linear(in_features=256, out_features=1024, bias=True)\n",
              "          )\n",
              "          (output): ElectraOutput(\n",
              "            (dense): Linear(in_features=1024, out_features=256, bias=True)\n",
              "            (LayerNorm): LayerNorm((256,), eps=1e-12, elementwise_affine=True)\n",
              "            (dropout): Dropout(p=0.1, inplace=False)\n",
              "          )\n",
              "        )\n",
              "        (2): ElectraLayer(\n",
              "          (attention): ElectraAttention(\n",
              "            (self): ElectraSelfAttention(\n",
              "              (query): Linear(in_features=256, out_features=256, bias=True)\n",
              "              (key): Linear(in_features=256, out_features=256, bias=True)\n",
              "              (value): Linear(in_features=256, out_features=256, bias=True)\n",
              "              (dropout): Dropout(p=0.1, inplace=False)\n",
              "            )\n",
              "            (output): ElectraSelfOutput(\n",
              "              (dense): Linear(in_features=256, out_features=256, bias=True)\n",
              "              (LayerNorm): LayerNorm((256,), eps=1e-12, elementwise_affine=True)\n",
              "              (dropout): Dropout(p=0.1, inplace=False)\n",
              "            )\n",
              "          )\n",
              "          (intermediate): ElectraIntermediate(\n",
              "            (dense): Linear(in_features=256, out_features=1024, bias=True)\n",
              "          )\n",
              "          (output): ElectraOutput(\n",
              "            (dense): Linear(in_features=1024, out_features=256, bias=True)\n",
              "            (LayerNorm): LayerNorm((256,), eps=1e-12, elementwise_affine=True)\n",
              "            (dropout): Dropout(p=0.1, inplace=False)\n",
              "          )\n",
              "        )\n",
              "        (3): ElectraLayer(\n",
              "          (attention): ElectraAttention(\n",
              "            (self): ElectraSelfAttention(\n",
              "              (query): Linear(in_features=256, out_features=256, bias=True)\n",
              "              (key): Linear(in_features=256, out_features=256, bias=True)\n",
              "              (value): Linear(in_features=256, out_features=256, bias=True)\n",
              "              (dropout): Dropout(p=0.1, inplace=False)\n",
              "            )\n",
              "            (output): ElectraSelfOutput(\n",
              "              (dense): Linear(in_features=256, out_features=256, bias=True)\n",
              "              (LayerNorm): LayerNorm((256,), eps=1e-12, elementwise_affine=True)\n",
              "              (dropout): Dropout(p=0.1, inplace=False)\n",
              "            )\n",
              "          )\n",
              "          (intermediate): ElectraIntermediate(\n",
              "            (dense): Linear(in_features=256, out_features=1024, bias=True)\n",
              "          )\n",
              "          (output): ElectraOutput(\n",
              "            (dense): Linear(in_features=1024, out_features=256, bias=True)\n",
              "            (LayerNorm): LayerNorm((256,), eps=1e-12, elementwise_affine=True)\n",
              "            (dropout): Dropout(p=0.1, inplace=False)\n",
              "          )\n",
              "        )\n",
              "        (4): ElectraLayer(\n",
              "          (attention): ElectraAttention(\n",
              "            (self): ElectraSelfAttention(\n",
              "              (query): Linear(in_features=256, out_features=256, bias=True)\n",
              "              (key): Linear(in_features=256, out_features=256, bias=True)\n",
              "              (value): Linear(in_features=256, out_features=256, bias=True)\n",
              "              (dropout): Dropout(p=0.1, inplace=False)\n",
              "            )\n",
              "            (output): ElectraSelfOutput(\n",
              "              (dense): Linear(in_features=256, out_features=256, bias=True)\n",
              "              (LayerNorm): LayerNorm((256,), eps=1e-12, elementwise_affine=True)\n",
              "              (dropout): Dropout(p=0.1, inplace=False)\n",
              "            )\n",
              "          )\n",
              "          (intermediate): ElectraIntermediate(\n",
              "            (dense): Linear(in_features=256, out_features=1024, bias=True)\n",
              "          )\n",
              "          (output): ElectraOutput(\n",
              "            (dense): Linear(in_features=1024, out_features=256, bias=True)\n",
              "            (LayerNorm): LayerNorm((256,), eps=1e-12, elementwise_affine=True)\n",
              "            (dropout): Dropout(p=0.1, inplace=False)\n",
              "          )\n",
              "        )\n",
              "        (5): ElectraLayer(\n",
              "          (attention): ElectraAttention(\n",
              "            (self): ElectraSelfAttention(\n",
              "              (query): Linear(in_features=256, out_features=256, bias=True)\n",
              "              (key): Linear(in_features=256, out_features=256, bias=True)\n",
              "              (value): Linear(in_features=256, out_features=256, bias=True)\n",
              "              (dropout): Dropout(p=0.1, inplace=False)\n",
              "            )\n",
              "            (output): ElectraSelfOutput(\n",
              "              (dense): Linear(in_features=256, out_features=256, bias=True)\n",
              "              (LayerNorm): LayerNorm((256,), eps=1e-12, elementwise_affine=True)\n",
              "              (dropout): Dropout(p=0.1, inplace=False)\n",
              "            )\n",
              "          )\n",
              "          (intermediate): ElectraIntermediate(\n",
              "            (dense): Linear(in_features=256, out_features=1024, bias=True)\n",
              "          )\n",
              "          (output): ElectraOutput(\n",
              "            (dense): Linear(in_features=1024, out_features=256, bias=True)\n",
              "            (LayerNorm): LayerNorm((256,), eps=1e-12, elementwise_affine=True)\n",
              "            (dropout): Dropout(p=0.1, inplace=False)\n",
              "          )\n",
              "        )\n",
              "        (6): ElectraLayer(\n",
              "          (attention): ElectraAttention(\n",
              "            (self): ElectraSelfAttention(\n",
              "              (query): Linear(in_features=256, out_features=256, bias=True)\n",
              "              (key): Linear(in_features=256, out_features=256, bias=True)\n",
              "              (value): Linear(in_features=256, out_features=256, bias=True)\n",
              "              (dropout): Dropout(p=0.1, inplace=False)\n",
              "            )\n",
              "            (output): ElectraSelfOutput(\n",
              "              (dense): Linear(in_features=256, out_features=256, bias=True)\n",
              "              (LayerNorm): LayerNorm((256,), eps=1e-12, elementwise_affine=True)\n",
              "              (dropout): Dropout(p=0.1, inplace=False)\n",
              "            )\n",
              "          )\n",
              "          (intermediate): ElectraIntermediate(\n",
              "            (dense): Linear(in_features=256, out_features=1024, bias=True)\n",
              "          )\n",
              "          (output): ElectraOutput(\n",
              "            (dense): Linear(in_features=1024, out_features=256, bias=True)\n",
              "            (LayerNorm): LayerNorm((256,), eps=1e-12, elementwise_affine=True)\n",
              "            (dropout): Dropout(p=0.1, inplace=False)\n",
              "          )\n",
              "        )\n",
              "        (7): ElectraLayer(\n",
              "          (attention): ElectraAttention(\n",
              "            (self): ElectraSelfAttention(\n",
              "              (query): Linear(in_features=256, out_features=256, bias=True)\n",
              "              (key): Linear(in_features=256, out_features=256, bias=True)\n",
              "              (value): Linear(in_features=256, out_features=256, bias=True)\n",
              "              (dropout): Dropout(p=0.1, inplace=False)\n",
              "            )\n",
              "            (output): ElectraSelfOutput(\n",
              "              (dense): Linear(in_features=256, out_features=256, bias=True)\n",
              "              (LayerNorm): LayerNorm((256,), eps=1e-12, elementwise_affine=True)\n",
              "              (dropout): Dropout(p=0.1, inplace=False)\n",
              "            )\n",
              "          )\n",
              "          (intermediate): ElectraIntermediate(\n",
              "            (dense): Linear(in_features=256, out_features=1024, bias=True)\n",
              "          )\n",
              "          (output): ElectraOutput(\n",
              "            (dense): Linear(in_features=1024, out_features=256, bias=True)\n",
              "            (LayerNorm): LayerNorm((256,), eps=1e-12, elementwise_affine=True)\n",
              "            (dropout): Dropout(p=0.1, inplace=False)\n",
              "          )\n",
              "        )\n",
              "        (8): ElectraLayer(\n",
              "          (attention): ElectraAttention(\n",
              "            (self): ElectraSelfAttention(\n",
              "              (query): Linear(in_features=256, out_features=256, bias=True)\n",
              "              (key): Linear(in_features=256, out_features=256, bias=True)\n",
              "              (value): Linear(in_features=256, out_features=256, bias=True)\n",
              "              (dropout): Dropout(p=0.1, inplace=False)\n",
              "            )\n",
              "            (output): ElectraSelfOutput(\n",
              "              (dense): Linear(in_features=256, out_features=256, bias=True)\n",
              "              (LayerNorm): LayerNorm((256,), eps=1e-12, elementwise_affine=True)\n",
              "              (dropout): Dropout(p=0.1, inplace=False)\n",
              "            )\n",
              "          )\n",
              "          (intermediate): ElectraIntermediate(\n",
              "            (dense): Linear(in_features=256, out_features=1024, bias=True)\n",
              "          )\n",
              "          (output): ElectraOutput(\n",
              "            (dense): Linear(in_features=1024, out_features=256, bias=True)\n",
              "            (LayerNorm): LayerNorm((256,), eps=1e-12, elementwise_affine=True)\n",
              "            (dropout): Dropout(p=0.1, inplace=False)\n",
              "          )\n",
              "        )\n",
              "        (9): ElectraLayer(\n",
              "          (attention): ElectraAttention(\n",
              "            (self): ElectraSelfAttention(\n",
              "              (query): Linear(in_features=256, out_features=256, bias=True)\n",
              "              (key): Linear(in_features=256, out_features=256, bias=True)\n",
              "              (value): Linear(in_features=256, out_features=256, bias=True)\n",
              "              (dropout): Dropout(p=0.1, inplace=False)\n",
              "            )\n",
              "            (output): ElectraSelfOutput(\n",
              "              (dense): Linear(in_features=256, out_features=256, bias=True)\n",
              "              (LayerNorm): LayerNorm((256,), eps=1e-12, elementwise_affine=True)\n",
              "              (dropout): Dropout(p=0.1, inplace=False)\n",
              "            )\n",
              "          )\n",
              "          (intermediate): ElectraIntermediate(\n",
              "            (dense): Linear(in_features=256, out_features=1024, bias=True)\n",
              "          )\n",
              "          (output): ElectraOutput(\n",
              "            (dense): Linear(in_features=1024, out_features=256, bias=True)\n",
              "            (LayerNorm): LayerNorm((256,), eps=1e-12, elementwise_affine=True)\n",
              "            (dropout): Dropout(p=0.1, inplace=False)\n",
              "          )\n",
              "        )\n",
              "        (10): ElectraLayer(\n",
              "          (attention): ElectraAttention(\n",
              "            (self): ElectraSelfAttention(\n",
              "              (query): Linear(in_features=256, out_features=256, bias=True)\n",
              "              (key): Linear(in_features=256, out_features=256, bias=True)\n",
              "              (value): Linear(in_features=256, out_features=256, bias=True)\n",
              "              (dropout): Dropout(p=0.1, inplace=False)\n",
              "            )\n",
              "            (output): ElectraSelfOutput(\n",
              "              (dense): Linear(in_features=256, out_features=256, bias=True)\n",
              "              (LayerNorm): LayerNorm((256,), eps=1e-12, elementwise_affine=True)\n",
              "              (dropout): Dropout(p=0.1, inplace=False)\n",
              "            )\n",
              "          )\n",
              "          (intermediate): ElectraIntermediate(\n",
              "            (dense): Linear(in_features=256, out_features=1024, bias=True)\n",
              "          )\n",
              "          (output): ElectraOutput(\n",
              "            (dense): Linear(in_features=1024, out_features=256, bias=True)\n",
              "            (LayerNorm): LayerNorm((256,), eps=1e-12, elementwise_affine=True)\n",
              "            (dropout): Dropout(p=0.1, inplace=False)\n",
              "          )\n",
              "        )\n",
              "        (11): ElectraLayer(\n",
              "          (attention): ElectraAttention(\n",
              "            (self): ElectraSelfAttention(\n",
              "              (query): Linear(in_features=256, out_features=256, bias=True)\n",
              "              (key): Linear(in_features=256, out_features=256, bias=True)\n",
              "              (value): Linear(in_features=256, out_features=256, bias=True)\n",
              "              (dropout): Dropout(p=0.1, inplace=False)\n",
              "            )\n",
              "            (output): ElectraSelfOutput(\n",
              "              (dense): Linear(in_features=256, out_features=256, bias=True)\n",
              "              (LayerNorm): LayerNorm((256,), eps=1e-12, elementwise_affine=True)\n",
              "              (dropout): Dropout(p=0.1, inplace=False)\n",
              "            )\n",
              "          )\n",
              "          (intermediate): ElectraIntermediate(\n",
              "            (dense): Linear(in_features=256, out_features=1024, bias=True)\n",
              "          )\n",
              "          (output): ElectraOutput(\n",
              "            (dense): Linear(in_features=1024, out_features=256, bias=True)\n",
              "            (LayerNorm): LayerNorm((256,), eps=1e-12, elementwise_affine=True)\n",
              "            (dropout): Dropout(p=0.1, inplace=False)\n",
              "          )\n",
              "        )\n",
              "      )\n",
              "    )\n",
              "  )\n",
              "  (classifier): ElectraClassificationHead(\n",
              "    (dense): Linear(in_features=256, out_features=256, bias=True)\n",
              "    (dropout): Dropout(p=0.1, inplace=False)\n",
              "    (out_proj): Linear(in_features=256, out_features=8, bias=True)\n",
              "  )\n",
              ")"
            ]
          },
          "metadata": {
            "tags": []
          },
          "execution_count": 25
        }
      ]
    },
    {
      "cell_type": "code",
      "metadata": {
        "id": "oZwXlNqahGVe"
      },
      "source": [
        "optimizer = AdamW(model.parameters(),\r\n",
        "                  lr = 2e-5, \r\n",
        "                  eps = 1e-8\r\n",
        "                )\r\n",
        "\r\n",
        "total_steps = len(train_dataloader) * epochs\r\n",
        "\r\n",
        "# 학습률을 조금씩 감소시키는 스케줄러 생성\r\n",
        "scheduler = get_linear_schedule_with_warmup(optimizer, \r\n",
        "                                            num_warmup_steps = 0,\r\n",
        "                                            num_training_steps = total_steps)"
      ],
      "execution_count": 26,
      "outputs": []
    },
    {
      "cell_type": "markdown",
      "metadata": {
        "id": "E9fpiLtphLEr"
      },
      "source": [
        "#학습"
      ]
    },
    {
      "cell_type": "code",
      "metadata": {
        "id": "DSgXgK1thGYR"
      },
      "source": [
        "from sklearn.metrics import precision_score, recall_score, f1_score, accuracy_score\r\n",
        "from sklearn.metrics import confusion_matrix, classification_report\r\n",
        "from sklearn.metrics import precision_score, recall_score, f1_score\r\n",
        "import seaborn as sns\r\n",
        "\r\n",
        "# 정확도 계산 함수\r\n",
        "def flat_accuracy(preds, labels):\r\n",
        "    pred_flat = np.argmax(preds, axis=1).flatten()\r\n",
        "    labels_flat = labels.flatten()\r\n",
        "\r\n",
        "    return np.sum(pred_flat == labels_flat) / len(labels_flat)\r\n",
        "\r\n",
        "# 시간 표시 함수\r\n",
        "def format_time(elapsed):\r\n",
        "\r\n",
        "    # 반올림\r\n",
        "    elapsed_rounded = int(round((elapsed)))\r\n",
        "    \r\n",
        "    # hh:mm:ss으로 형태 변경\r\n",
        "    return str(datetime.timedelta(seconds=elapsed_rounded))\r\n",
        "\r\n",
        "#평가함수\r\n",
        "def evaluate(true_list, pred_list):\r\n",
        "\r\n",
        "  accuracy = accuracy_score(true_list, pred_list)\r\n",
        "  precision = precision_score(true_list, pred_list, average=None)\r\n",
        "  recall = recall_score(true_list, pred_list, average=None)\r\n",
        "  micro_f1 = f1_score(true_list, pred_list, average='micro')\r\n",
        "\r\n",
        "  print(\"accuracy:{0:.4f}\".format(accuracy))\r\n",
        "  print('precision:\\t', ['%.4f' % v for v in precision])\r\n",
        "  print('recall:\\t\\t', ['%.4f' % v for v in recall])\r\n",
        "  print('micro_f1: %.6f' % micro_f1)\r\n",
        "\r\n",
        "  n_correct = [x for x, y in zip(true_list, pred_list) if x == y]\r\n",
        "  cnt_list = [0] * (8)\r\n",
        "  for cnt in n_correct:\r\n",
        "    if cnt==0:\r\n",
        "      cnt_list[cnt]+=1\r\n",
        "    elif cnt==1:\r\n",
        "      cnt_list[cnt]+=1\r\n",
        "    elif cnt==2:\r\n",
        "      cnt_list[cnt]+=1\r\n",
        "    elif cnt==3:\r\n",
        "      cnt_list[cnt]+=1\r\n",
        "    elif cnt==4:\r\n",
        "      cnt_list[cnt]+=1\r\n",
        "    elif cnt==5:\r\n",
        "      cnt_list[cnt]+=1\r\n",
        "    elif cnt==6:\r\n",
        "      cnt_list[cnt]+=1\r\n",
        "    elif cnt==7:\r\n",
        "      cnt_list[cnt]+=1\r\n",
        "\r\n",
        "  print(\"각 라벨 별 정답 cnt_list\",cnt_list)\r\n",
        "  return cnt_list\r\n",
        "\r\n",
        "def matrix_evaluate(true_list, pred_list, cnt_list):\r\n",
        "  target_names = ['anger', 'disgust', 'fear', 'joy', 'neutral', 'non-neutral', 'sadness', 'surprise'] \r\n",
        "\r\n",
        "  cm = confusion_matrix(true_list, pred_list)\r\n",
        "  sns.heatmap(cm, annot = True, fmt = 'd',cmap = 'Blues',) \r\n",
        "  print(classification_report(true_list, pred_list, digits=4, target_names=target_names))\r\n",
        " "
      ],
      "execution_count": 27,
      "outputs": []
    },
    {
      "cell_type": "code",
      "metadata": {
        "id": "DYaXtdwbhGa2",
        "colab": {
          "base_uri": "https://localhost:8080/"
        },
        "outputId": "2ac4d586-e57b-4bc3-f3a4-54fdca1af49e"
      },
      "source": [
        "seed_val = 42\r\n",
        "random.seed(seed_val)\r\n",
        "np.random.seed(seed_val)\r\n",
        "torch.manual_seed(seed_val)\r\n",
        "torch.cuda.manual_seed_all(seed_val)\r\n",
        "\r\n",
        "model.zero_grad()\r\n",
        "\r\n",
        "for epoch_i in range(0, epochs):\r\n",
        "    \r\n",
        "    # ========================================\r\n",
        "    #               Training\r\n",
        "    # ========================================\r\n",
        "    print(\"\")\r\n",
        "    print('======== Epoch {:} / {:} ========'.format(epoch_i + 1, epochs))\r\n",
        "    print('Training...')\r\n",
        "\r\n",
        "    t0 = time.time()\r\n",
        "    total_loss = 0\r\n",
        "    model.train()\r\n",
        "        \r\n",
        "    # 데이터로더에서 배치만큼 반복하여 가져옴\r\n",
        "    for step, batch in enumerate(train_dataloader):\r\n",
        "        if step % 500 == 0 and not step == 0:\r\n",
        "            elapsed = format_time(time.time() - t0)\r\n",
        "            print('  Batch {:>5,}  of  {:>5,}.    Elapsed: {:}.'.format(step, len(train_dataloader), elapsed))\r\n",
        "\r\n",
        "        batch = tuple(t.to(device) for t in batch)\r\n",
        "        b_input_ids, b_input_mask, b_labels = batch\r\n",
        "             \r\n",
        "        outputs = model(b_input_ids, \r\n",
        "                        token_type_ids=None, \r\n",
        "                        attention_mask=b_input_mask, \r\n",
        "                        labels=b_labels)\r\n",
        "\r\n",
        "        loss = outputs[0]\r\n",
        "        total_loss += loss.item()\r\n",
        "\r\n",
        "        loss.backward()\r\n",
        "\r\n",
        "        torch.nn.utils.clip_grad_norm_(model.parameters(), 1.0)\r\n",
        "        optimizer.step()\r\n",
        "        scheduler.step()\r\n",
        "        model.zero_grad()\r\n",
        "\r\n",
        "    # 평균 로스 계산\r\n",
        "    avg_train_loss = total_loss / len(train_dataloader)            \r\n",
        "\r\n",
        "    print(\"\")\r\n",
        "    print(\"  Average training loss: {0:.5f}\".format(avg_train_loss))\r\n",
        "    print(\"  Training epcoh took: {:}\".format(format_time(time.time() - t0)))\r\n",
        "        \r\n",
        "    # ========================================\r\n",
        "    #               Validation\r\n",
        "    # ========================================\r\n",
        "    print(\"\")\r\n",
        "    print(\"Running Validation...\")\r\n",
        "\r\n",
        "    t0 = time.time()\r\n",
        "    model.eval()\r\n",
        "\r\n",
        "    eval_accuracy, nb_eval_steps = 0, 0\r\n",
        "    pred_list, true_list = [], []\r\n",
        "\r\n",
        "    for batch in dev_dataloader:\r\n",
        "        batch = tuple(t.to(device) for t in batch)\r\n",
        "        b_input_ids, b_input_mask, b_labels = batch\r\n",
        "\r\n",
        "        with torch.no_grad():     \r\n",
        "            outputs = model(b_input_ids, \r\n",
        "                            token_type_ids=None, \r\n",
        "                            attention_mask=b_input_mask)\r\n",
        "        \r\n",
        "        logits = outputs[0]\r\n",
        "        logits = logits.detach().cpu().numpy()\r\n",
        "        label_ids = b_labels.to('cpu').numpy()\r\n",
        "     \r\n",
        "        tmp_eval_accuracy = flat_accuracy(logits, label_ids)\r\n",
        "        eval_accuracy += tmp_eval_accuracy\r\n",
        "        nb_eval_steps += 1\r\n",
        "\r\n",
        "        pred_flat = np.argmax(logits, axis=1).flatten()\r\n",
        "        trues_flat = label_ids.flatten()\r\n",
        "        pred_list.extend(pred_flat)\r\n",
        "        true_list.extend(trues_flat)\r\n",
        "\r\n",
        "    print(\"  Accuracy: {0:.5f}\".format(eval_accuracy/nb_eval_steps))\r\n",
        "    print(\"  Validation took: {:}\".format(format_time(time.time() - t0)))\r\n",
        "    cnt_list = evaluate(pred_list, true_list) # print results\r\n",
        "\r\n",
        "print(\"\")\r\n",
        "print(\"Training complete!\")"
      ],
      "execution_count": 28,
      "outputs": [
        {
          "output_type": "stream",
          "text": [
            "\n",
            "======== Epoch 1 / 20 ========\n",
            "Training...\n",
            "\n",
            "  Average training loss: 1.61729\n",
            "  Training epcoh took: 0:00:16\n",
            "\n",
            "Running Validation...\n",
            "  Accuracy: 0.47666\n",
            "  Validation took: 0:00:00\n",
            "accuracy:0.4796\n",
            "precision:\t ['0.0000', '0.0000', '0.0000', '0.3659', '0.9450', '0.1963', '0.0000', '0.0927']\n",
            "recall:\t\t ['0.0000', '0.0000', '0.0000', '0.2744', '0.5728', '0.2258', '0.0000', '0.7778']\n",
            "micro_f1: 0.479626\n",
            "각 라벨 별 정답 cnt_list [0, 0, 0, 45, 464, 42, 0, 14]\n",
            "\n",
            "======== Epoch 2 / 20 ========\n",
            "Training...\n"
          ],
          "name": "stdout"
        },
        {
          "output_type": "stream",
          "text": [
            "/usr/local/lib/python3.6/dist-packages/sklearn/metrics/_classification.py:1272: UndefinedMetricWarning: Recall is ill-defined and being set to 0.0 in labels with no true samples. Use `zero_division` parameter to control this behavior.\n",
            "  _warn_prf(average, modifier, msg_start, len(result))\n"
          ],
          "name": "stderr"
        },
        {
          "output_type": "stream",
          "text": [
            "\n",
            "  Average training loss: 1.37205\n",
            "  Training epcoh took: 0:00:16\n",
            "\n",
            "Running Validation...\n",
            "  Accuracy: 0.50051\n",
            "  Validation took: 0:00:00\n",
            "accuracy:0.5042\n",
            "precision:\t ['0.0000', '0.0000', '0.0000', '0.5854', '0.9369', '0.1028', '0.0000', '0.2649']\n",
            "recall:\t\t ['0.0000', '0.0000', '0.0000', '0.2892', '0.6021', '0.2472', '0.0000', '0.5263']\n",
            "micro_f1: 0.504244\n",
            "각 라벨 별 정답 cnt_list [0, 0, 0, 72, 460, 22, 0, 40]\n",
            "\n",
            "======== Epoch 3 / 20 ========\n",
            "Training...\n",
            "\n",
            "  Average training loss: 1.29358\n",
            "  Training epcoh took: 0:00:15\n",
            "\n",
            "Running Validation...\n",
            "  Accuracy: 0.52024\n",
            "  Validation took: 0:00:00\n",
            "accuracy:0.5246\n",
            "precision:\t ['0.0000', '0.0000', '0.0000', '0.5935', '0.9430', '0.2009', '0.0000', '0.2583']\n",
            "recall:\t\t ['0.0000', '0.0000', '0.0000', '0.3596', '0.6029', '0.3050', '0.0000', '0.5909']\n",
            "micro_f1: 0.524618\n",
            "각 라벨 별 정답 cnt_list [0, 0, 0, 73, 463, 43, 0, 39]\n",
            "\n",
            "======== Epoch 4 / 20 ========\n",
            "Training...\n",
            "\n",
            "  Average training loss: 1.24360\n",
            "  Training epcoh took: 0:00:16\n",
            "\n",
            "Running Validation...\n",
            "  Accuracy: 0.53131\n",
            "  Validation took: 0:00:00\n",
            "accuracy:0.5348\n",
            "precision:\t ['0.0000', '0.0000', '0.0000', '0.6016', '0.9022', '0.2477', '0.0323', '0.3841']\n",
            "recall:\t\t ['0.0000', '0.0000', '0.0000', '0.4066', '0.6467', '0.2849', '0.6667', '0.4754']\n",
            "micro_f1: 0.534805\n",
            "각 라벨 별 정답 cnt_list [0, 0, 0, 74, 443, 53, 2, 58]\n",
            "\n",
            "======== Epoch 5 / 20 ========\n",
            "Training...\n",
            "\n",
            "  Average training loss: 1.22387\n",
            "  Training epcoh took: 0:00:16\n",
            "\n",
            "Running Validation...\n",
            "  Accuracy: 0.52600\n",
            "  Validation took: 0:00:00\n",
            "accuracy:0.5306\n",
            "precision:\t ['0.0000', '0.0000', '0.0000', '0.6667', '0.8778', '0.2196', '0.1129', '0.3841']\n",
            "recall:\t\t ['0.0000', '0.0000', '0.0000', '0.3814', '0.6560', '0.2597', '0.7778', '0.5000']\n",
            "micro_f1: 0.530560\n",
            "각 라벨 별 정답 cnt_list [0, 0, 0, 82, 431, 47, 7, 58]\n",
            "\n",
            "======== Epoch 6 / 20 ========\n",
            "Training...\n",
            "\n",
            "  Average training loss: 1.17958\n",
            "  Training epcoh took: 0:00:16\n",
            "\n",
            "Running Validation...\n",
            "  Accuracy: 0.51575\n",
            "  Validation took: 0:00:00\n",
            "accuracy:0.5212\n",
            "precision:\t ['0.0000', '0.0000', '0.0000', '0.6504', '0.8310', '0.2336', '0.1452', '0.4437']\n",
            "recall:\t\t ['0.0000', '0.0000', '0.0000', '0.3791', '0.6811', '0.2404', '0.5294', '0.4685']\n",
            "micro_f1: 0.521222\n",
            "각 라벨 별 정답 cnt_list [0, 0, 0, 80, 408, 50, 9, 67]\n",
            "\n",
            "======== Epoch 7 / 20 ========\n",
            "Training...\n",
            "\n",
            "  Average training loss: 1.14707\n",
            "  Training epcoh took: 0:00:16\n",
            "\n",
            "Running Validation...\n",
            "  Accuracy: 0.53378\n",
            "  Validation took: 0:00:00\n",
            "accuracy:0.5374\n",
            "precision:\t ['0.0235', '0.0000', '0.0000', '0.6341', '0.9002', '0.2103', '0.1452', '0.3775']\n",
            "recall:\t\t ['0.6667', '0.0000', '0.0000', '0.3842', '0.6453', '0.2711', '0.4737', '0.5588']\n",
            "micro_f1: 0.537351\n",
            "각 라벨 별 정답 cnt_list [2, 0, 0, 78, 442, 45, 9, 57]\n",
            "\n",
            "======== Epoch 8 / 20 ========\n",
            "Training...\n",
            "\n",
            "  Average training loss: 1.12050\n",
            "  Training epcoh took: 0:00:16\n",
            "\n",
            "Running Validation...\n",
            "  Accuracy: 0.52518\n",
            "  Validation took: 0:00:00\n",
            "accuracy:0.5297\n",
            "precision:\t ['0.0353', '0.0000', '0.0000', '0.6260', '0.8697', '0.2009', '0.1774', '0.4172']\n",
            "recall:\t\t ['0.4286', '0.0000', '0.0000', '0.3929', '0.6590', '0.2575', '0.3667', '0.4846']\n",
            "micro_f1: 0.529711\n",
            "각 라벨 별 정답 cnt_list [3, 0, 0, 77, 427, 43, 11, 63]\n",
            "\n",
            "======== Epoch 9 / 20 ========\n",
            "Training...\n",
            "\n",
            "  Average training loss: 1.09115\n",
            "  Training epcoh took: 0:00:16\n",
            "\n",
            "Running Validation...\n",
            "  Accuracy: 0.52031\n",
            "  Validation took: 0:00:00\n",
            "accuracy:0.5272\n",
            "precision:\t ['0.0235', '0.0000', '0.0000', '0.6016', '0.8676', '0.2009', '0.1613', '0.4371']\n",
            "recall:\t\t ['0.3333', '0.0000', '0.0000', '0.3834', '0.6514', '0.2443', '0.5882', '0.5000']\n",
            "micro_f1: 0.527165\n",
            "각 라벨 별 정답 cnt_list [2, 0, 0, 74, 426, 43, 10, 66]\n",
            "\n",
            "======== Epoch 10 / 20 ========\n",
            "Training...\n",
            "\n",
            "  Average training loss: 1.06639\n",
            "  Training epcoh took: 0:00:16\n",
            "\n",
            "Running Validation...\n",
            "  Accuracy: 0.53587\n",
            "  Validation took: 0:00:00\n",
            "accuracy:0.5407\n",
            "precision:\t ['0.0706', '0.0000', '0.0000', '0.6341', '0.8941', '0.1822', '0.1935', '0.4172']\n",
            "recall:\t\t ['0.4286', '0.0000', '0.0000', '0.3920', '0.6572', '0.2617', '0.4000', '0.5339']\n",
            "micro_f1: 0.540747\n",
            "각 라벨 별 정답 cnt_list [6, 0, 0, 78, 439, 39, 12, 63]\n",
            "\n",
            "======== Epoch 11 / 20 ========\n",
            "Training...\n",
            "\n",
            "  Average training loss: 1.05595\n",
            "  Training epcoh took: 0:00:15\n",
            "\n",
            "Running Validation...\n",
            "  Accuracy: 0.52809\n",
            "  Validation took: 0:00:00\n",
            "accuracy:0.5340\n",
            "precision:\t ['0.0824', '0.0000', '0.0000', '0.6423', '0.8635', '0.1916', '0.1935', '0.4371']\n",
            "recall:\t\t ['0.4375', '0.0000', '0.0000', '0.3930', '0.6709', '0.2384', '0.3871', '0.5238']\n",
            "micro_f1: 0.533956\n",
            "각 라벨 별 정답 cnt_list [7, 0, 0, 79, 424, 41, 12, 66]\n",
            "\n",
            "======== Epoch 12 / 20 ========\n",
            "Training...\n",
            "\n",
            "  Average training loss: 1.03595\n",
            "  Training epcoh took: 0:00:16\n",
            "\n",
            "Running Validation...\n",
            "  Accuracy: 0.51771\n",
            "  Validation took: 0:00:00\n",
            "accuracy:0.5195\n",
            "precision:\t ['0.1412', '0.0000', '0.0000', '0.5935', '0.8086', '0.2056', '0.2097', '0.4834']\n",
            "recall:\t\t ['0.4286', '0.0000', '0.0000', '0.4078', '0.6810', '0.2256', '0.3714', '0.4620']\n",
            "micro_f1: 0.519525\n",
            "각 라벨 별 정답 cnt_list [12, 0, 0, 73, 397, 44, 13, 73]\n",
            "\n",
            "======== Epoch 13 / 20 ========\n",
            "Training...\n",
            "\n",
            "  Average training loss: 1.01774\n",
            "  Training epcoh took: 0:00:15\n",
            "\n",
            "Running Validation...\n",
            "  Accuracy: 0.52018\n",
            "  Validation took: 0:00:00\n",
            "accuracy:0.5221\n",
            "precision:\t ['0.1412', '0.0000', '0.0000', '0.5854', '0.8187', '0.2056', '0.2097', '0.4768']\n",
            "recall:\t\t ['0.4000', '0.0000', '0.0000', '0.4337', '0.6689', '0.2328', '0.3171', '0.4768']\n",
            "micro_f1: 0.522071\n",
            "각 라벨 별 정답 cnt_list [12, 0, 0, 72, 402, 44, 13, 72]\n",
            "\n",
            "======== Epoch 14 / 20 ========\n",
            "Training...\n",
            "\n",
            "  Average training loss: 0.99914\n",
            "  Training epcoh took: 0:00:15\n",
            "\n",
            "Running Validation...\n",
            "  Accuracy: 0.51771\n",
            "  Validation took: 0:00:00\n",
            "accuracy:0.5195\n",
            "precision:\t ['0.2000', '0.0000', '0.0000', '0.6260', '0.8106', '0.1729', '0.2258', '0.4570']\n",
            "recall:\t\t ['0.4722', '0.0000', '0.0000', '0.3889', '0.6723', '0.2270', '0.2745', '0.5000']\n",
            "micro_f1: 0.519525\n",
            "각 라벨 별 정답 cnt_list [17, 0, 0, 77, 398, 37, 14, 69]\n",
            "\n",
            "======== Epoch 15 / 20 ========\n",
            "Training...\n",
            "\n",
            "  Average training loss: 0.98519\n",
            "  Training epcoh took: 0:00:15\n",
            "\n",
            "Running Validation...\n",
            "  Accuracy: 0.50253\n",
            "  Validation took: 0:00:00\n",
            "accuracy:0.5051\n",
            "precision:\t ['0.2000', '0.0000', '0.0000', '0.6260', '0.7454', '0.2056', '0.2258', '0.5099']\n",
            "recall:\t\t ['0.4857', '0.0000', '0.0000', '0.3812', '0.6740', '0.2211', '0.3500', '0.4843']\n",
            "micro_f1: 0.505093\n",
            "각 라벨 별 정답 cnt_list [17, 0, 0, 77, 366, 44, 14, 77]\n",
            "\n",
            "======== Epoch 16 / 20 ========\n",
            "Training...\n",
            "\n",
            "  Average training loss: 0.98945\n",
            "  Training epcoh took: 0:00:16\n",
            "\n",
            "Running Validation...\n",
            "  Accuracy: 0.51278\n",
            "  Validation took: 0:00:00\n",
            "accuracy:0.5144\n",
            "precision:\t ['0.2118', '0.0000', '0.0000', '0.6098', '0.7862', '0.2103', '0.2258', '0.4503']\n",
            "recall:\t\t ['0.4286', '0.0000', '0.0000', '0.3968', '0.6760', '0.2174', '0.3684', '0.5191']\n",
            "micro_f1: 0.514431\n",
            "각 라벨 별 정답 cnt_list [18, 0, 0, 75, 386, 45, 14, 68]\n",
            "\n",
            "======== Epoch 17 / 20 ========\n",
            "Training...\n",
            "\n",
            "  Average training loss: 0.95473\n",
            "  Training epcoh took: 0:00:15\n",
            "\n",
            "Running Validation...\n",
            "  Accuracy: 0.50949\n",
            "  Validation took: 0:00:00\n",
            "accuracy:0.5110\n",
            "precision:\t ['0.1765', '0.0000', '0.0000', '0.6016', '0.7821', '0.2150', '0.2258', '0.4570']\n",
            "recall:\t\t ['0.4286', '0.0000', '0.0000', '0.4066', '0.6713', '0.2212', '0.3684', '0.4825']\n",
            "micro_f1: 0.511036\n",
            "각 라벨 별 정답 cnt_list [15, 0, 0, 74, 384, 46, 14, 69]\n",
            "\n",
            "======== Epoch 18 / 20 ========\n",
            "Training...\n",
            "\n",
            "  Average training loss: 0.94529\n",
            "  Training epcoh took: 0:00:16\n",
            "\n",
            "Running Validation...\n",
            "  Accuracy: 0.51316\n",
            "  Validation took: 0:00:00\n",
            "accuracy:0.5136\n",
            "precision:\t ['0.1882', '0.0000', '0.0000', '0.6016', '0.7984', '0.1869', '0.2258', '0.4570']\n",
            "recall:\t\t ['0.4103', '0.0000', '0.0000', '0.4134', '0.6655', '0.2128', '0.3684', '0.4759']\n",
            "micro_f1: 0.513582\n",
            "각 라벨 별 정답 cnt_list [16, 0, 0, 74, 392, 40, 14, 69]\n",
            "\n",
            "======== Epoch 19 / 20 ========\n",
            "Training...\n",
            "\n",
            "  Average training loss: 0.94649\n",
            "  Training epcoh took: 0:00:15\n",
            "\n",
            "Running Validation...\n",
            "  Accuracy: 0.50620\n",
            "  Validation took: 0:00:00\n",
            "accuracy:0.5076\n",
            "precision:\t ['0.1882', '0.0000', '0.0000', '0.6016', '0.7739', '0.2103', '0.2258', '0.4570']\n",
            "recall:\t\t ['0.4000', '0.0000', '0.0000', '0.4044', '0.6750', '0.2174', '0.3684', '0.4694']\n",
            "micro_f1: 0.507640\n",
            "각 라벨 별 정답 cnt_list [16, 0, 0, 74, 380, 45, 14, 69]\n",
            "\n",
            "======== Epoch 20 / 20 ========\n",
            "Training...\n",
            "\n",
            "  Average training loss: 0.94495\n",
            "  Training epcoh took: 0:00:16\n",
            "\n",
            "Running Validation...\n",
            "  Accuracy: 0.51151\n",
            "  Validation took: 0:00:00\n",
            "accuracy:0.5119\n",
            "precision:\t ['0.1882', '0.0000', '0.0000', '0.6016', '0.7841', '0.2103', '0.2258', '0.4570']\n",
            "recall:\t\t ['0.4103', '0.0000', '0.0000', '0.4088', '0.6696', '0.2217', '0.3684', '0.4859']\n",
            "micro_f1: 0.511885\n",
            "각 라벨 별 정답 cnt_list [16, 0, 0, 74, 385, 45, 14, 69]\n",
            "\n",
            "Training complete!\n"
          ],
          "name": "stdout"
        }
      ]
    },
    {
      "cell_type": "markdown",
      "metadata": {
        "id": "1JKfoqdTbni0"
      },
      "source": [
        "# 평가"
      ]
    },
    {
      "cell_type": "code",
      "metadata": {
        "id": "KB_Nvm-16ohw",
        "colab": {
          "base_uri": "https://localhost:8080/"
        },
        "outputId": "fcdeaa2a-985b-486b-97e5-74c450fa8452"
      },
      "source": [
        "#시작 시간 설정\r\n",
        "t0 = time.time()\r\n",
        "\r\n",
        "# 평가모드로 변경\r\n",
        "model.eval()\r\n",
        "\r\n",
        "# 변수 초기화\r\n",
        "f1_score_avg = []\r\n",
        "pred_list, true_list = [], []\r\n",
        "eval_loss, eval_accuracy = 0, 0\r\n",
        "nb_eval_steps, nb_eval_examples = 0, 0\r\n",
        "\r\n",
        "for step, batch in enumerate(test_dataloader):\r\n",
        "    if step % 100 == 0 and not step == 0:\r\n",
        "        elapsed = format_time(time.time() - t0)\r\n",
        "        print('  Batch {:>5,}  of  {:>5,}.    Elapsed: {:}.'.format(step, len(test_dataloader), elapsed))\r\n",
        "\r\n",
        "    batch = tuple(t.to(device) for t in batch)\r\n",
        "    b_input_ids, b_input_mask, b_labels = batch\r\n",
        "    \r\n",
        "    # 그래디언트 계산 안함\r\n",
        "    with torch.no_grad():     \r\n",
        "        # Forward 수행\r\n",
        "        outputs = model(b_input_ids, \r\n",
        "                        token_type_ids=None, \r\n",
        "                        attention_mask=b_input_mask)\r\n",
        "    \r\n",
        "    logits = outputs[0]\r\n",
        "\r\n",
        "    # CPU로 데이터 이동\r\n",
        "    logits = logits.detach().cpu().numpy()\r\n",
        "    label_ids = b_labels.to('cpu').numpy()\r\n",
        "\r\n",
        "    pred_flat = np.argmax(logits, axis=1).flatten()\r\n",
        "    trues_flat = label_ids.flatten()\r\n",
        "    pred_list.extend(pred_flat)\r\n",
        "    true_list.extend(trues_flat)\r\n",
        "    \r\n",
        "    # 출력 로짓과 라벨을 비교하여 정확도 계산\r\n",
        "    tmp_eval_accuracy = flat_accuracy(logits, label_ids)\r\n",
        "    eval_accuracy += tmp_eval_accuracy\r\n",
        "    nb_eval_steps += 1\r\n",
        "\r\n",
        "print(\"\")\r\n",
        "print(\"  Accuracy: {0:.5f}\".format(eval_accuracy/nb_eval_steps))\r\n",
        "print(\"Test took: {:}\".format(format_time(time.time() - t0)))\r\n",
        "print(\"Emotion accuracy\")\r\n",
        "cnt_list = evaluate(pred_list, true_list) # print results\r\n"
      ],
      "execution_count": 29,
      "outputs": [
        {
          "output_type": "stream",
          "text": [
            "\n",
            "  Accuracy: 0.57055\n",
            "Test took: 0:00:01\n",
            "Emotion accuracy\n",
            "accuracy:0.5687\n",
            "precision:\t ['0.1988', '0.0000', '0.0000', '0.6349', '0.7941', '0.3124', '0.2941', '0.4580']\n",
            "recall:\t\t ['0.4051', '0.0000', '0.0000', '0.4595', '0.7422', '0.3301', '0.3165', '0.4411']\n",
            "micro_f1: 0.568741\n",
            "각 라벨 별 정답 cnt_list [32, 0, 0, 193, 1022, 169, 25, 131]\n"
          ],
          "name": "stdout"
        },
        {
          "output_type": "stream",
          "text": [
            "/usr/local/lib/python3.6/dist-packages/sklearn/metrics/_classification.py:1272: UndefinedMetricWarning: Recall is ill-defined and being set to 0.0 in labels with no true samples. Use `zero_division` parameter to control this behavior.\n",
            "  _warn_prf(average, modifier, msg_start, len(result))\n"
          ],
          "name": "stderr"
        }
      ]
    },
    {
      "cell_type": "code",
      "metadata": {
        "colab": {
          "base_uri": "https://localhost:8080/",
          "height": 283
        },
        "id": "fjepMWfRsp6C",
        "outputId": "62785c96-df79-4afc-f7d3-78cfab34c06b"
      },
      "source": [
        "target_names = ['anger', 'disgust', 'fear', 'joy', 'neutral', 'non-neutral', 'sadness', 'surprise']\r\n",
        "plt.bar(target_names,cnt_list)"
      ],
      "execution_count": 30,
      "outputs": [
        {
          "output_type": "execute_result",
          "data": {
            "text/plain": [
              "<BarContainer object of 8 artists>"
            ]
          },
          "metadata": {
            "tags": []
          },
          "execution_count": 30
        },
        {
          "output_type": "display_data",
          "data": {
            "image/png": "[encoded data removed]",
            "text/plain": [
              "<Figure size 432x288 with 1 Axes>"
            ]
          },
          "metadata": {
            "tags": [],
            "needs_background": "light"
          }
        }
      ]
    },
    {
      "cell_type": "code",
      "metadata": {
        "colab": {
          "base_uri": "https://localhost:8080/",
          "height": 591
        },
        "id": "_LzFXZcCsmXF",
        "outputId": "83b2e3ed-0d43-4cde-c82f-038cfbc9a8fd"
      },
      "source": [
        "matrix_evaluate(pred_list, true_list, cnt_list)"
      ],
      "execution_count": 31,
      "outputs": [
        {
          "output_type": "stream",
          "text": [
            "/usr/local/lib/python3.6/dist-packages/sklearn/metrics/_classification.py:1272: UndefinedMetricWarning: Recall and F-score are ill-defined and being set to 0.0 in labels with no true samples. Use `zero_division` parameter to control this behavior.\n",
            "  _warn_prf(average, modifier, msg_start, len(result))\n"
          ],
          "name": "stderr"
        },
        {
          "output_type": "stream",
          "text": [
            "              precision    recall  f1-score   support\n",
            "\n",
            "       anger     0.1988    0.4051    0.2667        79\n",
            "     disgust     0.0000    0.0000    0.0000         0\n",
            "        fear     0.0000    0.0000    0.0000         0\n",
            "         joy     0.6349    0.4595    0.5331       420\n",
            "     neutral     0.7941    0.7422    0.7673      1377\n",
            " non-neutral     0.3124    0.3301    0.3210       512\n",
            "     sadness     0.2941    0.3165    0.3049        79\n",
            "    surprise     0.4580    0.4411    0.4494       297\n",
            "\n",
            "    accuracy                         0.5687      2764\n",
            "   macro avg     0.3365    0.3368    0.3303      2764\n",
            "weighted avg     0.6133    0.5687    0.5873      2764\n",
            "\n"
          ],
          "name": "stdout"
        },
        {
          "output_type": "display_data",
          "data": {
            "image/png": "[encoded data removed]",
            "text/plain": [
              "<Figure size 432x288 with 2 Axes>"
            ]
          },
          "metadata": {
            "tags": [],
            "needs_background": "light"
          }
        }
      ]
    },
    {
      "cell_type": "markdown",
      "metadata": {
        "id": "w_GsRFFbhSwj"
      },
      "source": [
        "# test 결과물"
      ]
    },
    {
      "cell_type": "code",
      "metadata": {
        "id": "_S78N33ohWWl",
        "colab": {
          "base_uri": "https://localhost:8080/"
        },
        "outputId": "0ac22245-9400-443f-aad3-4ab90b3ed353"
      },
      "source": [
        "tmp_test_dataloader = DataLoader(test_df_data, sampler=test_df_sampler, batch_size=1)\r\n",
        "test_result = test_df.copy(deep = True)\r\n",
        "test_result = test_result.drop(columns = ['i_dialog', 'i_utterance', 'speaker'])\r\n",
        "test_result['Predicted'] = 'default'\r\n",
        "classes = [0,1,2,3,4,5,6,7]\r\n",
        "\r\n",
        "encoder = LabelEncoder()\r\n",
        "classes = emotions\r\n",
        "encoder.fit(classes)\r\n",
        "classes = encoder.transform(classes)\r\n",
        "\r\n",
        "#시작 시간 설정\r\n",
        "t0 = time.time()\r\n",
        "\r\n",
        "# 평가모드로 변경\r\n",
        "model.eval()\r\n",
        "\r\n",
        "# 변수 초기화\r\n",
        "nb_eval_steps, nb_eval_examples = 0, 0\r\n",
        "\r\n",
        "# 데이터로더에서 배치만큼 반복하여 가져옴\r\n",
        "for step, batch in enumerate(tmp_test_dataloader):\r\n",
        "    # 경과 정보 표시\r\n",
        "    if step % 100 == 0 and not step == 0:\r\n",
        "        elapsed = format_time(time.time() - t0)\r\n",
        "        print('  Batch {:>5,}  of  {:>5,}.    Elapsed: {:}.'.format(step, len(tmp_test_dataloader), elapsed))\r\n",
        "\r\n",
        "    # 배치를 GPU에 넣음\r\n",
        "    batch = tuple(t.to(device) for t in batch)\r\n",
        "    \r\n",
        "    # 배치에서 데이터 추출\r\n",
        "    b_index, b_input_ids, b_input_mask = batch\r\n",
        "    \r\n",
        "    # 그래디언트 계산 안함\r\n",
        "    with torch.no_grad():     \r\n",
        "        # Forward 수행\r\n",
        "        outputs = model(b_input_ids, \r\n",
        "                        token_type_ids=None, \r\n",
        "                        attention_mask=b_input_mask)\r\n",
        "    \r\n",
        "    # 로스 구함\r\n",
        "    logits = outputs[0]\r\n",
        "\r\n",
        "    # CPU로 데이터 이동\r\n",
        "    logits = logits.detach().cpu().numpy()\r\n",
        "    idx = b_index.item()\r\n",
        "    test_result['Predicted'][idx] = encoder.classes_[np.argmax(logits)]\r\n",
        "    \r\n",
        "\r\n",
        "    nb_eval_steps += 1\r\n",
        "\r\n",
        "print(\"\")\r\n",
        "print(\"Test took: {:}\".format(format_time(time.time() - t0)))\r\n"
      ],
      "execution_count": null,
      "outputs": [
        {
          "output_type": "stream",
          "text": [
            "/usr/local/lib/python3.6/dist-packages/ipykernel_launcher.py:47: SettingWithCopyWarning: \n",
            "A value is trying to be set on a copy of a slice from a DataFrame\n",
            "\n",
            "See the caveats in the documentation: https://pandas.pydata.org/pandas-docs/stable/user_guide/indexing.html#returning-a-view-versus-a-copy\n"
          ],
          "name": "stderr"
        },
        {
          "output_type": "stream",
          "text": [
            "  Batch   100  of  1,623.    Elapsed: 0:00:01.\n",
            "  Batch   200  of  1,623.    Elapsed: 0:00:02.\n",
            "  Batch   300  of  1,623.    Elapsed: 0:00:04.\n",
            "  Batch   400  of  1,623.    Elapsed: 0:00:05.\n",
            "  Batch   500  of  1,623.    Elapsed: 0:00:06.\n",
            "  Batch   600  of  1,623.    Elapsed: 0:00:07.\n",
            "  Batch   700  of  1,623.    Elapsed: 0:00:09.\n",
            "  Batch   800  of  1,623.    Elapsed: 0:00:10.\n",
            "  Batch   900  of  1,623.    Elapsed: 0:00:11.\n",
            "  Batch 1,000  of  1,623.    Elapsed: 0:00:12.\n",
            "  Batch 1,100  of  1,623.    Elapsed: 0:00:13.\n",
            "  Batch 1,200  of  1,623.    Elapsed: 0:00:14.\n",
            "  Batch 1,300  of  1,623.    Elapsed: 0:00:16.\n",
            "  Batch 1,400  of  1,623.    Elapsed: 0:00:17.\n",
            "  Batch 1,500  of  1,623.    Elapsed: 0:00:18.\n",
            "  Batch 1,600  of  1,623.    Elapsed: 0:00:19.\n",
            "\n",
            "Test took: 0:00:19\n"
          ],
          "name": "stdout"
        }
      ]
    },
    {
      "cell_type": "code",
      "metadata": {
        "id": "CtVGAJ3QhWY6",
        "colab": {
          "base_uri": "https://localhost:8080/"
        },
        "outputId": "5ccba89f-191e-433e-9aee-bf5636d6daf8"
      },
      "source": [
        "test_result['Predicted']"
      ],
      "execution_count": null,
      "outputs": [
        {
          "output_type": "execute_result",
          "data": {
            "text/plain": [
              "0           neutral\n",
              "1               joy\n",
              "2             anger\n",
              "3           neutral\n",
              "4       non-neutral\n",
              "           ...     \n",
              "1618        neutral\n",
              "1619            joy\n",
              "1620        neutral\n",
              "1621        neutral\n",
              "1622          anger\n",
              "Name: Predicted, Length: 1623, dtype: object"
            ]
          },
          "metadata": {
            "tags": []
          },
          "execution_count": 45
        }
      ]
    },
    {
      "cell_type": "code",
      "metadata": {
        "id": "9PmG3cdAhWbk",
        "colab": {
          "base_uri": "https://localhost:8080/",
          "height": 419
        },
        "outputId": "f7f7cb03-252f-49cf-a8c9-e85d3cb79b49"
      },
      "source": [
        "test_result"
      ],
      "execution_count": null,
      "outputs": [
        {
          "output_type": "execute_result",
          "data": {
            "text/html": [
              "<div>\n",
              "<style scoped>\n",
              "    .dataframe tbody tr th:only-of-type {\n",
              "        vertical-align: middle;\n",
              "    }\n",
              "\n",
              "    .dataframe tbody tr th {\n",
              "        vertical-align: top;\n",
              "    }\n",
              "\n",
              "    .dataframe thead th {\n",
              "        text-align: right;\n",
              "    }\n",
              "</style>\n",
              "<table border=\"1\" class=\"dataframe\">\n",
              "  <thead>\n",
              "    <tr style=\"text-align: right;\">\n",
              "      <th></th>\n",
              "      <th>id</th>\n",
              "      <th>utterance</th>\n",
              "      <th>Predicted</th>\n",
              "    </tr>\n",
              "  </thead>\n",
              "  <tbody>\n",
              "    <tr>\n",
              "      <th>0</th>\n",
              "      <td>0</td>\n",
              "      <td>Alright, whadyou do with him?</td>\n",
              "      <td>neutral</td>\n",
              "    </tr>\n",
              "    <tr>\n",
              "      <th>1</th>\n",
              "      <td>1</td>\n",
              "      <td>Oh! You're awake!</td>\n",
              "      <td>joy</td>\n",
              "    </tr>\n",
              "    <tr>\n",
              "      <th>2</th>\n",
              "      <td>2</td>\n",
              "      <td>Then you gotta come clean with Ma! This is not...</td>\n",
              "      <td>anger</td>\n",
              "    </tr>\n",
              "    <tr>\n",
              "      <th>3</th>\n",
              "      <td>3</td>\n",
              "      <td>Yeah, but this is</td>\n",
              "      <td>neutral</td>\n",
              "    </tr>\n",
              "    <tr>\n",
              "      <th>4</th>\n",
              "      <td>4</td>\n",
              "      <td>I don't wanna hear it! Now go to my room!</td>\n",
              "      <td>non-neutral</td>\n",
              "    </tr>\n",
              "    <tr>\n",
              "      <th>...</th>\n",
              "      <td>...</td>\n",
              "      <td>...</td>\n",
              "      <td>...</td>\n",
              "    </tr>\n",
              "    <tr>\n",
              "      <th>1618</th>\n",
              "      <td>1618</td>\n",
              "      <td>Nooo.</td>\n",
              "      <td>neutral</td>\n",
              "    </tr>\n",
              "    <tr>\n",
              "      <th>1619</th>\n",
              "      <td>1619</td>\n",
              "      <td>Hi, Kate!</td>\n",
              "      <td>joy</td>\n",
              "    </tr>\n",
              "    <tr>\n",
              "      <th>1620</th>\n",
              "      <td>1620</td>\n",
              "      <td>Hi, Lauren.</td>\n",
              "      <td>neutral</td>\n",
              "    </tr>\n",
              "    <tr>\n",
              "      <th>1621</th>\n",
              "      <td>1621</td>\n",
              "      <td>Hi, Lauren.</td>\n",
              "      <td>neutral</td>\n",
              "    </tr>\n",
              "    <tr>\n",
              "      <th>1622</th>\n",
              "      <td>1622</td>\n",
              "      <td>Hi, pig!</td>\n",
              "      <td>anger</td>\n",
              "    </tr>\n",
              "  </tbody>\n",
              "</table>\n",
              "<p>1623 rows × 3 columns</p>\n",
              "</div>"
            ],
            "text/plain": [
              "        id                                          utterance    Predicted\n",
              "0        0                      Alright, whadyou do with him?      neutral\n",
              "1        1                                  Oh! You're awake!          joy\n",
              "2        2  Then you gotta come clean with Ma! This is not...        anger\n",
              "3        3                                  Yeah, but this is      neutral\n",
              "4        4          I don't wanna hear it! Now go to my room!  non-neutral\n",
              "...    ...                                                ...          ...\n",
              "1618  1618                                              Nooo.      neutral\n",
              "1619  1619                                          Hi, Kate!          joy\n",
              "1620  1620                                        Hi, Lauren.      neutral\n",
              "1621  1621                                        Hi, Lauren.      neutral\n",
              "1622  1622                                           Hi, pig!        anger\n",
              "\n",
              "[1623 rows x 3 columns]"
            ]
          },
          "metadata": {
            "tags": []
          },
          "execution_count": 46
        }
      ]
    },
    {
      "cell_type": "code",
      "metadata": {
        "id": "R2qTHzzshGhq"
      },
      "source": [
        "test_result.drop(labels='utterance', axis=\"columns\", inplace=True)"
      ],
      "execution_count": null,
      "outputs": []
    },
    {
      "cell_type": "code",
      "metadata": {
        "id": "I_lLlP__hacf",
        "colab": {
          "base_uri": "https://localhost:8080/",
          "height": 17
        },
        "outputId": "6c07fb17-2d2f-405b-b038-663512b88260"
      },
      "source": [
        "test_csv = test_result.to_csv('submission_bert_uncase_20.csv', columns=['id', 'Predicted'], index=False)\r\n",
        "from google.colab import files\r\n",
        "\r\n",
        "files.download('submission_bert_uncase_20.csv')"
      ],
      "execution_count": null,
      "outputs": [
        {
          "output_type": "display_data",
          "data": {
            "application/javascript": [
              "\n",
              "    async function download(id, filename, size) {\n",
              "      if (!google.colab.kernel.accessAllowed) {\n",
              "        return;\n",
              "      }\n",
              "      const div = document.createElement('div');\n",
              "      const label = document.createElement('label');\n",
              "      label.textContent = `Downloading \"${filename}\": `;\n",
              "      div.appendChild(label);\n",
              "      const progress = document.createElement('progress');\n",
              "      progress.max = size;\n",
              "      div.appendChild(progress);\n",
              "      document.body.appendChild(div);\n",
              "\n",
              "      const buffers = [];\n",
              "      let downloaded = 0;\n",
              "\n",
              "      const channel = await google.colab.kernel.comms.open(id);\n",
              "      // Send a message to notify the kernel that we're ready.\n",
              "      channel.send({})\n",
              "\n",
              "      for await (const message of channel.messages) {\n",
              "        // Send a message to notify the kernel that we're ready.\n",
              "        channel.send({})\n",
              "        if (message.buffers) {\n",
              "          for (const buffer of message.buffers) {\n",
              "            buffers.push(buffer);\n",
              "            downloaded += buffer.byteLength;\n",
              "            progress.value = downloaded;\n",
              "          }\n",
              "        }\n",
              "      }\n",
              "      const blob = new Blob(buffers, {type: 'application/binary'});\n",
              "      const a = document.createElement('a');\n",
              "      a.href = window.URL.createObjectURL(blob);\n",
              "      a.download = filename;\n",
              "      div.appendChild(a);\n",
              "      a.click();\n",
              "      div.remove();\n",
              "    }\n",
              "  "
            ],
            "text/plain": [
              "<IPython.core.display.Javascript object>"
            ]
          },
          "metadata": {
            "tags": []
          }
        },
        {
          "output_type": "display_data",
          "data": {
            "application/javascript": [
              "download(\"download_7d694564-b55f-4b5a-8c53-65b1cb6d9270\", \"submission_bert_uncase_20.csv\", 20720)"
            ],
            "text/plain": [
              "<IPython.core.display.Javascript object>"
            ]
          },
          "metadata": {
            "tags": []
          }
        }
      ]
    }
  ]
}