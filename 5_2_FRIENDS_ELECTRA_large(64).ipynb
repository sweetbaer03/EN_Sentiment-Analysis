{
  "nbformat": 4,
  "nbformat_minor": 0,
  "metadata": {
    "colab": {
      "name": "5-1. FRIENDS_ELECTRA_large(32).ipynb",
      "provenance": [],
      "collapsed_sections": [],
      "mount_file_id": "1UhC_svCNScndorgU2jl1jtVlfpFVcm3B",
      "authorship_tag": "ABX9TyP0WRt4UeywbnIwYmRSBEEb",
      "include_colab_link": true
    },
    "kernelspec": {
      "name": "python3",
      "display_name": "Python 3"
    },
    "accelerator": "GPU",
    "widgets": {
      "application/vnd.jupyter.widget-state+json": {
        "2405de2b89024568a59c35c4b32865dd": {
          "model_module": "@jupyter-widgets/controls",
          "model_name": "HBoxModel",
          "state": {
            "_view_name": "HBoxView",
            "_dom_classes": [],
            "_model_name": "HBoxModel",
            "_view_module": "@jupyter-widgets/controls",
            "_model_module_version": "1.5.0",
            "_view_count": null,
            "_view_module_version": "1.5.0",
            "box_style": "",
            "layout": "IPY_MODEL_6bde009b8bba476bb5deffdca57508ca",
            "_model_module": "@jupyter-widgets/controls",
            "children": [
              "IPY_MODEL_498085b7ed2443d58b7ef157e28c6345",
              "IPY_MODEL_3c722e3c5f984514a19c7ccad00aaaea"
            ]
          }
        },
        "6bde009b8bba476bb5deffdca57508ca": {
          "model_module": "@jupyter-widgets/base",
          "model_name": "LayoutModel",
          "state": {
            "_view_name": "LayoutView",
            "grid_template_rows": null,
            "right": null,
            "justify_content": null,
            "_view_module": "@jupyter-widgets/base",
            "overflow": null,
            "_model_module_version": "1.2.0",
            "_view_count": null,
            "flex_flow": null,
            "width": null,
            "min_width": null,
            "border": null,
            "align_items": null,
            "bottom": null,
            "_model_module": "@jupyter-widgets/base",
            "top": null,
            "grid_column": null,
            "overflow_y": null,
            "overflow_x": null,
            "grid_auto_flow": null,
            "grid_area": null,
            "grid_template_columns": null,
            "flex": null,
            "_model_name": "LayoutModel",
            "justify_items": null,
            "grid_row": null,
            "max_height": null,
            "align_content": null,
            "visibility": null,
            "align_self": null,
            "height": null,
            "min_height": null,
            "padding": null,
            "grid_auto_rows": null,
            "grid_gap": null,
            "max_width": null,
            "order": null,
            "_view_module_version": "1.2.0",
            "grid_template_areas": null,
            "object_position": null,
            "object_fit": null,
            "grid_auto_columns": null,
            "margin": null,
            "display": null,
            "left": null
          }
        },
        "498085b7ed2443d58b7ef157e28c6345": {
          "model_module": "@jupyter-widgets/controls",
          "model_name": "FloatProgressModel",
          "state": {
            "_view_name": "ProgressView",
            "style": "IPY_MODEL_6f470354592245988d6a252b91ebc948",
            "_dom_classes": [],
            "description": "Downloading: 100%",
            "_model_name": "FloatProgressModel",
            "bar_style": "success",
            "max": 231508,
            "_view_module": "@jupyter-widgets/controls",
            "_model_module_version": "1.5.0",
            "value": 231508,
            "_view_count": null,
            "_view_module_version": "1.5.0",
            "orientation": "horizontal",
            "min": 0,
            "description_tooltip": null,
            "_model_module": "@jupyter-widgets/controls",
            "layout": "IPY_MODEL_5c2fbcc8065c4becb84a663e5ee067ea"
          }
        },
        "3c722e3c5f984514a19c7ccad00aaaea": {
          "model_module": "@jupyter-widgets/controls",
          "model_name": "HTMLModel",
          "state": {
            "_view_name": "HTMLView",
            "style": "IPY_MODEL_339ff812b0784966bcc65fe2682b42c9",
            "_dom_classes": [],
            "description": "",
            "_model_name": "HTMLModel",
            "placeholder": "​",
            "_view_module": "@jupyter-widgets/controls",
            "_model_module_version": "1.5.0",
            "value": " 232k/232k [00:00&lt;00:00, 631kB/s]",
            "_view_count": null,
            "_view_module_version": "1.5.0",
            "description_tooltip": null,
            "_model_module": "@jupyter-widgets/controls",
            "layout": "IPY_MODEL_f278aa005cf445869099932e25f112d3"
          }
        },
        "6f470354592245988d6a252b91ebc948": {
          "model_module": "@jupyter-widgets/controls",
          "model_name": "ProgressStyleModel",
          "state": {
            "_view_name": "StyleView",
            "_model_name": "ProgressStyleModel",
            "description_width": "initial",
            "_view_module": "@jupyter-widgets/base",
            "_model_module_version": "1.5.0",
            "_view_count": null,
            "_view_module_version": "1.2.0",
            "bar_color": null,
            "_model_module": "@jupyter-widgets/controls"
          }
        },
        "5c2fbcc8065c4becb84a663e5ee067ea": {
          "model_module": "@jupyter-widgets/base",
          "model_name": "LayoutModel",
          "state": {
            "_view_name": "LayoutView",
            "grid_template_rows": null,
            "right": null,
            "justify_content": null,
            "_view_module": "@jupyter-widgets/base",
            "overflow": null,
            "_model_module_version": "1.2.0",
            "_view_count": null,
            "flex_flow": null,
            "width": null,
            "min_width": null,
            "border": null,
            "align_items": null,
            "bottom": null,
            "_model_module": "@jupyter-widgets/base",
            "top": null,
            "grid_column": null,
            "overflow_y": null,
            "overflow_x": null,
            "grid_auto_flow": null,
            "grid_area": null,
            "grid_template_columns": null,
            "flex": null,
            "_model_name": "LayoutModel",
            "justify_items": null,
            "grid_row": null,
            "max_height": null,
            "align_content": null,
            "visibility": null,
            "align_self": null,
            "height": null,
            "min_height": null,
            "padding": null,
            "grid_auto_rows": null,
            "grid_gap": null,
            "max_width": null,
            "order": null,
            "_view_module_version": "1.2.0",
            "grid_template_areas": null,
            "object_position": null,
            "object_fit": null,
            "grid_auto_columns": null,
            "margin": null,
            "display": null,
            "left": null
          }
        },
        "339ff812b0784966bcc65fe2682b42c9": {
          "model_module": "@jupyter-widgets/controls",
          "model_name": "DescriptionStyleModel",
          "state": {
            "_view_name": "StyleView",
            "_model_name": "DescriptionStyleModel",
            "description_width": "",
            "_view_module": "@jupyter-widgets/base",
            "_model_module_version": "1.5.0",
            "_view_count": null,
            "_view_module_version": "1.2.0",
            "_model_module": "@jupyter-widgets/controls"
          }
        },
        "f278aa005cf445869099932e25f112d3": {
          "model_module": "@jupyter-widgets/base",
          "model_name": "LayoutModel",
          "state": {
            "_view_name": "LayoutView",
            "grid_template_rows": null,
            "right": null,
            "justify_content": null,
            "_view_module": "@jupyter-widgets/base",
            "overflow": null,
            "_model_module_version": "1.2.0",
            "_view_count": null,
            "flex_flow": null,
            "width": null,
            "min_width": null,
            "border": null,
            "align_items": null,
            "bottom": null,
            "_model_module": "@jupyter-widgets/base",
            "top": null,
            "grid_column": null,
            "overflow_y": null,
            "overflow_x": null,
            "grid_auto_flow": null,
            "grid_area": null,
            "grid_template_columns": null,
            "flex": null,
            "_model_name": "LayoutModel",
            "justify_items": null,
            "grid_row": null,
            "max_height": null,
            "align_content": null,
            "visibility": null,
            "align_self": null,
            "height": null,
            "min_height": null,
            "padding": null,
            "grid_auto_rows": null,
            "grid_gap": null,
            "max_width": null,
            "order": null,
            "_view_module_version": "1.2.0",
            "grid_template_areas": null,
            "object_position": null,
            "object_fit": null,
            "grid_auto_columns": null,
            "margin": null,
            "display": null,
            "left": null
          }
        },
        "05c6b0e56d2c48428a9790c618983cf2": {
          "model_module": "@jupyter-widgets/controls",
          "model_name": "HBoxModel",
          "state": {
            "_view_name": "HBoxView",
            "_dom_classes": [],
            "_model_name": "HBoxModel",
            "_view_module": "@jupyter-widgets/controls",
            "_model_module_version": "1.5.0",
            "_view_count": null,
            "_view_module_version": "1.5.0",
            "box_style": "",
            "layout": "IPY_MODEL_5545fe19e3754bbfb65b8fa23d3fd99c",
            "_model_module": "@jupyter-widgets/controls",
            "children": [
              "IPY_MODEL_223a9392581d41939c9c818c7f660033",
              "IPY_MODEL_efe9f35201484077bfea8dc6d93d2781"
            ]
          }
        },
        "5545fe19e3754bbfb65b8fa23d3fd99c": {
          "model_module": "@jupyter-widgets/base",
          "model_name": "LayoutModel",
          "state": {
            "_view_name": "LayoutView",
            "grid_template_rows": null,
            "right": null,
            "justify_content": null,
            "_view_module": "@jupyter-widgets/base",
            "overflow": null,
            "_model_module_version": "1.2.0",
            "_view_count": null,
            "flex_flow": null,
            "width": null,
            "min_width": null,
            "border": null,
            "align_items": null,
            "bottom": null,
            "_model_module": "@jupyter-widgets/base",
            "top": null,
            "grid_column": null,
            "overflow_y": null,
            "overflow_x": null,
            "grid_auto_flow": null,
            "grid_area": null,
            "grid_template_columns": null,
            "flex": null,
            "_model_name": "LayoutModel",
            "justify_items": null,
            "grid_row": null,
            "max_height": null,
            "align_content": null,
            "visibility": null,
            "align_self": null,
            "height": null,
            "min_height": null,
            "padding": null,
            "grid_auto_rows": null,
            "grid_gap": null,
            "max_width": null,
            "order": null,
            "_view_module_version": "1.2.0",
            "grid_template_areas": null,
            "object_position": null,
            "object_fit": null,
            "grid_auto_columns": null,
            "margin": null,
            "display": null,
            "left": null
          }
        },
        "223a9392581d41939c9c818c7f660033": {
          "model_module": "@jupyter-widgets/controls",
          "model_name": "FloatProgressModel",
          "state": {
            "_view_name": "ProgressView",
            "style": "IPY_MODEL_b83461112e8041a08ea763d036c06b8a",
            "_dom_classes": [],
            "description": "Downloading: 100%",
            "_model_name": "FloatProgressModel",
            "bar_style": "success",
            "max": 464,
            "_view_module": "@jupyter-widgets/controls",
            "_model_module_version": "1.5.0",
            "value": 464,
            "_view_count": null,
            "_view_module_version": "1.5.0",
            "orientation": "horizontal",
            "min": 0,
            "description_tooltip": null,
            "_model_module": "@jupyter-widgets/controls",
            "layout": "IPY_MODEL_c282640c8ce942c98b0d9b67c115ceb3"
          }
        },
        "efe9f35201484077bfea8dc6d93d2781": {
          "model_module": "@jupyter-widgets/controls",
          "model_name": "HTMLModel",
          "state": {
            "_view_name": "HTMLView",
            "style": "IPY_MODEL_b941c4372b2d4f3db97eff596603f640",
            "_dom_classes": [],
            "description": "",
            "_model_name": "HTMLModel",
            "placeholder": "​",
            "_view_module": "@jupyter-widgets/controls",
            "_model_module_version": "1.5.0",
            "value": " 464/464 [00:00&lt;00:00, 1.52kB/s]",
            "_view_count": null,
            "_view_module_version": "1.5.0",
            "description_tooltip": null,
            "_model_module": "@jupyter-widgets/controls",
            "layout": "IPY_MODEL_7385dfa596214ce89788b8649c53aeec"
          }
        },
        "b83461112e8041a08ea763d036c06b8a": {
          "model_module": "@jupyter-widgets/controls",
          "model_name": "ProgressStyleModel",
          "state": {
            "_view_name": "StyleView",
            "_model_name": "ProgressStyleModel",
            "description_width": "initial",
            "_view_module": "@jupyter-widgets/base",
            "_model_module_version": "1.5.0",
            "_view_count": null,
            "_view_module_version": "1.2.0",
            "bar_color": null,
            "_model_module": "@jupyter-widgets/controls"
          }
        },
        "c282640c8ce942c98b0d9b67c115ceb3": {
          "model_module": "@jupyter-widgets/base",
          "model_name": "LayoutModel",
          "state": {
            "_view_name": "LayoutView",
            "grid_template_rows": null,
            "right": null,
            "justify_content": null,
            "_view_module": "@jupyter-widgets/base",
            "overflow": null,
            "_model_module_version": "1.2.0",
            "_view_count": null,
            "flex_flow": null,
            "width": null,
            "min_width": null,
            "border": null,
            "align_items": null,
            "bottom": null,
            "_model_module": "@jupyter-widgets/base",
            "top": null,
            "grid_column": null,
            "overflow_y": null,
            "overflow_x": null,
            "grid_auto_flow": null,
            "grid_area": null,
            "grid_template_columns": null,
            "flex": null,
            "_model_name": "LayoutModel",
            "justify_items": null,
            "grid_row": null,
            "max_height": null,
            "align_content": null,
            "visibility": null,
            "align_self": null,
            "height": null,
            "min_height": null,
            "padding": null,
            "grid_auto_rows": null,
            "grid_gap": null,
            "max_width": null,
            "order": null,
            "_view_module_version": "1.2.0",
            "grid_template_areas": null,
            "object_position": null,
            "object_fit": null,
            "grid_auto_columns": null,
            "margin": null,
            "display": null,
            "left": null
          }
        },
        "b941c4372b2d4f3db97eff596603f640": {
          "model_module": "@jupyter-widgets/controls",
          "model_name": "DescriptionStyleModel",
          "state": {
            "_view_name": "StyleView",
            "_model_name": "DescriptionStyleModel",
            "description_width": "",
            "_view_module": "@jupyter-widgets/base",
            "_model_module_version": "1.5.0",
            "_view_count": null,
            "_view_module_version": "1.2.0",
            "_model_module": "@jupyter-widgets/controls"
          }
        },
        "7385dfa596214ce89788b8649c53aeec": {
          "model_module": "@jupyter-widgets/base",
          "model_name": "LayoutModel",
          "state": {
            "_view_name": "LayoutView",
            "grid_template_rows": null,
            "right": null,
            "justify_content": null,
            "_view_module": "@jupyter-widgets/base",
            "overflow": null,
            "_model_module_version": "1.2.0",
            "_view_count": null,
            "flex_flow": null,
            "width": null,
            "min_width": null,
            "border": null,
            "align_items": null,
            "bottom": null,
            "_model_module": "@jupyter-widgets/base",
            "top": null,
            "grid_column": null,
            "overflow_y": null,
            "overflow_x": null,
            "grid_auto_flow": null,
            "grid_area": null,
            "grid_template_columns": null,
            "flex": null,
            "_model_name": "LayoutModel",
            "justify_items": null,
            "grid_row": null,
            "max_height": null,
            "align_content": null,
            "visibility": null,
            "align_self": null,
            "height": null,
            "min_height": null,
            "padding": null,
            "grid_auto_rows": null,
            "grid_gap": null,
            "max_width": null,
            "order": null,
            "_view_module_version": "1.2.0",
            "grid_template_areas": null,
            "object_position": null,
            "object_fit": null,
            "grid_auto_columns": null,
            "margin": null,
            "display": null,
            "left": null
          }
        },
        "d790fbce88ff440fb056eb7db4b3fc77": {
          "model_module": "@jupyter-widgets/controls",
          "model_name": "HBoxModel",
          "state": {
            "_view_name": "HBoxView",
            "_dom_classes": [],
            "_model_name": "HBoxModel",
            "_view_module": "@jupyter-widgets/controls",
            "_model_module_version": "1.5.0",
            "_view_count": null,
            "_view_module_version": "1.5.0",
            "box_style": "",
            "layout": "IPY_MODEL_a53bf696341c41ee9e6c175aca6dda75",
            "_model_module": "@jupyter-widgets/controls",
            "children": [
              "IPY_MODEL_d5edb9dbc3e54af6bd39489c5f760802",
              "IPY_MODEL_6ed28f89f8054fb6950227e75639d09c"
            ]
          }
        },
        "a53bf696341c41ee9e6c175aca6dda75": {
          "model_module": "@jupyter-widgets/base",
          "model_name": "LayoutModel",
          "state": {
            "_view_name": "LayoutView",
            "grid_template_rows": null,
            "right": null,
            "justify_content": null,
            "_view_module": "@jupyter-widgets/base",
            "overflow": null,
            "_model_module_version": "1.2.0",
            "_view_count": null,
            "flex_flow": null,
            "width": null,
            "min_width": null,
            "border": null,
            "align_items": null,
            "bottom": null,
            "_model_module": "@jupyter-widgets/base",
            "top": null,
            "grid_column": null,
            "overflow_y": null,
            "overflow_x": null,
            "grid_auto_flow": null,
            "grid_area": null,
            "grid_template_columns": null,
            "flex": null,
            "_model_name": "LayoutModel",
            "justify_items": null,
            "grid_row": null,
            "max_height": null,
            "align_content": null,
            "visibility": null,
            "align_self": null,
            "height": null,
            "min_height": null,
            "padding": null,
            "grid_auto_rows": null,
            "grid_gap": null,
            "max_width": null,
            "order": null,
            "_view_module_version": "1.2.0",
            "grid_template_areas": null,
            "object_position": null,
            "object_fit": null,
            "grid_auto_columns": null,
            "margin": null,
            "display": null,
            "left": null
          }
        },
        "d5edb9dbc3e54af6bd39489c5f760802": {
          "model_module": "@jupyter-widgets/controls",
          "model_name": "FloatProgressModel",
          "state": {
            "_view_name": "ProgressView",
            "style": "IPY_MODEL_792e897809264099887b86ef3199fa5c",
            "_dom_classes": [],
            "description": "Downloading: 100%",
            "_model_name": "FloatProgressModel",
            "bar_style": "success",
            "max": 205278384,
            "_view_module": "@jupyter-widgets/controls",
            "_model_module_version": "1.5.0",
            "value": 205278384,
            "_view_count": null,
            "_view_module_version": "1.5.0",
            "orientation": "horizontal",
            "min": 0,
            "description_tooltip": null,
            "_model_module": "@jupyter-widgets/controls",
            "layout": "IPY_MODEL_9dd821c436fc4ef4b46f57b74d635028"
          }
        },
        "6ed28f89f8054fb6950227e75639d09c": {
          "model_module": "@jupyter-widgets/controls",
          "model_name": "HTMLModel",
          "state": {
            "_view_name": "HTMLView",
            "style": "IPY_MODEL_0cd29cf8e72e48c8b105580e49ac3504",
            "_dom_classes": [],
            "description": "",
            "_model_name": "HTMLModel",
            "placeholder": "​",
            "_view_module": "@jupyter-widgets/controls",
            "_model_module_version": "1.5.0",
            "value": " 205M/205M [00:03&lt;00:00, 59.6MB/s]",
            "_view_count": null,
            "_view_module_version": "1.5.0",
            "description_tooltip": null,
            "_model_module": "@jupyter-widgets/controls",
            "layout": "IPY_MODEL_26efc92e78484fc4a2c876962ed35e86"
          }
        },
        "792e897809264099887b86ef3199fa5c": {
          "model_module": "@jupyter-widgets/controls",
          "model_name": "ProgressStyleModel",
          "state": {
            "_view_name": "StyleView",
            "_model_name": "ProgressStyleModel",
            "description_width": "initial",
            "_view_module": "@jupyter-widgets/base",
            "_model_module_version": "1.5.0",
            "_view_count": null,
            "_view_module_version": "1.2.0",
            "bar_color": null,
            "_model_module": "@jupyter-widgets/controls"
          }
        },
        "9dd821c436fc4ef4b46f57b74d635028": {
          "model_module": "@jupyter-widgets/base",
          "model_name": "LayoutModel",
          "state": {
            "_view_name": "LayoutView",
            "grid_template_rows": null,
            "right": null,
            "justify_content": null,
            "_view_module": "@jupyter-widgets/base",
            "overflow": null,
            "_model_module_version": "1.2.0",
            "_view_count": null,
            "flex_flow": null,
            "width": null,
            "min_width": null,
            "border": null,
            "align_items": null,
            "bottom": null,
            "_model_module": "@jupyter-widgets/base",
            "top": null,
            "grid_column": null,
            "overflow_y": null,
            "overflow_x": null,
            "grid_auto_flow": null,
            "grid_area": null,
            "grid_template_columns": null,
            "flex": null,
            "_model_name": "LayoutModel",
            "justify_items": null,
            "grid_row": null,
            "max_height": null,
            "align_content": null,
            "visibility": null,
            "align_self": null,
            "height": null,
            "min_height": null,
            "padding": null,
            "grid_auto_rows": null,
            "grid_gap": null,
            "max_width": null,
            "order": null,
            "_view_module_version": "1.2.0",
            "grid_template_areas": null,
            "object_position": null,
            "object_fit": null,
            "grid_auto_columns": null,
            "margin": null,
            "display": null,
            "left": null
          }
        },
        "0cd29cf8e72e48c8b105580e49ac3504": {
          "model_module": "@jupyter-widgets/controls",
          "model_name": "DescriptionStyleModel",
          "state": {
            "_view_name": "StyleView",
            "_model_name": "DescriptionStyleModel",
            "description_width": "",
            "_view_module": "@jupyter-widgets/base",
            "_model_module_version": "1.5.0",
            "_view_count": null,
            "_view_module_version": "1.2.0",
            "_model_module": "@jupyter-widgets/controls"
          }
        },
        "26efc92e78484fc4a2c876962ed35e86": {
          "model_module": "@jupyter-widgets/base",
          "model_name": "LayoutModel",
          "state": {
            "_view_name": "LayoutView",
            "grid_template_rows": null,
            "right": null,
            "justify_content": null,
            "_view_module": "@jupyter-widgets/base",
            "overflow": null,
            "_model_module_version": "1.2.0",
            "_view_count": null,
            "flex_flow": null,
            "width": null,
            "min_width": null,
            "border": null,
            "align_items": null,
            "bottom": null,
            "_model_module": "@jupyter-widgets/base",
            "top": null,
            "grid_column": null,
            "overflow_y": null,
            "overflow_x": null,
            "grid_auto_flow": null,
            "grid_area": null,
            "grid_template_columns": null,
            "flex": null,
            "_model_name": "LayoutModel",
            "justify_items": null,
            "grid_row": null,
            "max_height": null,
            "align_content": null,
            "visibility": null,
            "align_self": null,
            "height": null,
            "min_height": null,
            "padding": null,
            "grid_auto_rows": null,
            "grid_gap": null,
            "max_width": null,
            "order": null,
            "_view_module_version": "1.2.0",
            "grid_template_areas": null,
            "object_position": null,
            "object_fit": null,
            "grid_auto_columns": null,
            "margin": null,
            "display": null,
            "left": null
          }
        }
      }
    }
  },
  "cells": [
    {
      "cell_type": "markdown",
      "metadata": {
        "id": "view-in-github",
        "colab_type": "text"
      },
      "source": [
        "<a href=\"https://colab.research.google.com/github/sweetbaer03/EN_Sentiment-Analysis/blob/main/5_2_FRIENDS_ELECTRA_large(64).ipynb\" target=\"_parent\"><img src=\"https://colab.research.google.com/assets/colab-badge.svg\" alt=\"Open In Colab\"/></a>"
      ]
    },
    {
      "cell_type": "markdown",
      "metadata": {
        "id": "Tb0PNX9aZi0p"
      },
      "source": [
        "**FRIENDS Sentiment Analysis**\r\n",
        "\r\n",
        "\r\n",
        "ELECTRA_large 모델 사용 "
      ]
    },
    {
      "cell_type": "code",
      "metadata": {
        "colab": {
          "base_uri": "https://localhost:8080/"
        },
        "id": "PKkEByjh5y_h",
        "outputId": "84c425b5-7bf6-4687-aea3-4f0f2a8f0598"
      },
      "source": [
        "#transformers 설치(colab 사용시)\r\n",
        "!pip install transformers"
      ],
      "execution_count": 1,
      "outputs": [
        {
          "output_type": "stream",
          "text": [
            "Collecting transformers\n",
            "\u001b[?25l  Downloading https://files.pythonhosted.org/packages/50/0c/7d5950fcd80b029be0a8891727ba21e0cd27692c407c51261c3c921f6da3/transformers-4.1.1-py3-none-any.whl (1.5MB)\n",
            "\u001b[K     |████████████████████████████████| 1.5MB 13.4MB/s \n",
            "\u001b[?25hCollecting tokenizers==0.9.4\n",
            "\u001b[?25l  Downloading https://files.pythonhosted.org/packages/0f/1c/e789a8b12e28be5bc1ce2156cf87cb522b379be9cadc7ad8091a4cc107c4/tokenizers-0.9.4-cp36-cp36m-manylinux2010_x86_64.whl (2.9MB)\n",
            "\u001b[K     |████████████████████████████████| 2.9MB 52.2MB/s \n",
            "\u001b[?25hRequirement already satisfied: packaging in /usr/local/lib/python3.6/dist-packages (from transformers) (20.8)\n",
            "Requirement already satisfied: filelock in /usr/local/lib/python3.6/dist-packages (from transformers) (3.0.12)\n",
            "Requirement already satisfied: numpy in /usr/local/lib/python3.6/dist-packages (from transformers) (1.19.4)\n",
            "Collecting sacremoses\n",
            "\u001b[?25l  Downloading https://files.pythonhosted.org/packages/7d/34/09d19aff26edcc8eb2a01bed8e98f13a1537005d31e95233fd48216eed10/sacremoses-0.0.43.tar.gz (883kB)\n",
            "\u001b[K     |████████████████████████████████| 890kB 52.6MB/s \n",
            "\u001b[?25hRequirement already satisfied: requests in /usr/local/lib/python3.6/dist-packages (from transformers) (2.23.0)\n",
            "Requirement already satisfied: regex!=2019.12.17 in /usr/local/lib/python3.6/dist-packages (from transformers) (2019.12.20)\n",
            "Requirement already satisfied: dataclasses; python_version < \"3.7\" in /usr/local/lib/python3.6/dist-packages (from transformers) (0.8)\n",
            "Requirement already satisfied: tqdm>=4.27 in /usr/local/lib/python3.6/dist-packages (from transformers) (4.41.1)\n",
            "Requirement already satisfied: pyparsing>=2.0.2 in /usr/local/lib/python3.6/dist-packages (from packaging->transformers) (2.4.7)\n",
            "Requirement already satisfied: six in /usr/local/lib/python3.6/dist-packages (from sacremoses->transformers) (1.15.0)\n",
            "Requirement already satisfied: click in /usr/local/lib/python3.6/dist-packages (from sacremoses->transformers) (7.1.2)\n",
            "Requirement already satisfied: joblib in /usr/local/lib/python3.6/dist-packages (from sacremoses->transformers) (1.0.0)\n",
            "Requirement already satisfied: idna<3,>=2.5 in /usr/local/lib/python3.6/dist-packages (from requests->transformers) (2.10)\n",
            "Requirement already satisfied: chardet<4,>=3.0.2 in /usr/local/lib/python3.6/dist-packages (from requests->transformers) (3.0.4)\n",
            "Requirement already satisfied: urllib3!=1.25.0,!=1.25.1,<1.26,>=1.21.1 in /usr/local/lib/python3.6/dist-packages (from requests->transformers) (1.24.3)\n",
            "Requirement already satisfied: certifi>=2017.4.17 in /usr/local/lib/python3.6/dist-packages (from requests->transformers) (2020.12.5)\n",
            "Building wheels for collected packages: sacremoses\n",
            "  Building wheel for sacremoses (setup.py) ... \u001b[?25l\u001b[?25hdone\n",
            "  Created wheel for sacremoses: filename=sacremoses-0.0.43-cp36-none-any.whl size=893261 sha256=c8c72072555ae0d4487214c0f7e4c8413d2bddf98a37e3ac128a3e19784282ae\n",
            "  Stored in directory: /root/.cache/pip/wheels/29/3c/fd/7ce5c3f0666dab31a50123635e6fb5e19ceb42ce38d4e58f45\n",
            "Successfully built sacremoses\n",
            "Installing collected packages: tokenizers, sacremoses, transformers\n",
            "Successfully installed sacremoses-0.0.43 tokenizers-0.9.4 transformers-4.1.1\n"
          ],
          "name": "stdout"
        }
      ]
    },
    {
      "cell_type": "code",
      "metadata": {
        "id": "D4L8v9ECIs-k"
      },
      "source": [
        "import tensorflow as tf\n",
        "import torch\n",
        "import pandas as pd\n",
        "import numpy as np\n",
        "import random\n",
        "import time\n",
        "import datetime\n",
        "import json\n",
        "import re\n",
        "import nltk\n",
        "import matplotlib.pyplot as plt\n",
        "\n",
        "from transformers import ElectraTokenizer, ElectraForSequenceClassification\n",
        "from transformers import BertTokenizer\n",
        "from transformers import BertForSequenceClassification, AdamW, BertConfig\n",
        "from transformers import get_linear_schedule_with_warmup\n",
        "from torch.utils.data import TensorDataset, DataLoader, RandomSampler, SequentialSampler\n",
        "from keras.preprocessing.sequence import pad_sequences\n",
        "from sklearn.model_selection import train_test_split\n",
        "from sklearn.preprocessing import LabelEncoder\n"
      ],
      "execution_count": 2,
      "outputs": []
    },
    {
      "cell_type": "markdown",
      "metadata": {
        "id": "GIZWo5sLZptB"
      },
      "source": [
        "# 데이터처리"
      ]
    },
    {
      "cell_type": "code",
      "metadata": {
        "colab": {
          "base_uri": "https://localhost:8080/"
        },
        "id": "7b2jnOOJeaSe",
        "outputId": "780045bd-64e9-4e16-9bf1-074bf2201e41"
      },
      "source": [
        "!git clone https://github.com/sweetbaer03/EN_Sentiment-Analysis.git"
      ],
      "execution_count": 3,
      "outputs": [
        {
          "output_type": "stream",
          "text": [
            "Cloning into 'EN_Sentiment-Analysis'...\n",
            "remote: Enumerating objects: 83, done.\u001b[K\n",
            "remote: Counting objects: 100% (83/83), done.\u001b[K\n",
            "remote: Compressing objects: 100% (80/80), done.\u001b[K\n",
            "remote: Total 83 (delta 44), reused 6 (delta 1), pack-reused 0\u001b[K\n",
            "Unpacking objects: 100% (83/83), done.\n"
          ],
          "name": "stdout"
        }
      ]
    },
    {
      "cell_type": "code",
      "metadata": {
        "id": "RLlzf3XhZsG3"
      },
      "source": [
        "#파라미터 수정\r\n",
        "MAX_LEN = 85\r\n",
        "batch_size = 64\r\n",
        "epochs = 20\r\n",
        "\r\n",
        "TOKEN_MODEL = 'google/electra-large-discriminator'\r\n",
        "TRAIN_MODEL = 'google/electra-large-generator'\r\n"
      ],
      "execution_count": 4,
      "outputs": []
    },
    {
      "cell_type": "markdown",
      "metadata": {
        "id": "_jxeGmpdZviu"
      },
      "source": [
        "## 1.1 프렌즈 / 캐글 테스트 데이터"
      ]
    },
    {
      "cell_type": "code",
      "metadata": {
        "id": "Dve0WGvuKyaZ"
      },
      "source": [
        "def jsonToDf(file_name):\n",
        "  with open(file_name, encoding = 'utf-8', mode = 'r') as file:\n",
        "    json_array = json.load(file)\n",
        "  \n",
        "  result = pd.DataFrame.from_dict(json_array[0])\n",
        "\n",
        "  is_first = True\n",
        "  for array in json_array:\n",
        "    if is_first:\n",
        "      is_first = False\n",
        "      continue\n",
        "    \n",
        "    temp_df = pd.DataFrame.from_dict(array)\n",
        "    result = result.append(temp_df, ignore_index = True)\n",
        "\n",
        "  return result"
      ],
      "execution_count": 5,
      "outputs": []
    },
    {
      "cell_type": "code",
      "metadata": {
        "id": "PBb5PrmqesC-"
      },
      "source": [
        "train_data = jsonToDf('EN_Sentiment-Analysis/data_in/friends_train.json')\r\n",
        "dev_data   = jsonToDf('EN_Sentiment-Analysis/data_in/friends_dev.json')\r\n",
        "test_data  = jsonToDf('EN_Sentiment-Analysis/data_in/friends_test.json')"
      ],
      "execution_count": 6,
      "outputs": []
    },
    {
      "cell_type": "code",
      "metadata": {
        "id": "HGBQ3XLFUMXI"
      },
      "source": [
        "#합치기 위해 포멧 통일\r\n",
        "train_data.drop(labels=['speaker','annotation'], axis=\"columns\", inplace=True)\r\n",
        "dev_data.drop(labels=['speaker','annotation'], axis=\"columns\", inplace=True)\r\n",
        "test_data.drop(labels=['speaker','annotation'], axis=\"columns\", inplace=True)"
      ],
      "execution_count": 7,
      "outputs": []
    },
    {
      "cell_type": "code",
      "metadata": {
        "id": "GtQIjp9yesD7"
      },
      "source": [
        "emotions = train_data['emotion'].values"
      ],
      "execution_count": 8,
      "outputs": []
    },
    {
      "cell_type": "markdown",
      "metadata": {
        "id": "n4L8yxjEZ6TN"
      },
      "source": [
        "**캐글** 테스트 데이터"
      ]
    },
    {
      "cell_type": "code",
      "metadata": {
        "id": "KdnQa_w-Z-Ep"
      },
      "source": [
        "test_df = pd.read_csv('EN_Sentiment-Analysis/data_in/en_data.csv')#, encoding = 'unicode_escape')"
      ],
      "execution_count": 9,
      "outputs": []
    },
    {
      "cell_type": "code",
      "metadata": {
        "colab": {
          "base_uri": "https://localhost:8080/",
          "height": 419
        },
        "id": "YFJzryJVZ-HR",
        "outputId": "131c5d7f-e1e7-4d60-ff27-2bdfa1f91c88"
      },
      "source": [
        "test_df"
      ],
      "execution_count": 10,
      "outputs": [
        {
          "output_type": "execute_result",
          "data": {
            "text/html": [
              "<div>\n",
              "<style scoped>\n",
              "    .dataframe tbody tr th:only-of-type {\n",
              "        vertical-align: middle;\n",
              "    }\n",
              "\n",
              "    .dataframe tbody tr th {\n",
              "        vertical-align: top;\n",
              "    }\n",
              "\n",
              "    .dataframe thead th {\n",
              "        text-align: right;\n",
              "    }\n",
              "</style>\n",
              "<table border=\"1\" class=\"dataframe\">\n",
              "  <thead>\n",
              "    <tr style=\"text-align: right;\">\n",
              "      <th></th>\n",
              "      <th>id</th>\n",
              "      <th>i_dialog</th>\n",
              "      <th>i_utterance</th>\n",
              "      <th>speaker</th>\n",
              "      <th>utterance</th>\n",
              "    </tr>\n",
              "  </thead>\n",
              "  <tbody>\n",
              "    <tr>\n",
              "      <th>0</th>\n",
              "      <td>0</td>\n",
              "      <td>0</td>\n",
              "      <td>0</td>\n",
              "      <td>Phoebe</td>\n",
              "      <td>Alright, whadyou do with him?</td>\n",
              "    </tr>\n",
              "    <tr>\n",
              "      <th>1</th>\n",
              "      <td>1</td>\n",
              "      <td>0</td>\n",
              "      <td>1</td>\n",
              "      <td>Monica</td>\n",
              "      <td>Oh! You're awake!</td>\n",
              "    </tr>\n",
              "    <tr>\n",
              "      <th>2</th>\n",
              "      <td>2</td>\n",
              "      <td>0</td>\n",
              "      <td>2</td>\n",
              "      <td>Joey</td>\n",
              "      <td>Then you gotta come clean with Ma! This is not...</td>\n",
              "    </tr>\n",
              "    <tr>\n",
              "      <th>3</th>\n",
              "      <td>3</td>\n",
              "      <td>0</td>\n",
              "      <td>3</td>\n",
              "      <td>Mr. Tribbiani</td>\n",
              "      <td>Yeah, but this is</td>\n",
              "    </tr>\n",
              "    <tr>\n",
              "      <th>4</th>\n",
              "      <td>4</td>\n",
              "      <td>0</td>\n",
              "      <td>4</td>\n",
              "      <td>Joey</td>\n",
              "      <td>I don't wanna hear it! Now go to my room!</td>\n",
              "    </tr>\n",
              "    <tr>\n",
              "      <th>...</th>\n",
              "      <td>...</td>\n",
              "      <td>...</td>\n",
              "      <td>...</td>\n",
              "      <td>...</td>\n",
              "      <td>...</td>\n",
              "    </tr>\n",
              "    <tr>\n",
              "      <th>1618</th>\n",
              "      <td>1618</td>\n",
              "      <td>150</td>\n",
              "      <td>14</td>\n",
              "      <td>Joey</td>\n",
              "      <td>Nooo.</td>\n",
              "    </tr>\n",
              "    <tr>\n",
              "      <th>1619</th>\n",
              "      <td>1619</td>\n",
              "      <td>150</td>\n",
              "      <td>15</td>\n",
              "      <td>Lauren</td>\n",
              "      <td>Hi, Kate!</td>\n",
              "    </tr>\n",
              "    <tr>\n",
              "      <th>1620</th>\n",
              "      <td>1620</td>\n",
              "      <td>150</td>\n",
              "      <td>16</td>\n",
              "      <td>Kate</td>\n",
              "      <td>Hi, Lauren.</td>\n",
              "    </tr>\n",
              "    <tr>\n",
              "      <th>1621</th>\n",
              "      <td>1621</td>\n",
              "      <td>150</td>\n",
              "      <td>17</td>\n",
              "      <td>Joey</td>\n",
              "      <td>Hi, Lauren.</td>\n",
              "    </tr>\n",
              "    <tr>\n",
              "      <th>1622</th>\n",
              "      <td>1622</td>\n",
              "      <td>150</td>\n",
              "      <td>18</td>\n",
              "      <td>Lauren</td>\n",
              "      <td>Hi, pig!</td>\n",
              "    </tr>\n",
              "  </tbody>\n",
              "</table>\n",
              "<p>1623 rows × 5 columns</p>\n",
              "</div>"
            ],
            "text/plain": [
              "        id  ...                                          utterance\n",
              "0        0  ...                      Alright, whadyou do with him?\n",
              "1        1  ...                                  Oh! You're awake!\n",
              "2        2  ...  Then you gotta come clean with Ma! This is not...\n",
              "3        3  ...                                  Yeah, but this is\n",
              "4        4  ...          I don't wanna hear it! Now go to my room!\n",
              "...    ...  ...                                                ...\n",
              "1618  1618  ...                                              Nooo.\n",
              "1619  1619  ...                                          Hi, Kate!\n",
              "1620  1620  ...                                        Hi, Lauren.\n",
              "1621  1621  ...                                        Hi, Lauren.\n",
              "1622  1622  ...                                           Hi, pig!\n",
              "\n",
              "[1623 rows x 5 columns]"
            ]
          },
          "metadata": {
            "tags": []
          },
          "execution_count": 10
        }
      ]
    },
    {
      "cell_type": "markdown",
      "metadata": {
        "id": "X3_Pd54TaBP5"
      },
      "source": [
        "### 프랜즈 및 캐글테스트 마스크 처리"
      ]
    },
    {
      "cell_type": "markdown",
      "metadata": {
        "id": "LYWmejP_aDaj"
      },
      "source": [
        "프랜즈 데이터 마스크"
      ]
    },
    {
      "cell_type": "code",
      "metadata": {
        "colab": {
          "base_uri": "https://localhost:8080/"
        },
        "id": "ZM1ZPu__Z-Je",
        "outputId": "3a2cf002-e6c7-4ccb-a265-da806a89d49b"
      },
      "source": [
        "print(train_data.shape)\r\n",
        "print(dev_data.shape)\r\n",
        "print(test_data.shape)\r\n",
        "print(test_df.shape)"
      ],
      "execution_count": 11,
      "outputs": [
        {
          "output_type": "stream",
          "text": [
            "(10561, 2)\n",
            "(1178, 2)\n",
            "(2764, 2)\n",
            "(1623, 5)\n"
          ],
          "name": "stdout"
        }
      ]
    },
    {
      "cell_type": "code",
      "metadata": {
        "id": "lYefryyFaFsl"
      },
      "source": [
        "def cleaning1(str):\r\n",
        "    replaceAll= str\r\n",
        "    only_english = re.sub('\\x92', '\\'', replaceAll)\r\n",
        "    return only_english\r\n",
        "\r\n",
        "\r\n",
        "def getInputsAndLabels(dataset):\r\n",
        "  data = dataset.copy(deep=True)\r\n",
        "\r\n",
        "  utterances = data['utterance']\r\n",
        "  utterances = [\"[CLS] \" + str(cleaning1(utterance)) + \" [SEP]\" for utterance in utterances]#이거다!\r\n",
        "  \r\n",
        "  encoder = LabelEncoder()\r\n",
        "  labels = data['emotion'].values\r\n",
        "  encoder.fit(labels)\r\n",
        "  labels = encoder.transform(labels)\r\n",
        "\r\n",
        "  tokenizer = ElectraTokenizer.from_pretrained(TOKEN_MODEL, do_lower_case=False)\r\n",
        "  tokenized_texts = [tokenizer.tokenize(utterance) for utterance in utterances]\r\n",
        "\r\n",
        "  input_ids = [tokenizer.convert_tokens_to_ids(x) for x in tokenized_texts]\r\n",
        "  input_ids = pad_sequences(input_ids, maxlen=MAX_LEN, dtype=\"long\", truncating=\"post\", padding=\"post\")\r\n",
        "\r\n",
        "  attention_masks = []\r\n",
        "  for seq in input_ids:\r\n",
        "      seq_mask = [float(i>0) for i in seq]\r\n",
        "      attention_masks.append(seq_mask)\r\n",
        "\r\n",
        "  return input_ids, labels, attention_masks\r\n",
        "\r\n",
        "\r\n",
        "def getInputsFromTest(dataset):\r\n",
        "  data = dataset.copy(deep=True)\r\n",
        "\r\n",
        "  utterances = data['utterance']\r\n",
        "  utterances = [\"[CLS] \" + str(cleaning1(utterance)) + \" [SEP]\" for utterance in utterances]#이거다!\r\n",
        "  \r\n",
        "  tokenizer = ElectraTokenizer.from_pretrained(TOKEN_MODEL, do_lower_case=False)\r\n",
        "  tokenized_texts = [tokenizer.tokenize(utterance) for utterance in utterances]\r\n",
        "\r\n",
        "  input_ids = [tokenizer.convert_tokens_to_ids(x) for x in tokenized_texts]\r\n",
        "  input_ids = pad_sequences(input_ids, maxlen=MAX_LEN, dtype=\"long\", truncating=\"post\", padding=\"post\")\r\n",
        "\r\n",
        "  attention_masks = []\r\n",
        "  for seq in input_ids:\r\n",
        "      seq_mask = [float(i>0) for i in seq]\r\n",
        "      attention_masks.append(seq_mask)\r\n",
        "\r\n",
        "  return input_ids, attention_masks\r\n",
        "\r\n",
        "\r\n",
        "def getIndex(dataset):\r\n",
        "  data = dataset.copy(deep = True)\r\n",
        "  input_index = data.id.tolist()\r\n",
        "  return torch.tensor(input_index)"
      ],
      "execution_count": 12,
      "outputs": []
    },
    {
      "cell_type": "code",
      "metadata": {
        "colab": {
          "base_uri": "https://localhost:8080/",
          "height": 67,
          "referenced_widgets": [
            "2405de2b89024568a59c35c4b32865dd",
            "6bde009b8bba476bb5deffdca57508ca",
            "498085b7ed2443d58b7ef157e28c6345",
            "3c722e3c5f984514a19c7ccad00aaaea",
            "6f470354592245988d6a252b91ebc948",
            "5c2fbcc8065c4becb84a663e5ee067ea",
            "339ff812b0784966bcc65fe2682b42c9",
            "f278aa005cf445869099932e25f112d3"
          ]
        },
        "id": "FnYXHQddaFKq",
        "outputId": "ea95b6e6-7b35-40d9-9950-769e833c0dd8"
      },
      "source": [
        "train_inputs1, train_labels1, train_masks1 = getInputsAndLabels(train_data)\r\n",
        "dev_inputs, dev_labels, dev_masks = getInputsAndLabels(dev_data)\r\n",
        "test_inputs, test_labels, test_masks = getInputsAndLabels(test_data)\r\n",
        "test_df_inputs, test_df_masks = getInputsFromTest(test_df)"
      ],
      "execution_count": 13,
      "outputs": [
        {
          "output_type": "display_data",
          "data": {
            "application/vnd.jupyter.widget-view+json": {
              "model_id": "2405de2b89024568a59c35c4b32865dd",
              "version_minor": 0,
              "version_major": 2
            },
            "text/plain": [
              "HBox(children=(FloatProgress(value=0.0, description='Downloading', max=231508.0, style=ProgressStyle(descripti…"
            ]
          },
          "metadata": {
            "tags": []
          }
        },
        {
          "output_type": "stream",
          "text": [
            "\n"
          ],
          "name": "stdout"
        }
      ]
    },
    {
      "cell_type": "code",
      "metadata": {
        "id": "bccL-4SyaYPk",
        "colab": {
          "base_uri": "https://localhost:8080/"
        },
        "outputId": "8b09374d-6eb9-4528-8888-af601e1f8964"
      },
      "source": [
        "print('전체 프랜즈 학  습 데이터의 개수: {}'.format(len(train_inputs1)))\r\n",
        "print('전체 프랜즈 라  벨 데이터의 개수: {}'.format(len(train_labels1)))\r\n",
        "print('전체 프랜즈 마스크 데이터의 개수: {}'.format(len(train_masks1)))"
      ],
      "execution_count": 14,
      "outputs": [
        {
          "output_type": "stream",
          "text": [
            "전체 프랜즈 학  습 데이터의 개수: 10561\n",
            "전체 프랜즈 라  벨 데이터의 개수: 10561\n",
            "전체 프랜즈 마스크 데이터의 개수: 10561\n"
          ],
          "name": "stdout"
        }
      ]
    },
    {
      "cell_type": "code",
      "metadata": {
        "id": "wKJmHndEaYSM",
        "colab": {
          "base_uri": "https://localhost:8080/"
        },
        "outputId": "978ddb33-d26b-4613-c0cc-bed3f4f31717"
      },
      "source": [
        "print('전체 프랜즈 dev학  습 데이터의 개수: {}'.format(len(dev_inputs)))\r\n",
        "print('전체 프랜즈 dev라  벨 데이터의 개수: {}'.format(len(dev_labels)))\r\n",
        "print('전체 프랜즈 dev마스크 데이터의 개수: {}'.format(len(dev_masks)))"
      ],
      "execution_count": 15,
      "outputs": [
        {
          "output_type": "stream",
          "text": [
            "전체 프랜즈 dev학  습 데이터의 개수: 1178\n",
            "전체 프랜즈 dev라  벨 데이터의 개수: 1178\n",
            "전체 프랜즈 dev마스크 데이터의 개수: 1178\n"
          ],
          "name": "stdout"
        }
      ]
    },
    {
      "cell_type": "code",
      "metadata": {
        "id": "QCA3Y21JaYVG",
        "colab": {
          "base_uri": "https://localhost:8080/"
        },
        "outputId": "c6a7f4ac-7cf7-4440-b881-18e482355418"
      },
      "source": [
        "print('전체 프랜즈 test학  습 데이터의 개수: {}'.format(len(test_inputs)))\r\n",
        "print('전체 프랜즈 test라  벨 데이터의 개수: {}'.format(len(test_labels)))\r\n",
        "print('전체 프랜즈 test마스크 데이터의 개수: {}'.format(len(test_masks)))"
      ],
      "execution_count": 16,
      "outputs": [
        {
          "output_type": "stream",
          "text": [
            "전체 프랜즈 test학  습 데이터의 개수: 2764\n",
            "전체 프랜즈 test라  벨 데이터의 개수: 2764\n",
            "전체 프랜즈 test마스크 데이터의 개수: 2764\n"
          ],
          "name": "stdout"
        }
      ]
    },
    {
      "cell_type": "code",
      "metadata": {
        "id": "aHvhA-fDaYXf",
        "colab": {
          "base_uri": "https://localhost:8080/"
        },
        "outputId": "8e5ec81c-1a1f-42b0-c4ff-ceecd6b7ab71"
      },
      "source": [
        "print('전체 프랜즈 test1 학  습 데이터의 개수: {}'.format(len(test_df_inputs)))\r\n",
        "print('전체 프랜즈 test1 마스크 데이터의 개수: {}'.format(len(test_df_masks)))"
      ],
      "execution_count": 17,
      "outputs": [
        {
          "output_type": "stream",
          "text": [
            "전체 프랜즈 test1 학  습 데이터의 개수: 1623\n",
            "전체 프랜즈 test1 마스크 데이터의 개수: 1623\n"
          ],
          "name": "stdout"
        }
      ]
    },
    {
      "cell_type": "code",
      "metadata": {
        "id": "4Ybz5PtDcW8P"
      },
      "source": [
        "train_masks0 = []\r\n",
        "train_masks0.extend(train_masks1)\r\n",
        "#train_masks0.extend(train_masks2)\r\n",
        "#train_masks0.extend(train_masks3)"
      ],
      "execution_count": 18,
      "outputs": []
    },
    {
      "cell_type": "code",
      "metadata": {
        "id": "IiRnsncnU6HV"
      },
      "source": [
        "train_labels0 = []\r\n",
        "train_labels0.extend(train_labels1)\r\n",
        "#train_labels0.extend(train_labels2)\r\n",
        "#train_labels0.extend(train_labels3)"
      ],
      "execution_count": 19,
      "outputs": []
    },
    {
      "cell_type": "code",
      "metadata": {
        "id": "Xb7JaB6bU6Kz"
      },
      "source": [
        "train_inputs0 = []\r\n",
        "train_inputs0.extend(train_inputs1)\r\n",
        "#train_inputs0.extend(train_inputs2)\r\n",
        "#train_inputs0.extend(train_inputs3)"
      ],
      "execution_count": 20,
      "outputs": []
    },
    {
      "cell_type": "code",
      "metadata": {
        "id": "3m15u04rcW6A",
        "colab": {
          "base_uri": "https://localhost:8080/"
        },
        "outputId": "caafc9de-f508-4ccb-ec67-7b8707d26462"
      },
      "source": [
        "print('전체 학  습 데이터의 개수: {}'.format(len(train_inputs0)))\r\n",
        "print('전체 라  벨 데이터의 개수: {}'.format(len(train_labels0)))\r\n",
        "print('전체 마스크 데이터의 개수: {}'.format(len(train_masks0)))"
      ],
      "execution_count": 21,
      "outputs": [
        {
          "output_type": "stream",
          "text": [
            "전체 학  습 데이터의 개수: 10561\n",
            "전체 라  벨 데이터의 개수: 10561\n",
            "전체 마스크 데이터의 개수: 10561\n"
          ],
          "name": "stdout"
        }
      ]
    },
    {
      "cell_type": "code",
      "metadata": {
        "id": "p_xnZrX_cW1s"
      },
      "source": [
        "train_inputs = torch.tensor(train_inputs0)\r\n",
        "train_labels = torch.tensor(train_labels0)\r\n",
        "train_masks = torch.tensor(train_masks0)\r\n",
        "\r\n",
        "dev_inputs = torch.tensor(dev_inputs)\r\n",
        "dev_labels = torch.tensor(dev_labels)\r\n",
        "dev_masks = torch.tensor(dev_masks)\r\n",
        "\r\n",
        "test_inputs = torch.tensor(test_inputs)\r\n",
        "test_labels = torch.tensor(test_labels)\r\n",
        "test_masks = torch.tensor(test_masks)\r\n",
        "\r\n",
        "test_df_index = getIndex(test_df)\r\n",
        "test_df_inputs = torch.tensor(test_df_inputs)\r\n",
        "test_df_masks = torch.tensor(test_df_masks)"
      ],
      "execution_count": 22,
      "outputs": []
    },
    {
      "cell_type": "code",
      "metadata": {
        "id": "hZOboXJmcWza"
      },
      "source": [
        "train_data = TensorDataset(train_inputs, train_masks, train_labels)\r\n",
        "train_sampler = RandomSampler(train_data)\r\n",
        "train_dataloader = DataLoader(train_data, sampler=train_sampler, batch_size=batch_size)\r\n",
        "\r\n",
        "dev_data = TensorDataset(dev_inputs, dev_masks, dev_labels)\r\n",
        "dev_sampler = SequentialSampler(dev_data)\r\n",
        "dev_dataloader = DataLoader(dev_data, sampler=dev_sampler, batch_size=batch_size)\r\n",
        "\r\n",
        "test_data = TensorDataset(test_inputs, test_masks, test_labels)\r\n",
        "test_sampler = RandomSampler(test_data)\r\n",
        "test_dataloader = DataLoader(test_data, sampler=test_sampler, batch_size=batch_size)\r\n",
        "\r\n",
        "test_df_data = TensorDataset(test_df_index, test_df_inputs, test_df_masks)\r\n",
        "test_df_sampler = RandomSampler(test_df_data)\r\n",
        "test_df_dataloader = DataLoader(test_df_data, sampler=test_df_sampler, batch_size=batch_size)"
      ],
      "execution_count": 23,
      "outputs": []
    },
    {
      "cell_type": "markdown",
      "metadata": {
        "id": "afbtrT3hg6sr"
      },
      "source": [
        "# 2. 모델 구현"
      ]
    },
    {
      "cell_type": "code",
      "metadata": {
        "id": "Rm8tkXDEg0h9",
        "colab": {
          "base_uri": "https://localhost:8080/"
        },
        "outputId": "202c1358-7c42-4513-f34e-5abab9a1057f"
      },
      "source": [
        "# 디바이스 설정\r\n",
        "if torch.cuda.is_available():    \r\n",
        "    device = torch.device(\"cuda\")\r\n",
        "    print('There are %d GPU(s) available.' % torch.cuda.device_count())\r\n",
        "    print('We will use the GPU:', torch.cuda.get_device_name(0))\r\n",
        "else:\r\n",
        "    device = torch.device(\"cpu\")\r\n",
        "    print('No GPU available, using the CPU instead.')"
      ],
      "execution_count": 24,
      "outputs": [
        {
          "output_type": "stream",
          "text": [
            "There are 1 GPU(s) available.\n",
            "We will use the GPU: Tesla V100-SXM2-16GB\n"
          ],
          "name": "stdout"
        }
      ]
    },
    {
      "cell_type": "code",
      "metadata": {
        "id": "s40-YjZPKyft",
        "colab": {
          "base_uri": "https://localhost:8080/",
          "height": 1000,
          "referenced_widgets": [
            "05c6b0e56d2c48428a9790c618983cf2",
            "5545fe19e3754bbfb65b8fa23d3fd99c",
            "223a9392581d41939c9c818c7f660033",
            "efe9f35201484077bfea8dc6d93d2781",
            "b83461112e8041a08ea763d036c06b8a",
            "c282640c8ce942c98b0d9b67c115ceb3",
            "b941c4372b2d4f3db97eff596603f640",
            "7385dfa596214ce89788b8649c53aeec",
            "d790fbce88ff440fb056eb7db4b3fc77",
            "a53bf696341c41ee9e6c175aca6dda75",
            "d5edb9dbc3e54af6bd39489c5f760802",
            "6ed28f89f8054fb6950227e75639d09c",
            "792e897809264099887b86ef3199fa5c",
            "9dd821c436fc4ef4b46f57b74d635028",
            "0cd29cf8e72e48c8b105580e49ac3504",
            "26efc92e78484fc4a2c876962ed35e86"
          ]
        },
        "outputId": "323e0f9a-ab89-4ba6-eb31-b15a1a290937"
      },
      "source": [
        "model = ElectraForSequenceClassification.from_pretrained(TRAIN_MODEL, num_labels=8)\n",
        "model.cuda()"
      ],
      "execution_count": 25,
      "outputs": [
        {
          "output_type": "display_data",
          "data": {
            "application/vnd.jupyter.widget-view+json": {
              "model_id": "05c6b0e56d2c48428a9790c618983cf2",
              "version_minor": 0,
              "version_major": 2
            },
            "text/plain": [
              "HBox(children=(FloatProgress(value=0.0, description='Downloading', max=464.0, style=ProgressStyle(description_…"
            ]
          },
          "metadata": {
            "tags": []
          }
        },
        {
          "output_type": "stream",
          "text": [
            "\n"
          ],
          "name": "stdout"
        },
        {
          "output_type": "display_data",
          "data": {
            "application/vnd.jupyter.widget-view+json": {
              "model_id": "d790fbce88ff440fb056eb7db4b3fc77",
              "version_minor": 0,
              "version_major": 2
            },
            "text/plain": [
              "HBox(children=(FloatProgress(value=0.0, description='Downloading', max=205278384.0, style=ProgressStyle(descri…"
            ]
          },
          "metadata": {
            "tags": []
          }
        },
        {
          "output_type": "stream",
          "text": [
            "\n"
          ],
          "name": "stdout"
        },
        {
          "output_type": "stream",
          "text": [
            "Some weights of the model checkpoint at google/electra-large-generator were not used when initializing ElectraForSequenceClassification: ['generator_predictions.LayerNorm.weight', 'generator_predictions.LayerNorm.bias', 'generator_predictions.dense.weight', 'generator_predictions.dense.bias', 'generator_lm_head.weight', 'generator_lm_head.bias']\n",
            "- This IS expected if you are initializing ElectraForSequenceClassification from the checkpoint of a model trained on another task or with another architecture (e.g. initializing a BertForSequenceClassification model from a BertForPreTraining model).\n",
            "- This IS NOT expected if you are initializing ElectraForSequenceClassification from the checkpoint of a model that you expect to be exactly identical (initializing a BertForSequenceClassification model from a BertForSequenceClassification model).\n",
            "Some weights of ElectraForSequenceClassification were not initialized from the model checkpoint at google/electra-large-generator and are newly initialized: ['classifier.dense.weight', 'classifier.dense.bias', 'classifier.out_proj.weight', 'classifier.out_proj.bias']\n",
            "You should probably TRAIN this model on a down-stream task to be able to use it for predictions and inference.\n"
          ],
          "name": "stderr"
        },
        {
          "output_type": "execute_result",
          "data": {
            "text/plain": [
              "ElectraForSequenceClassification(\n",
              "  (electra): ElectraModel(\n",
              "    (embeddings): ElectraEmbeddings(\n",
              "      (word_embeddings): Embedding(30522, 1024, padding_idx=0)\n",
              "      (position_embeddings): Embedding(512, 1024)\n",
              "      (token_type_embeddings): Embedding(2, 1024)\n",
              "      (LayerNorm): LayerNorm((1024,), eps=1e-12, elementwise_affine=True)\n",
              "      (dropout): Dropout(p=0.1, inplace=False)\n",
              "    )\n",
              "    (embeddings_project): Linear(in_features=1024, out_features=256, bias=True)\n",
              "    (encoder): ElectraEncoder(\n",
              "      (layer): ModuleList(\n",
              "        (0): ElectraLayer(\n",
              "          (attention): ElectraAttention(\n",
              "            (self): ElectraSelfAttention(\n",
              "              (query): Linear(in_features=256, out_features=256, bias=True)\n",
              "              (key): Linear(in_features=256, out_features=256, bias=True)\n",
              "              (value): Linear(in_features=256, out_features=256, bias=True)\n",
              "              (dropout): Dropout(p=0.1, inplace=False)\n",
              "            )\n",
              "            (output): ElectraSelfOutput(\n",
              "              (dense): Linear(in_features=256, out_features=256, bias=True)\n",
              "              (LayerNorm): LayerNorm((256,), eps=1e-12, elementwise_affine=True)\n",
              "              (dropout): Dropout(p=0.1, inplace=False)\n",
              "            )\n",
              "          )\n",
              "          (intermediate): ElectraIntermediate(\n",
              "            (dense): Linear(in_features=256, out_features=1024, bias=True)\n",
              "          )\n",
              "          (output): ElectraOutput(\n",
              "            (dense): Linear(in_features=1024, out_features=256, bias=True)\n",
              "            (LayerNorm): LayerNorm((256,), eps=1e-12, elementwise_affine=True)\n",
              "            (dropout): Dropout(p=0.1, inplace=False)\n",
              "          )\n",
              "        )\n",
              "        (1): ElectraLayer(\n",
              "          (attention): ElectraAttention(\n",
              "            (self): ElectraSelfAttention(\n",
              "              (query): Linear(in_features=256, out_features=256, bias=True)\n",
              "              (key): Linear(in_features=256, out_features=256, bias=True)\n",
              "              (value): Linear(in_features=256, out_features=256, bias=True)\n",
              "              (dropout): Dropout(p=0.1, inplace=False)\n",
              "            )\n",
              "            (output): ElectraSelfOutput(\n",
              "              (dense): Linear(in_features=256, out_features=256, bias=True)\n",
              "              (LayerNorm): LayerNorm((256,), eps=1e-12, elementwise_affine=True)\n",
              "              (dropout): Dropout(p=0.1, inplace=False)\n",
              "            )\n",
              "          )\n",
              "          (intermediate): ElectraIntermediate(\n",
              "            (dense): Linear(in_features=256, out_features=1024, bias=True)\n",
              "          )\n",
              "          (output): ElectraOutput(\n",
              "            (dense): Linear(in_features=1024, out_features=256, bias=True)\n",
              "            (LayerNorm): LayerNorm((256,), eps=1e-12, elementwise_affine=True)\n",
              "            (dropout): Dropout(p=0.1, inplace=False)\n",
              "          )\n",
              "        )\n",
              "        (2): ElectraLayer(\n",
              "          (attention): ElectraAttention(\n",
              "            (self): ElectraSelfAttention(\n",
              "              (query): Linear(in_features=256, out_features=256, bias=True)\n",
              "              (key): Linear(in_features=256, out_features=256, bias=True)\n",
              "              (value): Linear(in_features=256, out_features=256, bias=True)\n",
              "              (dropout): Dropout(p=0.1, inplace=False)\n",
              "            )\n",
              "            (output): ElectraSelfOutput(\n",
              "              (dense): Linear(in_features=256, out_features=256, bias=True)\n",
              "              (LayerNorm): LayerNorm((256,), eps=1e-12, elementwise_affine=True)\n",
              "              (dropout): Dropout(p=0.1, inplace=False)\n",
              "            )\n",
              "          )\n",
              "          (intermediate): ElectraIntermediate(\n",
              "            (dense): Linear(in_features=256, out_features=1024, bias=True)\n",
              "          )\n",
              "          (output): ElectraOutput(\n",
              "            (dense): Linear(in_features=1024, out_features=256, bias=True)\n",
              "            (LayerNorm): LayerNorm((256,), eps=1e-12, elementwise_affine=True)\n",
              "            (dropout): Dropout(p=0.1, inplace=False)\n",
              "          )\n",
              "        )\n",
              "        (3): ElectraLayer(\n",
              "          (attention): ElectraAttention(\n",
              "            (self): ElectraSelfAttention(\n",
              "              (query): Linear(in_features=256, out_features=256, bias=True)\n",
              "              (key): Linear(in_features=256, out_features=256, bias=True)\n",
              "              (value): Linear(in_features=256, out_features=256, bias=True)\n",
              "              (dropout): Dropout(p=0.1, inplace=False)\n",
              "            )\n",
              "            (output): ElectraSelfOutput(\n",
              "              (dense): Linear(in_features=256, out_features=256, bias=True)\n",
              "              (LayerNorm): LayerNorm((256,), eps=1e-12, elementwise_affine=True)\n",
              "              (dropout): Dropout(p=0.1, inplace=False)\n",
              "            )\n",
              "          )\n",
              "          (intermediate): ElectraIntermediate(\n",
              "            (dense): Linear(in_features=256, out_features=1024, bias=True)\n",
              "          )\n",
              "          (output): ElectraOutput(\n",
              "            (dense): Linear(in_features=1024, out_features=256, bias=True)\n",
              "            (LayerNorm): LayerNorm((256,), eps=1e-12, elementwise_affine=True)\n",
              "            (dropout): Dropout(p=0.1, inplace=False)\n",
              "          )\n",
              "        )\n",
              "        (4): ElectraLayer(\n",
              "          (attention): ElectraAttention(\n",
              "            (self): ElectraSelfAttention(\n",
              "              (query): Linear(in_features=256, out_features=256, bias=True)\n",
              "              (key): Linear(in_features=256, out_features=256, bias=True)\n",
              "              (value): Linear(in_features=256, out_features=256, bias=True)\n",
              "              (dropout): Dropout(p=0.1, inplace=False)\n",
              "            )\n",
              "            (output): ElectraSelfOutput(\n",
              "              (dense): Linear(in_features=256, out_features=256, bias=True)\n",
              "              (LayerNorm): LayerNorm((256,), eps=1e-12, elementwise_affine=True)\n",
              "              (dropout): Dropout(p=0.1, inplace=False)\n",
              "            )\n",
              "          )\n",
              "          (intermediate): ElectraIntermediate(\n",
              "            (dense): Linear(in_features=256, out_features=1024, bias=True)\n",
              "          )\n",
              "          (output): ElectraOutput(\n",
              "            (dense): Linear(in_features=1024, out_features=256, bias=True)\n",
              "            (LayerNorm): LayerNorm((256,), eps=1e-12, elementwise_affine=True)\n",
              "            (dropout): Dropout(p=0.1, inplace=False)\n",
              "          )\n",
              "        )\n",
              "        (5): ElectraLayer(\n",
              "          (attention): ElectraAttention(\n",
              "            (self): ElectraSelfAttention(\n",
              "              (query): Linear(in_features=256, out_features=256, bias=True)\n",
              "              (key): Linear(in_features=256, out_features=256, bias=True)\n",
              "              (value): Linear(in_features=256, out_features=256, bias=True)\n",
              "              (dropout): Dropout(p=0.1, inplace=False)\n",
              "            )\n",
              "            (output): ElectraSelfOutput(\n",
              "              (dense): Linear(in_features=256, out_features=256, bias=True)\n",
              "              (LayerNorm): LayerNorm((256,), eps=1e-12, elementwise_affine=True)\n",
              "              (dropout): Dropout(p=0.1, inplace=False)\n",
              "            )\n",
              "          )\n",
              "          (intermediate): ElectraIntermediate(\n",
              "            (dense): Linear(in_features=256, out_features=1024, bias=True)\n",
              "          )\n",
              "          (output): ElectraOutput(\n",
              "            (dense): Linear(in_features=1024, out_features=256, bias=True)\n",
              "            (LayerNorm): LayerNorm((256,), eps=1e-12, elementwise_affine=True)\n",
              "            (dropout): Dropout(p=0.1, inplace=False)\n",
              "          )\n",
              "        )\n",
              "        (6): ElectraLayer(\n",
              "          (attention): ElectraAttention(\n",
              "            (self): ElectraSelfAttention(\n",
              "              (query): Linear(in_features=256, out_features=256, bias=True)\n",
              "              (key): Linear(in_features=256, out_features=256, bias=True)\n",
              "              (value): Linear(in_features=256, out_features=256, bias=True)\n",
              "              (dropout): Dropout(p=0.1, inplace=False)\n",
              "            )\n",
              "            (output): ElectraSelfOutput(\n",
              "              (dense): Linear(in_features=256, out_features=256, bias=True)\n",
              "              (LayerNorm): LayerNorm((256,), eps=1e-12, elementwise_affine=True)\n",
              "              (dropout): Dropout(p=0.1, inplace=False)\n",
              "            )\n",
              "          )\n",
              "          (intermediate): ElectraIntermediate(\n",
              "            (dense): Linear(in_features=256, out_features=1024, bias=True)\n",
              "          )\n",
              "          (output): ElectraOutput(\n",
              "            (dense): Linear(in_features=1024, out_features=256, bias=True)\n",
              "            (LayerNorm): LayerNorm((256,), eps=1e-12, elementwise_affine=True)\n",
              "            (dropout): Dropout(p=0.1, inplace=False)\n",
              "          )\n",
              "        )\n",
              "        (7): ElectraLayer(\n",
              "          (attention): ElectraAttention(\n",
              "            (self): ElectraSelfAttention(\n",
              "              (query): Linear(in_features=256, out_features=256, bias=True)\n",
              "              (key): Linear(in_features=256, out_features=256, bias=True)\n",
              "              (value): Linear(in_features=256, out_features=256, bias=True)\n",
              "              (dropout): Dropout(p=0.1, inplace=False)\n",
              "            )\n",
              "            (output): ElectraSelfOutput(\n",
              "              (dense): Linear(in_features=256, out_features=256, bias=True)\n",
              "              (LayerNorm): LayerNorm((256,), eps=1e-12, elementwise_affine=True)\n",
              "              (dropout): Dropout(p=0.1, inplace=False)\n",
              "            )\n",
              "          )\n",
              "          (intermediate): ElectraIntermediate(\n",
              "            (dense): Linear(in_features=256, out_features=1024, bias=True)\n",
              "          )\n",
              "          (output): ElectraOutput(\n",
              "            (dense): Linear(in_features=1024, out_features=256, bias=True)\n",
              "            (LayerNorm): LayerNorm((256,), eps=1e-12, elementwise_affine=True)\n",
              "            (dropout): Dropout(p=0.1, inplace=False)\n",
              "          )\n",
              "        )\n",
              "        (8): ElectraLayer(\n",
              "          (attention): ElectraAttention(\n",
              "            (self): ElectraSelfAttention(\n",
              "              (query): Linear(in_features=256, out_features=256, bias=True)\n",
              "              (key): Linear(in_features=256, out_features=256, bias=True)\n",
              "              (value): Linear(in_features=256, out_features=256, bias=True)\n",
              "              (dropout): Dropout(p=0.1, inplace=False)\n",
              "            )\n",
              "            (output): ElectraSelfOutput(\n",
              "              (dense): Linear(in_features=256, out_features=256, bias=True)\n",
              "              (LayerNorm): LayerNorm((256,), eps=1e-12, elementwise_affine=True)\n",
              "              (dropout): Dropout(p=0.1, inplace=False)\n",
              "            )\n",
              "          )\n",
              "          (intermediate): ElectraIntermediate(\n",
              "            (dense): Linear(in_features=256, out_features=1024, bias=True)\n",
              "          )\n",
              "          (output): ElectraOutput(\n",
              "            (dense): Linear(in_features=1024, out_features=256, bias=True)\n",
              "            (LayerNorm): LayerNorm((256,), eps=1e-12, elementwise_affine=True)\n",
              "            (dropout): Dropout(p=0.1, inplace=False)\n",
              "          )\n",
              "        )\n",
              "        (9): ElectraLayer(\n",
              "          (attention): ElectraAttention(\n",
              "            (self): ElectraSelfAttention(\n",
              "              (query): Linear(in_features=256, out_features=256, bias=True)\n",
              "              (key): Linear(in_features=256, out_features=256, bias=True)\n",
              "              (value): Linear(in_features=256, out_features=256, bias=True)\n",
              "              (dropout): Dropout(p=0.1, inplace=False)\n",
              "            )\n",
              "            (output): ElectraSelfOutput(\n",
              "              (dense): Linear(in_features=256, out_features=256, bias=True)\n",
              "              (LayerNorm): LayerNorm((256,), eps=1e-12, elementwise_affine=True)\n",
              "              (dropout): Dropout(p=0.1, inplace=False)\n",
              "            )\n",
              "          )\n",
              "          (intermediate): ElectraIntermediate(\n",
              "            (dense): Linear(in_features=256, out_features=1024, bias=True)\n",
              "          )\n",
              "          (output): ElectraOutput(\n",
              "            (dense): Linear(in_features=1024, out_features=256, bias=True)\n",
              "            (LayerNorm): LayerNorm((256,), eps=1e-12, elementwise_affine=True)\n",
              "            (dropout): Dropout(p=0.1, inplace=False)\n",
              "          )\n",
              "        )\n",
              "        (10): ElectraLayer(\n",
              "          (attention): ElectraAttention(\n",
              "            (self): ElectraSelfAttention(\n",
              "              (query): Linear(in_features=256, out_features=256, bias=True)\n",
              "              (key): Linear(in_features=256, out_features=256, bias=True)\n",
              "              (value): Linear(in_features=256, out_features=256, bias=True)\n",
              "              (dropout): Dropout(p=0.1, inplace=False)\n",
              "            )\n",
              "            (output): ElectraSelfOutput(\n",
              "              (dense): Linear(in_features=256, out_features=256, bias=True)\n",
              "              (LayerNorm): LayerNorm((256,), eps=1e-12, elementwise_affine=True)\n",
              "              (dropout): Dropout(p=0.1, inplace=False)\n",
              "            )\n",
              "          )\n",
              "          (intermediate): ElectraIntermediate(\n",
              "            (dense): Linear(in_features=256, out_features=1024, bias=True)\n",
              "          )\n",
              "          (output): ElectraOutput(\n",
              "            (dense): Linear(in_features=1024, out_features=256, bias=True)\n",
              "            (LayerNorm): LayerNorm((256,), eps=1e-12, elementwise_affine=True)\n",
              "            (dropout): Dropout(p=0.1, inplace=False)\n",
              "          )\n",
              "        )\n",
              "        (11): ElectraLayer(\n",
              "          (attention): ElectraAttention(\n",
              "            (self): ElectraSelfAttention(\n",
              "              (query): Linear(in_features=256, out_features=256, bias=True)\n",
              "              (key): Linear(in_features=256, out_features=256, bias=True)\n",
              "              (value): Linear(in_features=256, out_features=256, bias=True)\n",
              "              (dropout): Dropout(p=0.1, inplace=False)\n",
              "            )\n",
              "            (output): ElectraSelfOutput(\n",
              "              (dense): Linear(in_features=256, out_features=256, bias=True)\n",
              "              (LayerNorm): LayerNorm((256,), eps=1e-12, elementwise_affine=True)\n",
              "              (dropout): Dropout(p=0.1, inplace=False)\n",
              "            )\n",
              "          )\n",
              "          (intermediate): ElectraIntermediate(\n",
              "            (dense): Linear(in_features=256, out_features=1024, bias=True)\n",
              "          )\n",
              "          (output): ElectraOutput(\n",
              "            (dense): Linear(in_features=1024, out_features=256, bias=True)\n",
              "            (LayerNorm): LayerNorm((256,), eps=1e-12, elementwise_affine=True)\n",
              "            (dropout): Dropout(p=0.1, inplace=False)\n",
              "          )\n",
              "        )\n",
              "        (12): ElectraLayer(\n",
              "          (attention): ElectraAttention(\n",
              "            (self): ElectraSelfAttention(\n",
              "              (query): Linear(in_features=256, out_features=256, bias=True)\n",
              "              (key): Linear(in_features=256, out_features=256, bias=True)\n",
              "              (value): Linear(in_features=256, out_features=256, bias=True)\n",
              "              (dropout): Dropout(p=0.1, inplace=False)\n",
              "            )\n",
              "            (output): ElectraSelfOutput(\n",
              "              (dense): Linear(in_features=256, out_features=256, bias=True)\n",
              "              (LayerNorm): LayerNorm((256,), eps=1e-12, elementwise_affine=True)\n",
              "              (dropout): Dropout(p=0.1, inplace=False)\n",
              "            )\n",
              "          )\n",
              "          (intermediate): ElectraIntermediate(\n",
              "            (dense): Linear(in_features=256, out_features=1024, bias=True)\n",
              "          )\n",
              "          (output): ElectraOutput(\n",
              "            (dense): Linear(in_features=1024, out_features=256, bias=True)\n",
              "            (LayerNorm): LayerNorm((256,), eps=1e-12, elementwise_affine=True)\n",
              "            (dropout): Dropout(p=0.1, inplace=False)\n",
              "          )\n",
              "        )\n",
              "        (13): ElectraLayer(\n",
              "          (attention): ElectraAttention(\n",
              "            (self): ElectraSelfAttention(\n",
              "              (query): Linear(in_features=256, out_features=256, bias=True)\n",
              "              (key): Linear(in_features=256, out_features=256, bias=True)\n",
              "              (value): Linear(in_features=256, out_features=256, bias=True)\n",
              "              (dropout): Dropout(p=0.1, inplace=False)\n",
              "            )\n",
              "            (output): ElectraSelfOutput(\n",
              "              (dense): Linear(in_features=256, out_features=256, bias=True)\n",
              "              (LayerNorm): LayerNorm((256,), eps=1e-12, elementwise_affine=True)\n",
              "              (dropout): Dropout(p=0.1, inplace=False)\n",
              "            )\n",
              "          )\n",
              "          (intermediate): ElectraIntermediate(\n",
              "            (dense): Linear(in_features=256, out_features=1024, bias=True)\n",
              "          )\n",
              "          (output): ElectraOutput(\n",
              "            (dense): Linear(in_features=1024, out_features=256, bias=True)\n",
              "            (LayerNorm): LayerNorm((256,), eps=1e-12, elementwise_affine=True)\n",
              "            (dropout): Dropout(p=0.1, inplace=False)\n",
              "          )\n",
              "        )\n",
              "        (14): ElectraLayer(\n",
              "          (attention): ElectraAttention(\n",
              "            (self): ElectraSelfAttention(\n",
              "              (query): Linear(in_features=256, out_features=256, bias=True)\n",
              "              (key): Linear(in_features=256, out_features=256, bias=True)\n",
              "              (value): Linear(in_features=256, out_features=256, bias=True)\n",
              "              (dropout): Dropout(p=0.1, inplace=False)\n",
              "            )\n",
              "            (output): ElectraSelfOutput(\n",
              "              (dense): Linear(in_features=256, out_features=256, bias=True)\n",
              "              (LayerNorm): LayerNorm((256,), eps=1e-12, elementwise_affine=True)\n",
              "              (dropout): Dropout(p=0.1, inplace=False)\n",
              "            )\n",
              "          )\n",
              "          (intermediate): ElectraIntermediate(\n",
              "            (dense): Linear(in_features=256, out_features=1024, bias=True)\n",
              "          )\n",
              "          (output): ElectraOutput(\n",
              "            (dense): Linear(in_features=1024, out_features=256, bias=True)\n",
              "            (LayerNorm): LayerNorm((256,), eps=1e-12, elementwise_affine=True)\n",
              "            (dropout): Dropout(p=0.1, inplace=False)\n",
              "          )\n",
              "        )\n",
              "        (15): ElectraLayer(\n",
              "          (attention): ElectraAttention(\n",
              "            (self): ElectraSelfAttention(\n",
              "              (query): Linear(in_features=256, out_features=256, bias=True)\n",
              "              (key): Linear(in_features=256, out_features=256, bias=True)\n",
              "              (value): Linear(in_features=256, out_features=256, bias=True)\n",
              "              (dropout): Dropout(p=0.1, inplace=False)\n",
              "            )\n",
              "            (output): ElectraSelfOutput(\n",
              "              (dense): Linear(in_features=256, out_features=256, bias=True)\n",
              "              (LayerNorm): LayerNorm((256,), eps=1e-12, elementwise_affine=True)\n",
              "              (dropout): Dropout(p=0.1, inplace=False)\n",
              "            )\n",
              "          )\n",
              "          (intermediate): ElectraIntermediate(\n",
              "            (dense): Linear(in_features=256, out_features=1024, bias=True)\n",
              "          )\n",
              "          (output): ElectraOutput(\n",
              "            (dense): Linear(in_features=1024, out_features=256, bias=True)\n",
              "            (LayerNorm): LayerNorm((256,), eps=1e-12, elementwise_affine=True)\n",
              "            (dropout): Dropout(p=0.1, inplace=False)\n",
              "          )\n",
              "        )\n",
              "        (16): ElectraLayer(\n",
              "          (attention): ElectraAttention(\n",
              "            (self): ElectraSelfAttention(\n",
              "              (query): Linear(in_features=256, out_features=256, bias=True)\n",
              "              (key): Linear(in_features=256, out_features=256, bias=True)\n",
              "              (value): Linear(in_features=256, out_features=256, bias=True)\n",
              "              (dropout): Dropout(p=0.1, inplace=False)\n",
              "            )\n",
              "            (output): ElectraSelfOutput(\n",
              "              (dense): Linear(in_features=256, out_features=256, bias=True)\n",
              "              (LayerNorm): LayerNorm((256,), eps=1e-12, elementwise_affine=True)\n",
              "              (dropout): Dropout(p=0.1, inplace=False)\n",
              "            )\n",
              "          )\n",
              "          (intermediate): ElectraIntermediate(\n",
              "            (dense): Linear(in_features=256, out_features=1024, bias=True)\n",
              "          )\n",
              "          (output): ElectraOutput(\n",
              "            (dense): Linear(in_features=1024, out_features=256, bias=True)\n",
              "            (LayerNorm): LayerNorm((256,), eps=1e-12, elementwise_affine=True)\n",
              "            (dropout): Dropout(p=0.1, inplace=False)\n",
              "          )\n",
              "        )\n",
              "        (17): ElectraLayer(\n",
              "          (attention): ElectraAttention(\n",
              "            (self): ElectraSelfAttention(\n",
              "              (query): Linear(in_features=256, out_features=256, bias=True)\n",
              "              (key): Linear(in_features=256, out_features=256, bias=True)\n",
              "              (value): Linear(in_features=256, out_features=256, bias=True)\n",
              "              (dropout): Dropout(p=0.1, inplace=False)\n",
              "            )\n",
              "            (output): ElectraSelfOutput(\n",
              "              (dense): Linear(in_features=256, out_features=256, bias=True)\n",
              "              (LayerNorm): LayerNorm((256,), eps=1e-12, elementwise_affine=True)\n",
              "              (dropout): Dropout(p=0.1, inplace=False)\n",
              "            )\n",
              "          )\n",
              "          (intermediate): ElectraIntermediate(\n",
              "            (dense): Linear(in_features=256, out_features=1024, bias=True)\n",
              "          )\n",
              "          (output): ElectraOutput(\n",
              "            (dense): Linear(in_features=1024, out_features=256, bias=True)\n",
              "            (LayerNorm): LayerNorm((256,), eps=1e-12, elementwise_affine=True)\n",
              "            (dropout): Dropout(p=0.1, inplace=False)\n",
              "          )\n",
              "        )\n",
              "        (18): ElectraLayer(\n",
              "          (attention): ElectraAttention(\n",
              "            (self): ElectraSelfAttention(\n",
              "              (query): Linear(in_features=256, out_features=256, bias=True)\n",
              "              (key): Linear(in_features=256, out_features=256, bias=True)\n",
              "              (value): Linear(in_features=256, out_features=256, bias=True)\n",
              "              (dropout): Dropout(p=0.1, inplace=False)\n",
              "            )\n",
              "            (output): ElectraSelfOutput(\n",
              "              (dense): Linear(in_features=256, out_features=256, bias=True)\n",
              "              (LayerNorm): LayerNorm((256,), eps=1e-12, elementwise_affine=True)\n",
              "              (dropout): Dropout(p=0.1, inplace=False)\n",
              "            )\n",
              "          )\n",
              "          (intermediate): ElectraIntermediate(\n",
              "            (dense): Linear(in_features=256, out_features=1024, bias=True)\n",
              "          )\n",
              "          (output): ElectraOutput(\n",
              "            (dense): Linear(in_features=1024, out_features=256, bias=True)\n",
              "            (LayerNorm): LayerNorm((256,), eps=1e-12, elementwise_affine=True)\n",
              "            (dropout): Dropout(p=0.1, inplace=False)\n",
              "          )\n",
              "        )\n",
              "        (19): ElectraLayer(\n",
              "          (attention): ElectraAttention(\n",
              "            (self): ElectraSelfAttention(\n",
              "              (query): Linear(in_features=256, out_features=256, bias=True)\n",
              "              (key): Linear(in_features=256, out_features=256, bias=True)\n",
              "              (value): Linear(in_features=256, out_features=256, bias=True)\n",
              "              (dropout): Dropout(p=0.1, inplace=False)\n",
              "            )\n",
              "            (output): ElectraSelfOutput(\n",
              "              (dense): Linear(in_features=256, out_features=256, bias=True)\n",
              "              (LayerNorm): LayerNorm((256,), eps=1e-12, elementwise_affine=True)\n",
              "              (dropout): Dropout(p=0.1, inplace=False)\n",
              "            )\n",
              "          )\n",
              "          (intermediate): ElectraIntermediate(\n",
              "            (dense): Linear(in_features=256, out_features=1024, bias=True)\n",
              "          )\n",
              "          (output): ElectraOutput(\n",
              "            (dense): Linear(in_features=1024, out_features=256, bias=True)\n",
              "            (LayerNorm): LayerNorm((256,), eps=1e-12, elementwise_affine=True)\n",
              "            (dropout): Dropout(p=0.1, inplace=False)\n",
              "          )\n",
              "        )\n",
              "        (20): ElectraLayer(\n",
              "          (attention): ElectraAttention(\n",
              "            (self): ElectraSelfAttention(\n",
              "              (query): Linear(in_features=256, out_features=256, bias=True)\n",
              "              (key): Linear(in_features=256, out_features=256, bias=True)\n",
              "              (value): Linear(in_features=256, out_features=256, bias=True)\n",
              "              (dropout): Dropout(p=0.1, inplace=False)\n",
              "            )\n",
              "            (output): ElectraSelfOutput(\n",
              "              (dense): Linear(in_features=256, out_features=256, bias=True)\n",
              "              (LayerNorm): LayerNorm((256,), eps=1e-12, elementwise_affine=True)\n",
              "              (dropout): Dropout(p=0.1, inplace=False)\n",
              "            )\n",
              "          )\n",
              "          (intermediate): ElectraIntermediate(\n",
              "            (dense): Linear(in_features=256, out_features=1024, bias=True)\n",
              "          )\n",
              "          (output): ElectraOutput(\n",
              "            (dense): Linear(in_features=1024, out_features=256, bias=True)\n",
              "            (LayerNorm): LayerNorm((256,), eps=1e-12, elementwise_affine=True)\n",
              "            (dropout): Dropout(p=0.1, inplace=False)\n",
              "          )\n",
              "        )\n",
              "        (21): ElectraLayer(\n",
              "          (attention): ElectraAttention(\n",
              "            (self): ElectraSelfAttention(\n",
              "              (query): Linear(in_features=256, out_features=256, bias=True)\n",
              "              (key): Linear(in_features=256, out_features=256, bias=True)\n",
              "              (value): Linear(in_features=256, out_features=256, bias=True)\n",
              "              (dropout): Dropout(p=0.1, inplace=False)\n",
              "            )\n",
              "            (output): ElectraSelfOutput(\n",
              "              (dense): Linear(in_features=256, out_features=256, bias=True)\n",
              "              (LayerNorm): LayerNorm((256,), eps=1e-12, elementwise_affine=True)\n",
              "              (dropout): Dropout(p=0.1, inplace=False)\n",
              "            )\n",
              "          )\n",
              "          (intermediate): ElectraIntermediate(\n",
              "            (dense): Linear(in_features=256, out_features=1024, bias=True)\n",
              "          )\n",
              "          (output): ElectraOutput(\n",
              "            (dense): Linear(in_features=1024, out_features=256, bias=True)\n",
              "            (LayerNorm): LayerNorm((256,), eps=1e-12, elementwise_affine=True)\n",
              "            (dropout): Dropout(p=0.1, inplace=False)\n",
              "          )\n",
              "        )\n",
              "        (22): ElectraLayer(\n",
              "          (attention): ElectraAttention(\n",
              "            (self): ElectraSelfAttention(\n",
              "              (query): Linear(in_features=256, out_features=256, bias=True)\n",
              "              (key): Linear(in_features=256, out_features=256, bias=True)\n",
              "              (value): Linear(in_features=256, out_features=256, bias=True)\n",
              "              (dropout): Dropout(p=0.1, inplace=False)\n",
              "            )\n",
              "            (output): ElectraSelfOutput(\n",
              "              (dense): Linear(in_features=256, out_features=256, bias=True)\n",
              "              (LayerNorm): LayerNorm((256,), eps=1e-12, elementwise_affine=True)\n",
              "              (dropout): Dropout(p=0.1, inplace=False)\n",
              "            )\n",
              "          )\n",
              "          (intermediate): ElectraIntermediate(\n",
              "            (dense): Linear(in_features=256, out_features=1024, bias=True)\n",
              "          )\n",
              "          (output): ElectraOutput(\n",
              "            (dense): Linear(in_features=1024, out_features=256, bias=True)\n",
              "            (LayerNorm): LayerNorm((256,), eps=1e-12, elementwise_affine=True)\n",
              "            (dropout): Dropout(p=0.1, inplace=False)\n",
              "          )\n",
              "        )\n",
              "        (23): ElectraLayer(\n",
              "          (attention): ElectraAttention(\n",
              "            (self): ElectraSelfAttention(\n",
              "              (query): Linear(in_features=256, out_features=256, bias=True)\n",
              "              (key): Linear(in_features=256, out_features=256, bias=True)\n",
              "              (value): Linear(in_features=256, out_features=256, bias=True)\n",
              "              (dropout): Dropout(p=0.1, inplace=False)\n",
              "            )\n",
              "            (output): ElectraSelfOutput(\n",
              "              (dense): Linear(in_features=256, out_features=256, bias=True)\n",
              "              (LayerNorm): LayerNorm((256,), eps=1e-12, elementwise_affine=True)\n",
              "              (dropout): Dropout(p=0.1, inplace=False)\n",
              "            )\n",
              "          )\n",
              "          (intermediate): ElectraIntermediate(\n",
              "            (dense): Linear(in_features=256, out_features=1024, bias=True)\n",
              "          )\n",
              "          (output): ElectraOutput(\n",
              "            (dense): Linear(in_features=1024, out_features=256, bias=True)\n",
              "            (LayerNorm): LayerNorm((256,), eps=1e-12, elementwise_affine=True)\n",
              "            (dropout): Dropout(p=0.1, inplace=False)\n",
              "          )\n",
              "        )\n",
              "      )\n",
              "    )\n",
              "  )\n",
              "  (classifier): ElectraClassificationHead(\n",
              "    (dense): Linear(in_features=256, out_features=256, bias=True)\n",
              "    (dropout): Dropout(p=0.1, inplace=False)\n",
              "    (out_proj): Linear(in_features=256, out_features=8, bias=True)\n",
              "  )\n",
              ")"
            ]
          },
          "metadata": {
            "tags": []
          },
          "execution_count": 25
        }
      ]
    },
    {
      "cell_type": "code",
      "metadata": {
        "id": "oZwXlNqahGVe"
      },
      "source": [
        "optimizer = AdamW(model.parameters(),\r\n",
        "                  lr = 2e-5, \r\n",
        "                  eps = 1e-8\r\n",
        "                )\r\n",
        "\r\n",
        "total_steps = len(train_dataloader) * epochs\r\n",
        "\r\n",
        "# 학습률을 조금씩 감소시키는 스케줄러 생성\r\n",
        "scheduler = get_linear_schedule_with_warmup(optimizer, \r\n",
        "                                            num_warmup_steps = 0,\r\n",
        "                                            num_training_steps = total_steps)"
      ],
      "execution_count": 26,
      "outputs": []
    },
    {
      "cell_type": "markdown",
      "metadata": {
        "id": "E9fpiLtphLEr"
      },
      "source": [
        "#학습"
      ]
    },
    {
      "cell_type": "code",
      "metadata": {
        "id": "DSgXgK1thGYR"
      },
      "source": [
        "from sklearn.metrics import precision_score, recall_score, f1_score, accuracy_score\r\n",
        "from sklearn.metrics import confusion_matrix, classification_report\r\n",
        "from sklearn.metrics import precision_score, recall_score, f1_score\r\n",
        "import seaborn as sns\r\n",
        "\r\n",
        "# 정확도 계산 함수\r\n",
        "def flat_accuracy(preds, labels):\r\n",
        "    pred_flat = np.argmax(preds, axis=1).flatten()\r\n",
        "    labels_flat = labels.flatten()\r\n",
        "\r\n",
        "    return np.sum(pred_flat == labels_flat) / len(labels_flat)\r\n",
        "\r\n",
        "# 시간 표시 함수\r\n",
        "def format_time(elapsed):\r\n",
        "\r\n",
        "    # 반올림\r\n",
        "    elapsed_rounded = int(round((elapsed)))\r\n",
        "    \r\n",
        "    # hh:mm:ss으로 형태 변경\r\n",
        "    return str(datetime.timedelta(seconds=elapsed_rounded))\r\n",
        "\r\n",
        "#평가함수\r\n",
        "def evaluate(true_list, pred_list):\r\n",
        "\r\n",
        "  accuracy = accuracy_score(true_list, pred_list)\r\n",
        "  precision = precision_score(true_list, pred_list, average=None)\r\n",
        "  recall = recall_score(true_list, pred_list, average=None)\r\n",
        "  micro_f1 = f1_score(true_list, pred_list, average='micro')\r\n",
        "\r\n",
        "  print(\"accuracy:{0:.4f}\".format(accuracy))\r\n",
        "  print('precision:\\t', ['%.4f' % v for v in precision])\r\n",
        "  print('recall:\\t\\t', ['%.4f' % v for v in recall])\r\n",
        "  print('micro_f1: %.6f' % micro_f1)\r\n",
        "\r\n",
        "  n_correct = [x for x, y in zip(true_list, pred_list) if x == y]\r\n",
        "  cnt_list = [0] * (8)\r\n",
        "  for cnt in n_correct:\r\n",
        "    if cnt==0:\r\n",
        "      cnt_list[cnt]+=1\r\n",
        "    elif cnt==1:\r\n",
        "      cnt_list[cnt]+=1\r\n",
        "    elif cnt==2:\r\n",
        "      cnt_list[cnt]+=1\r\n",
        "    elif cnt==3:\r\n",
        "      cnt_list[cnt]+=1\r\n",
        "    elif cnt==4:\r\n",
        "      cnt_list[cnt]+=1\r\n",
        "    elif cnt==5:\r\n",
        "      cnt_list[cnt]+=1\r\n",
        "    elif cnt==6:\r\n",
        "      cnt_list[cnt]+=1\r\n",
        "    elif cnt==7:\r\n",
        "      cnt_list[cnt]+=1\r\n",
        "\r\n",
        "  print(\"각 라벨 별 정답 cnt_list\",cnt_list)\r\n",
        "  return cnt_list\r\n",
        "\r\n",
        "def matrix_evaluate(true_list, pred_list, cnt_list):\r\n",
        "  target_names = ['anger', 'disgust', 'fear', 'joy', 'neutral', 'non-neutral', 'sadness', 'surprise'] \r\n",
        "\r\n",
        "  cm = confusion_matrix(true_list, pred_list)\r\n",
        "  sns.heatmap(cm, annot = True, fmt = 'd',cmap = 'Blues',) \r\n",
        "  print(classification_report(true_list, pred_list, digits=4, target_names=target_names))\r\n",
        " "
      ],
      "execution_count": 27,
      "outputs": []
    },
    {
      "cell_type": "code",
      "metadata": {
        "id": "DYaXtdwbhGa2",
        "colab": {
          "base_uri": "https://localhost:8080/"
        },
        "outputId": "64b3eb75-c6da-4a59-f56c-445b70b649b1"
      },
      "source": [
        "seed_val = 42\r\n",
        "random.seed(seed_val)\r\n",
        "np.random.seed(seed_val)\r\n",
        "torch.manual_seed(seed_val)\r\n",
        "torch.cuda.manual_seed_all(seed_val)\r\n",
        "\r\n",
        "model.zero_grad()\r\n",
        "\r\n",
        "for epoch_i in range(0, epochs):\r\n",
        "    \r\n",
        "    # ========================================\r\n",
        "    #               Training\r\n",
        "    # ========================================\r\n",
        "    print(\"\")\r\n",
        "    print('======== Epoch {:} / {:} ========'.format(epoch_i + 1, epochs))\r\n",
        "    print('Training...')\r\n",
        "\r\n",
        "    t0 = time.time()\r\n",
        "    total_loss = 0\r\n",
        "    model.train()\r\n",
        "        \r\n",
        "    # 데이터로더에서 배치만큼 반복하여 가져옴\r\n",
        "    for step, batch in enumerate(train_dataloader):\r\n",
        "        if step % 500 == 0 and not step == 0:\r\n",
        "            elapsed = format_time(time.time() - t0)\r\n",
        "            print('  Batch {:>5,}  of  {:>5,}.    Elapsed: {:}.'.format(step, len(train_dataloader), elapsed))\r\n",
        "\r\n",
        "        batch = tuple(t.to(device) for t in batch)\r\n",
        "        b_input_ids, b_input_mask, b_labels = batch\r\n",
        "             \r\n",
        "        outputs = model(b_input_ids, \r\n",
        "                        token_type_ids=None, \r\n",
        "                        attention_mask=b_input_mask, \r\n",
        "                        labels=b_labels)\r\n",
        "\r\n",
        "        loss = outputs[0]\r\n",
        "        total_loss += loss.item()\r\n",
        "\r\n",
        "        loss.backward()\r\n",
        "\r\n",
        "        torch.nn.utils.clip_grad_norm_(model.parameters(), 1.0)\r\n",
        "        optimizer.step()\r\n",
        "        scheduler.step()\r\n",
        "        model.zero_grad()\r\n",
        "\r\n",
        "    # 평균 로스 계산\r\n",
        "    avg_train_loss = total_loss / len(train_dataloader)            \r\n",
        "\r\n",
        "    print(\"\")\r\n",
        "    print(\"  Average training loss: {0:.5f}\".format(avg_train_loss))\r\n",
        "    print(\"  Training epcoh took: {:}\".format(format_time(time.time() - t0)))\r\n",
        "        \r\n",
        "    # ========================================\r\n",
        "    #               Validation\r\n",
        "    # ========================================\r\n",
        "    print(\"\")\r\n",
        "    print(\"Running Validation...\")\r\n",
        "\r\n",
        "    t0 = time.time()\r\n",
        "    model.eval()\r\n",
        "\r\n",
        "    eval_accuracy, nb_eval_steps = 0, 0\r\n",
        "    pred_list, true_list = [], []\r\n",
        "\r\n",
        "    for batch in dev_dataloader:\r\n",
        "        batch = tuple(t.to(device) for t in batch)\r\n",
        "        b_input_ids, b_input_mask, b_labels = batch\r\n",
        "\r\n",
        "        with torch.no_grad():     \r\n",
        "            outputs = model(b_input_ids, \r\n",
        "                            token_type_ids=None, \r\n",
        "                            attention_mask=b_input_mask)\r\n",
        "        \r\n",
        "        logits = outputs[0]\r\n",
        "        logits = logits.detach().cpu().numpy()\r\n",
        "        label_ids = b_labels.to('cpu').numpy()\r\n",
        "     \r\n",
        "        tmp_eval_accuracy = flat_accuracy(logits, label_ids)\r\n",
        "        eval_accuracy += tmp_eval_accuracy\r\n",
        "        nb_eval_steps += 1\r\n",
        "\r\n",
        "        pred_flat = np.argmax(logits, axis=1).flatten()\r\n",
        "        trues_flat = label_ids.flatten()\r\n",
        "        pred_list.extend(pred_flat)\r\n",
        "        true_list.extend(trues_flat)\r\n",
        "\r\n",
        "    print(\"  Accuracy: {0:.5f}\".format(eval_accuracy/nb_eval_steps))\r\n",
        "    print(\"  Validation took: {:}\".format(format_time(time.time() - t0)))\r\n",
        "    cnt_list = evaluate(pred_list, true_list) # print results\r\n",
        "\r\n",
        "print(\"\")\r\n",
        "print(\"Training complete!\")"
      ],
      "execution_count": 28,
      "outputs": [
        {
          "output_type": "stream",
          "text": [
            "\n",
            "======== Epoch 1 / 20 ========\n",
            "Training...\n",
            "\n",
            "  Average training loss: 1.87870\n",
            "  Training epcoh took: 0:00:28\n",
            "\n",
            "Running Validation...\n",
            "  Accuracy: 0.46021\n",
            "  Validation took: 0:00:01\n",
            "accuracy:0.4626\n",
            "precision:\t ['0.0000', '0.0000', '0.0000', '0.0000', '0.9654', '0.3318', '0.0000', '0.0000']\n",
            "recall:\t\t ['0.0000', '0.0000', '0.0000', '0.0000', '0.5405', '0.2359', '0.0000', '0.0000']\n",
            "micro_f1: 0.462649\n",
            "각 라벨 별 정답 cnt_list [0, 0, 0, 0, 474, 71, 0, 0]\n",
            "\n",
            "======== Epoch 2 / 20 ========\n",
            "Training...\n"
          ],
          "name": "stdout"
        },
        {
          "output_type": "stream",
          "text": [
            "/usr/local/lib/python3.6/dist-packages/sklearn/metrics/_classification.py:1272: UndefinedMetricWarning: Recall is ill-defined and being set to 0.0 in labels with no true samples. Use `zero_division` parameter to control this behavior.\n",
            "  _warn_prf(average, modifier, msg_start, len(result))\n"
          ],
          "name": "stderr"
        },
        {
          "output_type": "stream",
          "text": [
            "\n",
            "  Average training loss: 1.59116\n",
            "  Training epcoh took: 0:00:29\n",
            "\n",
            "Running Validation...\n",
            "  Accuracy: 0.46964\n",
            "  Validation took: 0:00:01\n",
            "accuracy:0.4711\n",
            "precision:\t ['0.0000', '0.0000', '0.0000', '0.1545', '0.9470', '0.3318', '0.0000', '0.0000']\n",
            "recall:\t\t ['0.0000', '0.0000', '0.0000', '0.2317', '0.5924', '0.2290', '0.0000', '0.0000']\n",
            "micro_f1: 0.471138\n",
            "각 라벨 별 정답 cnt_list [0, 0, 0, 19, 465, 71, 0, 0]\n",
            "\n",
            "======== Epoch 3 / 20 ========\n",
            "Training...\n",
            "\n",
            "  Average training loss: 1.44160\n",
            "  Training epcoh took: 0:00:29\n",
            "\n",
            "Running Validation...\n",
            "  Accuracy: 0.48400\n",
            "  Validation took: 0:00:01\n",
            "accuracy:0.4847\n",
            "precision:\t ['0.0000', '0.0000', '0.0000', '0.1301', '0.9654', '0.3271', '0.0000', '0.0728']\n",
            "recall:\t\t ['0.0000', '0.0000', '0.0000', '0.2857', '0.5603', '0.2682', '0.0000', '0.7333']\n",
            "micro_f1: 0.484720\n",
            "각 라벨 별 정답 cnt_list [0, 0, 0, 16, 474, 70, 0, 11]\n",
            "\n",
            "======== Epoch 4 / 20 ========\n",
            "Training...\n",
            "\n",
            "  Average training loss: 1.37259\n",
            "  Training epcoh took: 0:00:29\n",
            "\n",
            "Running Validation...\n",
            "  Accuracy: 0.51449\n",
            "  Validation took: 0:00:01\n",
            "accuracy:0.5187\n",
            "precision:\t ['0.0000', '0.0000', '0.0000', '0.5610', '0.8982', '0.2150', '0.0000', '0.3642']\n",
            "recall:\t\t ['0.0000', '0.0000', '0.0000', '0.3450', '0.6504', '0.2383', '0.0000', '0.5140']\n",
            "micro_f1: 0.518676\n",
            "각 라벨 별 정답 cnt_list [0, 0, 0, 69, 441, 46, 0, 55]\n",
            "\n",
            "======== Epoch 5 / 20 ========\n",
            "Training...\n",
            "\n",
            "  Average training loss: 1.31937\n",
            "  Training epcoh took: 0:00:29\n",
            "\n",
            "Running Validation...\n",
            "  Accuracy: 0.50873\n",
            "  Validation took: 0:00:01\n",
            "accuracy:0.5127\n",
            "precision:\t ['0.0000', '0.0000', '0.0000', '0.6829', '0.8513', '0.1869', '0.0161', '0.4040']\n",
            "recall:\t\t ['0.0000', '0.0000', '0.0000', '0.3471', '0.6624', '0.2312', '0.5000', '0.4766']\n",
            "micro_f1: 0.512733\n",
            "각 라벨 별 정답 cnt_list [0, 0, 0, 84, 418, 40, 1, 61]\n",
            "\n",
            "======== Epoch 6 / 20 ========\n",
            "Training...\n",
            "\n",
            "  Average training loss: 1.26836\n",
            "  Training epcoh took: 0:00:29\n",
            "\n",
            "Running Validation...\n",
            "  Accuracy: 0.51575\n",
            "  Validation took: 0:00:01\n",
            "accuracy:0.5212\n",
            "precision:\t ['0.0118', '0.0000', '0.0000', '0.7154', '0.8737', '0.1729', '0.0323', '0.3775']\n",
            "recall:\t\t ['1.0000', '0.0000', '0.0000', '0.3946', '0.6441', '0.2342', '0.5000', '0.4524']\n",
            "micro_f1: 0.521222\n",
            "각 라벨 별 정답 cnt_list [1, 0, 0, 88, 429, 37, 2, 57]\n",
            "\n",
            "======== Epoch 7 / 20 ========\n",
            "Training...\n",
            "\n",
            "  Average training loss: 1.21705\n",
            "  Training epcoh took: 0:00:29\n",
            "\n",
            "Running Validation...\n",
            "  Accuracy: 0.51246\n",
            "  Validation took: 0:00:01\n",
            "accuracy:0.5178\n",
            "precision:\t ['0.0471', '0.0000', '0.0000', '0.6667', '0.8635', '0.1542', '0.0484', '0.4238']\n",
            "recall:\t\t ['0.5714', '0.0000', '0.0000', '0.3744', '0.6405', '0.2340', '0.2308', '0.4706']\n",
            "micro_f1: 0.517827\n",
            "각 라벨 별 정답 cnt_list [4, 0, 0, 82, 424, 33, 3, 64]\n",
            "\n",
            "======== Epoch 8 / 20 ========\n",
            "Training...\n",
            "\n",
            "  Average training loss: 1.17489\n",
            "  Training epcoh took: 0:00:29\n",
            "\n",
            "Running Validation...\n",
            "  Accuracy: 0.51575\n",
            "  Validation took: 0:00:01\n",
            "accuracy:0.5212\n",
            "precision:\t ['0.1059', '0.0000', '0.0000', '0.6504', '0.8737', '0.1028', '0.1452', '0.4305']\n",
            "recall:\t\t ['0.3913', '0.0000', '0.0000', '0.3791', '0.6403', '0.2200', '0.2571', '0.4676']\n",
            "micro_f1: 0.521222\n",
            "각 라벨 별 정답 cnt_list [9, 0, 0, 80, 429, 22, 9, 65]\n",
            "\n",
            "======== Epoch 9 / 20 ========\n",
            "Training...\n",
            "\n",
            "  Average training loss: 1.12761\n",
            "  Training epcoh took: 0:00:29\n",
            "\n",
            "Running Validation...\n",
            "  Accuracy: 0.52480\n",
            "  Validation took: 0:00:01\n",
            "accuracy:0.5306\n",
            "precision:\t ['0.0941', '0.0000', '0.0000', '0.6748', '0.8697', '0.1822', '0.0968', '0.4106']\n",
            "recall:\t\t ['0.6154', '0.0000', '0.0000', '0.3915', '0.6440', '0.2600', '0.3529', '0.5041']\n",
            "micro_f1: 0.530560\n",
            "각 라벨 별 정답 cnt_list [8, 0, 0, 83, 427, 39, 6, 62]\n",
            "\n",
            "======== Epoch 10 / 20 ========\n",
            "Training...\n",
            "\n",
            "  Average training loss: 1.09912\n",
            "  Training epcoh took: 0:00:29\n",
            "\n",
            "Running Validation...\n",
            "  Accuracy: 0.52271\n",
            "  Validation took: 0:00:01\n",
            "accuracy:0.5272\n",
            "precision:\t ['0.1176', '0.0000', '0.0000', '0.6504', '0.8900', '0.1495', '0.1129', '0.3642']\n",
            "recall:\t\t ['0.4348', '0.0000', '0.0000', '0.3960', '0.6315', '0.2623', '0.1892', '0.5392']\n",
            "micro_f1: 0.527165\n",
            "각 라벨 별 정답 cnt_list [10, 0, 0, 80, 437, 32, 7, 55]\n",
            "\n",
            "======== Epoch 11 / 20 ========\n",
            "Training...\n",
            "\n",
            "  Average training loss: 1.06256\n",
            "  Training epcoh took: 0:00:29\n",
            "\n",
            "Running Validation...\n",
            "  Accuracy: 0.51487\n",
            "  Validation took: 0:00:01\n",
            "accuracy:0.5178\n",
            "precision:\t ['0.1647', '0.0000', '0.0000', '0.6829', '0.8269', '0.1402', '0.1452', '0.4437']\n",
            "recall:\t\t ['0.3333', '0.0000', '0.0000', '0.3962', '0.6612', '0.2290', '0.2368', '0.4752']\n",
            "micro_f1: 0.517827\n",
            "각 라벨 별 정답 cnt_list [14, 0, 0, 84, 406, 30, 9, 67]\n",
            "\n",
            "======== Epoch 12 / 20 ========\n",
            "Training...\n",
            "\n",
            "  Average training loss: 1.04587\n",
            "  Training epcoh took: 0:00:29\n",
            "\n",
            "Running Validation...\n",
            "  Accuracy: 0.51695\n",
            "  Validation took: 0:00:01\n",
            "accuracy:0.5212\n",
            "precision:\t ['0.1176', '0.0000', '0.0000', '0.6667', '0.8167', '0.1729', '0.1290', '0.5033']\n",
            "recall:\t\t ['0.3448', '0.0000', '0.0000', '0.3961', '0.6717', '0.2569', '0.2500', '0.4497']\n",
            "micro_f1: 0.521222\n",
            "각 라벨 별 정답 cnt_list [10, 0, 0, 82, 401, 37, 8, 76]\n",
            "\n",
            "======== Epoch 13 / 20 ========\n",
            "Training...\n",
            "\n",
            "  Average training loss: 1.01762\n",
            "  Training epcoh took: 0:00:29\n",
            "\n",
            "Running Validation...\n",
            "  Accuracy: 0.50873\n",
            "  Validation took: 0:00:01\n",
            "accuracy:0.5127\n",
            "precision:\t ['0.1647', '0.0000', '0.0000', '0.6423', '0.8086', '0.1355', '0.1774', '0.4901']\n",
            "recall:\t\t ['0.2917', '0.0000', '0.0000', '0.3873', '0.6845', '0.2028', '0.2157', '0.4868']\n",
            "micro_f1: 0.512733\n",
            "각 라벨 별 정답 cnt_list [14, 0, 0, 79, 397, 29, 11, 74]\n",
            "\n",
            "======== Epoch 14 / 20 ========\n",
            "Training...\n",
            "\n",
            "  Average training loss: 0.98464\n",
            "  Training epcoh took: 0:00:29\n",
            "\n",
            "Running Validation...\n",
            "  Accuracy: 0.51284\n",
            "  Validation took: 0:00:01\n",
            "accuracy:0.5170\n",
            "precision:\t ['0.1412', '0.0000', '0.0000', '0.6585', '0.8045', '0.1636', '0.1613', '0.5033']\n",
            "recall:\t\t ['0.3529', '0.0000', '0.0000', '0.4010', '0.6741', '0.2397', '0.2857', '0.4343']\n",
            "micro_f1: 0.516978\n",
            "각 라벨 별 정답 cnt_list [12, 0, 0, 81, 395, 35, 10, 76]\n",
            "\n",
            "======== Epoch 15 / 20 ========\n",
            "Training...\n",
            "\n",
            "  Average training loss: 0.97730\n",
            "  Training epcoh took: 0:00:29\n",
            "\n",
            "Running Validation...\n",
            "  Accuracy: 0.50784\n",
            "  Validation took: 0:00:01\n",
            "accuracy:0.5093\n",
            "precision:\t ['0.1529', '0.0000', '0.0000', '0.6504', '0.7862', '0.1963', '0.2097', '0.4371']\n",
            "recall:\t\t ['0.3171', '0.0000', '0.0000', '0.3883', '0.6748', '0.2320', '0.2500', '0.5238']\n",
            "micro_f1: 0.509338\n",
            "각 라벨 별 정답 cnt_list [13, 0, 0, 80, 386, 42, 13, 66]\n",
            "\n",
            "======== Epoch 16 / 20 ========\n",
            "Training...\n",
            "\n",
            "  Average training loss: 0.97190\n",
            "  Training epcoh took: 0:00:29\n",
            "\n",
            "Running Validation...\n",
            "  Accuracy: 0.51202\n",
            "  Validation took: 0:00:01\n",
            "accuracy:0.5161\n",
            "precision:\t ['0.1647', '0.0000', '0.0000', '0.6423', '0.7800', '0.2196', '0.1613', '0.4967']\n",
            "recall:\t\t ['0.2857', '0.0000', '0.0000', '0.4225', '0.6839', '0.2410', '0.2564', '0.5068']\n",
            "micro_f1: 0.516129\n",
            "각 라벨 별 정답 cnt_list [14, 0, 0, 79, 383, 47, 10, 75]\n",
            "\n",
            "======== Epoch 17 / 20 ========\n",
            "Training...\n",
            "\n",
            "  Average training loss: 0.93911\n",
            "  Training epcoh took: 0:00:29\n",
            "\n",
            "Running Validation...\n",
            "  Accuracy: 0.51607\n",
            "  Validation took: 0:00:01\n",
            "accuracy:0.5178\n",
            "precision:\t ['0.1176', '0.0000', '0.0000', '0.6098', '0.7963', '0.2196', '0.2097', '0.4901']\n",
            "recall:\t\t ['0.2439', '0.0000', '0.0000', '0.4190', '0.6824', '0.2423', '0.2766', '0.5139']\n",
            "micro_f1: 0.517827\n",
            "각 라벨 별 정답 cnt_list [10, 0, 0, 75, 391, 47, 13, 74]\n",
            "\n",
            "======== Epoch 18 / 20 ========\n",
            "Training...\n",
            "\n",
            "  Average training loss: 0.92074\n",
            "  Training epcoh took: 0:00:29\n",
            "\n",
            "Running Validation...\n",
            "  Accuracy: 0.51120\n",
            "  Validation took: 0:00:01\n",
            "accuracy:0.5153\n",
            "precision:\t ['0.1412', '0.0000', '0.0000', '0.6179', '0.7963', '0.1916', '0.2097', '0.4901']\n",
            "recall:\t\t ['0.2609', '0.0000', '0.0000', '0.4043', '0.6824', '0.2398', '0.2826', '0.4805']\n",
            "micro_f1: 0.515280\n",
            "각 라벨 별 정답 cnt_list [12, 0, 0, 76, 391, 41, 13, 74]\n",
            "\n",
            "======== Epoch 19 / 20 ========\n",
            "Training...\n",
            "\n",
            "  Average training loss: 0.91405\n",
            "  Training epcoh took: 0:00:29\n",
            "\n",
            "Running Validation...\n",
            "  Accuracy: 0.51196\n",
            "  Validation took: 0:00:01\n",
            "accuracy:0.5136\n",
            "precision:\t ['0.1529', '0.0000', '0.0000', '0.6423', '0.7923', '0.2103', '0.1774', '0.4503']\n",
            "recall:\t\t ['0.2955', '0.0000', '0.0000', '0.4010', '0.6849', '0.2406', '0.2683', '0.4823']\n",
            "micro_f1: 0.513582\n",
            "각 라벨 별 정답 cnt_list [13, 0, 0, 79, 389, 45, 11, 68]\n",
            "\n",
            "======== Epoch 20 / 20 ========\n",
            "Training...\n",
            "\n",
            "  Average training loss: 0.91601\n",
            "  Training epcoh took: 0:00:29\n",
            "\n",
            "Running Validation...\n",
            "  Accuracy: 0.50993\n",
            "  Validation took: 0:00:01\n",
            "accuracy:0.5127\n",
            "precision:\t ['0.1647', '0.0000', '0.0000', '0.6179', '0.7902', '0.2009', '0.1774', '0.4768']\n",
            "recall:\t\t ['0.2917', '0.0000', '0.0000', '0.4043', '0.6867', '0.2324', '0.2500', '0.4865']\n",
            "micro_f1: 0.512733\n",
            "각 라벨 별 정답 cnt_list [14, 0, 0, 76, 388, 43, 11, 72]\n",
            "\n",
            "Training complete!\n"
          ],
          "name": "stdout"
        }
      ]
    },
    {
      "cell_type": "markdown",
      "metadata": {
        "id": "1JKfoqdTbni0"
      },
      "source": [
        "# 평가"
      ]
    },
    {
      "cell_type": "code",
      "metadata": {
        "id": "KB_Nvm-16ohw",
        "colab": {
          "base_uri": "https://localhost:8080/"
        },
        "outputId": "41e30442-7a51-4211-aedf-f5a27d6892d7"
      },
      "source": [
        "#시작 시간 설정\r\n",
        "t0 = time.time()\r\n",
        "\r\n",
        "# 평가모드로 변경\r\n",
        "model.eval()\r\n",
        "\r\n",
        "# 변수 초기화\r\n",
        "f1_score_avg = []\r\n",
        "pred_list, true_list = [], []\r\n",
        "eval_loss, eval_accuracy = 0, 0\r\n",
        "nb_eval_steps, nb_eval_examples = 0, 0\r\n",
        "\r\n",
        "for step, batch in enumerate(test_dataloader):\r\n",
        "    if step % 100 == 0 and not step == 0:\r\n",
        "        elapsed = format_time(time.time() - t0)\r\n",
        "        print('  Batch {:>5,}  of  {:>5,}.    Elapsed: {:}.'.format(step, len(test_dataloader), elapsed))\r\n",
        "\r\n",
        "    batch = tuple(t.to(device) for t in batch)\r\n",
        "    b_input_ids, b_input_mask, b_labels = batch\r\n",
        "    \r\n",
        "    # 그래디언트 계산 안함\r\n",
        "    with torch.no_grad():     \r\n",
        "        # Forward 수행\r\n",
        "        outputs = model(b_input_ids, \r\n",
        "                        token_type_ids=None, \r\n",
        "                        attention_mask=b_input_mask)\r\n",
        "    \r\n",
        "    logits = outputs[0]\r\n",
        "\r\n",
        "    # CPU로 데이터 이동\r\n",
        "    logits = logits.detach().cpu().numpy()\r\n",
        "    label_ids = b_labels.to('cpu').numpy()\r\n",
        "\r\n",
        "    pred_flat = np.argmax(logits, axis=1).flatten()\r\n",
        "    trues_flat = label_ids.flatten()\r\n",
        "    pred_list.extend(pred_flat)\r\n",
        "    true_list.extend(trues_flat)\r\n",
        "    \r\n",
        "    # 출력 로짓과 라벨을 비교하여 정확도 계산\r\n",
        "    tmp_eval_accuracy = flat_accuracy(logits, label_ids)\r\n",
        "    eval_accuracy += tmp_eval_accuracy\r\n",
        "    nb_eval_steps += 1\r\n",
        "\r\n",
        "print(\"\")\r\n",
        "print(\"  Accuracy: {0:.5f}\".format(eval_accuracy/nb_eval_steps))\r\n",
        "print(\"Test took: {:}\".format(format_time(time.time() - t0)))\r\n",
        "print(\"Emotion accuracy\")\r\n",
        "cnt_list = evaluate(pred_list, true_list) # print results\r\n"
      ],
      "execution_count": 29,
      "outputs": [
        {
          "output_type": "stream",
          "text": [
            "\n",
            "  Accuracy: 0.55350\n",
            "Test took: 0:00:01\n",
            "Emotion accuracy\n",
            "accuracy:0.5514\n",
            "precision:\t ['0.1553', '0.0000', '0.0000', '0.6447', '0.7824', '0.2625', '0.2235', '0.4720']\n",
            "recall:\t\t ['0.2874', '0.0000', '0.0000', '0.4336', '0.7250', '0.3149', '0.2065', '0.4608']\n",
            "micro_f1: 0.551375\n",
            "각 라벨 별 정답 cnt_list [25, 0, 0, 196, 1007, 142, 19, 135]\n"
          ],
          "name": "stdout"
        },
        {
          "output_type": "stream",
          "text": [
            "/usr/local/lib/python3.6/dist-packages/sklearn/metrics/_classification.py:1272: UndefinedMetricWarning: Recall is ill-defined and being set to 0.0 in labels with no true samples. Use `zero_division` parameter to control this behavior.\n",
            "  _warn_prf(average, modifier, msg_start, len(result))\n"
          ],
          "name": "stderr"
        }
      ]
    },
    {
      "cell_type": "code",
      "metadata": {
        "colab": {
          "base_uri": "https://localhost:8080/",
          "height": 283
        },
        "id": "fjepMWfRsp6C",
        "outputId": "0411134b-f516-4253-ca76-77f4a5b44255"
      },
      "source": [
        "target_names = ['anger', 'disgust', 'fear', 'joy', 'neutral', 'non-neutral', 'sadness', 'surprise']\r\n",
        "plt.bar(target_names,cnt_list)"
      ],
      "execution_count": 30,
      "outputs": [
        {
          "output_type": "execute_result",
          "data": {
            "text/plain": [
              "<BarContainer object of 8 artists>"
            ]
          },
          "metadata": {
            "tags": []
          },
          "execution_count": 30
        },
        {
          "output_type": "display_data",
          "data": {
            "image/png": "[encoded data removed]",
            "text/plain": [
              "<Figure size 432x288 with 1 Axes>"
            ]
          },
          "metadata": {
            "tags": [],
            "needs_background": "light"
          }
        }
      ]
    },
    {
      "cell_type": "code",
      "metadata": {
        "colab": {
          "base_uri": "https://localhost:8080/",
          "height": 594
        },
        "id": "_LzFXZcCsmXF",
        "outputId": "1c3f4e29-77a2-49eb-d05c-36e981989b05"
      },
      "source": [
        "matrix_evaluate(pred_list, true_list, cnt_list)"
      ],
      "execution_count": 31,
      "outputs": [
        {
          "output_type": "stream",
          "text": [
            "/usr/local/lib/python3.6/dist-packages/sklearn/metrics/_classification.py:1272: UndefinedMetricWarning: Recall and F-score are ill-defined and being set to 0.0 in labels with no true samples. Use `zero_division` parameter to control this behavior.\n",
            "  _warn_prf(average, modifier, msg_start, len(result))\n"
          ],
          "name": "stderr"
        },
        {
          "output_type": "stream",
          "text": [
            "              precision    recall  f1-score   support\n",
            "\n",
            "       anger     0.1553    0.2874    0.2016        87\n",
            "     disgust     0.0000    0.0000    0.0000         0\n",
            "        fear     0.0000    0.0000    0.0000         0\n",
            "         joy     0.6447    0.4336    0.5185       452\n",
            "     neutral     0.7824    0.7250    0.7526      1389\n",
            " non-neutral     0.2625    0.3149    0.2863       451\n",
            "     sadness     0.2235    0.2065    0.2147        92\n",
            "    surprise     0.4720    0.4608    0.4663       293\n",
            "\n",
            "    accuracy                         0.5514      2764\n",
            "   macro avg     0.3176    0.3035    0.3050      2764\n",
            "weighted avg     0.6038    0.5514    0.5726      2764\n",
            "\n"
          ],
          "name": "stdout"
        },
        {
          "output_type": "display_data",
          "data": {
            "image/png": "[encoded data removed]",
            "text/plain": [
              "<Figure size 432x288 with 2 Axes>"
            ]
          },
          "metadata": {
            "tags": [],
            "needs_background": "light"
          }
        }
      ]
    },
    {
      "cell_type": "markdown",
      "metadata": {
        "id": "w_GsRFFbhSwj"
      },
      "source": [
        "# test 결과물"
      ]
    },
    {
      "cell_type": "code",
      "metadata": {
        "id": "_S78N33ohWWl",
        "colab": {
          "base_uri": "https://localhost:8080/"
        },
        "outputId": "0ac22245-9400-443f-aad3-4ab90b3ed353"
      },
      "source": [
        "tmp_test_dataloader = DataLoader(test_df_data, sampler=test_df_sampler, batch_size=1)\r\n",
        "test_result = test_df.copy(deep = True)\r\n",
        "test_result = test_result.drop(columns = ['i_dialog', 'i_utterance', 'speaker'])\r\n",
        "test_result['Predicted'] = 'default'\r\n",
        "classes = [0,1,2,3,4,5,6,7]\r\n",
        "\r\n",
        "encoder = LabelEncoder()\r\n",
        "classes = emotions\r\n",
        "encoder.fit(classes)\r\n",
        "classes = encoder.transform(classes)\r\n",
        "\r\n",
        "#시작 시간 설정\r\n",
        "t0 = time.time()\r\n",
        "\r\n",
        "# 평가모드로 변경\r\n",
        "model.eval()\r\n",
        "\r\n",
        "# 변수 초기화\r\n",
        "nb_eval_steps, nb_eval_examples = 0, 0\r\n",
        "\r\n",
        "# 데이터로더에서 배치만큼 반복하여 가져옴\r\n",
        "for step, batch in enumerate(tmp_test_dataloader):\r\n",
        "    # 경과 정보 표시\r\n",
        "    if step % 100 == 0 and not step == 0:\r\n",
        "        elapsed = format_time(time.time() - t0)\r\n",
        "        print('  Batch {:>5,}  of  {:>5,}.    Elapsed: {:}.'.format(step, len(tmp_test_dataloader), elapsed))\r\n",
        "\r\n",
        "    # 배치를 GPU에 넣음\r\n",
        "    batch = tuple(t.to(device) for t in batch)\r\n",
        "    \r\n",
        "    # 배치에서 데이터 추출\r\n",
        "    b_index, b_input_ids, b_input_mask = batch\r\n",
        "    \r\n",
        "    # 그래디언트 계산 안함\r\n",
        "    with torch.no_grad():     \r\n",
        "        # Forward 수행\r\n",
        "        outputs = model(b_input_ids, \r\n",
        "                        token_type_ids=None, \r\n",
        "                        attention_mask=b_input_mask)\r\n",
        "    \r\n",
        "    # 로스 구함\r\n",
        "    logits = outputs[0]\r\n",
        "\r\n",
        "    # CPU로 데이터 이동\r\n",
        "    logits = logits.detach().cpu().numpy()\r\n",
        "    idx = b_index.item()\r\n",
        "    test_result['Predicted'][idx] = encoder.classes_[np.argmax(logits)]\r\n",
        "    \r\n",
        "\r\n",
        "    nb_eval_steps += 1\r\n",
        "\r\n",
        "print(\"\")\r\n",
        "print(\"Test took: {:}\".format(format_time(time.time() - t0)))\r\n"
      ],
      "execution_count": null,
      "outputs": [
        {
          "output_type": "stream",
          "text": [
            "/usr/local/lib/python3.6/dist-packages/ipykernel_launcher.py:47: SettingWithCopyWarning: \n",
            "A value is trying to be set on a copy of a slice from a DataFrame\n",
            "\n",
            "See the caveats in the documentation: https://pandas.pydata.org/pandas-docs/stable/user_guide/indexing.html#returning-a-view-versus-a-copy\n"
          ],
          "name": "stderr"
        },
        {
          "output_type": "stream",
          "text": [
            "  Batch   100  of  1,623.    Elapsed: 0:00:01.\n",
            "  Batch   200  of  1,623.    Elapsed: 0:00:02.\n",
            "  Batch   300  of  1,623.    Elapsed: 0:00:04.\n",
            "  Batch   400  of  1,623.    Elapsed: 0:00:05.\n",
            "  Batch   500  of  1,623.    Elapsed: 0:00:06.\n",
            "  Batch   600  of  1,623.    Elapsed: 0:00:07.\n",
            "  Batch   700  of  1,623.    Elapsed: 0:00:09.\n",
            "  Batch   800  of  1,623.    Elapsed: 0:00:10.\n",
            "  Batch   900  of  1,623.    Elapsed: 0:00:11.\n",
            "  Batch 1,000  of  1,623.    Elapsed: 0:00:12.\n",
            "  Batch 1,100  of  1,623.    Elapsed: 0:00:13.\n",
            "  Batch 1,200  of  1,623.    Elapsed: 0:00:14.\n",
            "  Batch 1,300  of  1,623.    Elapsed: 0:00:16.\n",
            "  Batch 1,400  of  1,623.    Elapsed: 0:00:17.\n",
            "  Batch 1,500  of  1,623.    Elapsed: 0:00:18.\n",
            "  Batch 1,600  of  1,623.    Elapsed: 0:00:19.\n",
            "\n",
            "Test took: 0:00:19\n"
          ],
          "name": "stdout"
        }
      ]
    },
    {
      "cell_type": "code",
      "metadata": {
        "id": "CtVGAJ3QhWY6",
        "colab": {
          "base_uri": "https://localhost:8080/"
        },
        "outputId": "5ccba89f-191e-433e-9aee-bf5636d6daf8"
      },
      "source": [
        "test_result['Predicted']"
      ],
      "execution_count": null,
      "outputs": [
        {
          "output_type": "execute_result",
          "data": {
            "text/plain": [
              "0           neutral\n",
              "1               joy\n",
              "2             anger\n",
              "3           neutral\n",
              "4       non-neutral\n",
              "           ...     \n",
              "1618        neutral\n",
              "1619            joy\n",
              "1620        neutral\n",
              "1621        neutral\n",
              "1622          anger\n",
              "Name: Predicted, Length: 1623, dtype: object"
            ]
          },
          "metadata": {
            "tags": []
          },
          "execution_count": 45
        }
      ]
    },
    {
      "cell_type": "code",
      "metadata": {
        "id": "9PmG3cdAhWbk",
        "colab": {
          "base_uri": "https://localhost:8080/",
          "height": 419
        },
        "outputId": "f7f7cb03-252f-49cf-a8c9-e85d3cb79b49"
      },
      "source": [
        "test_result"
      ],
      "execution_count": null,
      "outputs": [
        {
          "output_type": "execute_result",
          "data": {
            "text/html": [
              "<div>\n",
              "<style scoped>\n",
              "    .dataframe tbody tr th:only-of-type {\n",
              "        vertical-align: middle;\n",
              "    }\n",
              "\n",
              "    .dataframe tbody tr th {\n",
              "        vertical-align: top;\n",
              "    }\n",
              "\n",
              "    .dataframe thead th {\n",
              "        text-align: right;\n",
              "    }\n",
              "</style>\n",
              "<table border=\"1\" class=\"dataframe\">\n",
              "  <thead>\n",
              "    <tr style=\"text-align: right;\">\n",
              "      <th></th>\n",
              "      <th>id</th>\n",
              "      <th>utterance</th>\n",
              "      <th>Predicted</th>\n",
              "    </tr>\n",
              "  </thead>\n",
              "  <tbody>\n",
              "    <tr>\n",
              "      <th>0</th>\n",
              "      <td>0</td>\n",
              "      <td>Alright, whadyou do with him?</td>\n",
              "      <td>neutral</td>\n",
              "    </tr>\n",
              "    <tr>\n",
              "      <th>1</th>\n",
              "      <td>1</td>\n",
              "      <td>Oh! You're awake!</td>\n",
              "      <td>joy</td>\n",
              "    </tr>\n",
              "    <tr>\n",
              "      <th>2</th>\n",
              "      <td>2</td>\n",
              "      <td>Then you gotta come clean with Ma! This is not...</td>\n",
              "      <td>anger</td>\n",
              "    </tr>\n",
              "    <tr>\n",
              "      <th>3</th>\n",
              "      <td>3</td>\n",
              "      <td>Yeah, but this is</td>\n",
              "      <td>neutral</td>\n",
              "    </tr>\n",
              "    <tr>\n",
              "      <th>4</th>\n",
              "      <td>4</td>\n",
              "      <td>I don't wanna hear it! Now go to my room!</td>\n",
              "      <td>non-neutral</td>\n",
              "    </tr>\n",
              "    <tr>\n",
              "      <th>...</th>\n",
              "      <td>...</td>\n",
              "      <td>...</td>\n",
              "      <td>...</td>\n",
              "    </tr>\n",
              "    <tr>\n",
              "      <th>1618</th>\n",
              "      <td>1618</td>\n",
              "      <td>Nooo.</td>\n",
              "      <td>neutral</td>\n",
              "    </tr>\n",
              "    <tr>\n",
              "      <th>1619</th>\n",
              "      <td>1619</td>\n",
              "      <td>Hi, Kate!</td>\n",
              "      <td>joy</td>\n",
              "    </tr>\n",
              "    <tr>\n",
              "      <th>1620</th>\n",
              "      <td>1620</td>\n",
              "      <td>Hi, Lauren.</td>\n",
              "      <td>neutral</td>\n",
              "    </tr>\n",
              "    <tr>\n",
              "      <th>1621</th>\n",
              "      <td>1621</td>\n",
              "      <td>Hi, Lauren.</td>\n",
              "      <td>neutral</td>\n",
              "    </tr>\n",
              "    <tr>\n",
              "      <th>1622</th>\n",
              "      <td>1622</td>\n",
              "      <td>Hi, pig!</td>\n",
              "      <td>anger</td>\n",
              "    </tr>\n",
              "  </tbody>\n",
              "</table>\n",
              "<p>1623 rows × 3 columns</p>\n",
              "</div>"
            ],
            "text/plain": [
              "        id                                          utterance    Predicted\n",
              "0        0                      Alright, whadyou do with him?      neutral\n",
              "1        1                                  Oh! You're awake!          joy\n",
              "2        2  Then you gotta come clean with Ma! This is not...        anger\n",
              "3        3                                  Yeah, but this is      neutral\n",
              "4        4          I don't wanna hear it! Now go to my room!  non-neutral\n",
              "...    ...                                                ...          ...\n",
              "1618  1618                                              Nooo.      neutral\n",
              "1619  1619                                          Hi, Kate!          joy\n",
              "1620  1620                                        Hi, Lauren.      neutral\n",
              "1621  1621                                        Hi, Lauren.      neutral\n",
              "1622  1622                                           Hi, pig!        anger\n",
              "\n",
              "[1623 rows x 3 columns]"
            ]
          },
          "metadata": {
            "tags": []
          },
          "execution_count": 46
        }
      ]
    },
    {
      "cell_type": "code",
      "metadata": {
        "id": "R2qTHzzshGhq"
      },
      "source": [
        "test_result.drop(labels='utterance', axis=\"columns\", inplace=True)"
      ],
      "execution_count": null,
      "outputs": []
    },
    {
      "cell_type": "code",
      "metadata": {
        "id": "I_lLlP__hacf",
        "colab": {
          "base_uri": "https://localhost:8080/",
          "height": 17
        },
        "outputId": "6c07fb17-2d2f-405b-b038-663512b88260"
      },
      "source": [
        "test_csv = test_result.to_csv('submission_bert_uncase_20.csv', columns=['id', 'Predicted'], index=False)\r\n",
        "from google.colab import files\r\n",
        "\r\n",
        "files.download('submission_bert_uncase_20.csv')"
      ],
      "execution_count": null,
      "outputs": [
        {
          "output_type": "display_data",
          "data": {
            "application/javascript": [
              "\n",
              "    async function download(id, filename, size) {\n",
              "      if (!google.colab.kernel.accessAllowed) {\n",
              "        return;\n",
              "      }\n",
              "      const div = document.createElement('div');\n",
              "      const label = document.createElement('label');\n",
              "      label.textContent = `Downloading \"${filename}\": `;\n",
              "      div.appendChild(label);\n",
              "      const progress = document.createElement('progress');\n",
              "      progress.max = size;\n",
              "      div.appendChild(progress);\n",
              "      document.body.appendChild(div);\n",
              "\n",
              "      const buffers = [];\n",
              "      let downloaded = 0;\n",
              "\n",
              "      const channel = await google.colab.kernel.comms.open(id);\n",
              "      // Send a message to notify the kernel that we're ready.\n",
              "      channel.send({})\n",
              "\n",
              "      for await (const message of channel.messages) {\n",
              "        // Send a message to notify the kernel that we're ready.\n",
              "        channel.send({})\n",
              "        if (message.buffers) {\n",
              "          for (const buffer of message.buffers) {\n",
              "            buffers.push(buffer);\n",
              "            downloaded += buffer.byteLength;\n",
              "            progress.value = downloaded;\n",
              "          }\n",
              "        }\n",
              "      }\n",
              "      const blob = new Blob(buffers, {type: 'application/binary'});\n",
              "      const a = document.createElement('a');\n",
              "      a.href = window.URL.createObjectURL(blob);\n",
              "      a.download = filename;\n",
              "      div.appendChild(a);\n",
              "      a.click();\n",
              "      div.remove();\n",
              "    }\n",
              "  "
            ],
            "text/plain": [
              "<IPython.core.display.Javascript object>"
            ]
          },
          "metadata": {
            "tags": []
          }
        },
        {
          "output_type": "display_data",
          "data": {
            "application/javascript": [
              "download(\"download_7d694564-b55f-4b5a-8c53-65b1cb6d9270\", \"submission_bert_uncase_20.csv\", 20720)"
            ],
            "text/plain": [
              "<IPython.core.display.Javascript object>"
            ]
          },
          "metadata": {
            "tags": []
          }
        }
      ]
    }
  ]
}